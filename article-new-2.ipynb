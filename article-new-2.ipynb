{
 "cells": [
  {
   "cell_type": "code",
   "execution_count": 11,
   "id": "956c8cd9",
   "metadata": {},
   "outputs": [],
   "source": [
    "import pandas as pd\n",
    "import numpy as np\n",
    "import scipy as sp\n",
    "import plotly.express as px"
   ]
  },
  {
   "cell_type": "markdown",
   "id": "f60d2d64",
   "metadata": {
    "tags": [
     "title"
    ]
   },
   "source": [
    "# \"Public opinion should be suspended until further report\": A Data-Assisted Analysis of International Newspaper Coverage of the Explosion of the USS *Maine* (1898)"
   ]
  },
  {
   "cell_type": "markdown",
   "id": "79f5583c",
   "metadata": {
    "tags": [
     "contributor"
    ]
   },
   "source": [
    "### Adán Lerma-Mayer"
   ]
  },
  {
   "cell_type": "markdown",
   "id": "1b4f97b6",
   "metadata": {
    "tags": [
     "contributor"
    ]
   },
   "source": [
    "### Ernesto Priani"
   ]
  },
  {
   "cell_type": "markdown",
   "id": "a164447e",
   "metadata": {
    "heading_collapsed": true,
    "tags": [
     "contributor"
    ]
   },
   "source": [
    "### Marc Priewe"
   ]
  },
  {
   "cell_type": "markdown",
   "id": "fc5a3c51",
   "metadata": {
    "heading_collapsed": true,
    "tags": [
     "title"
    ]
   },
   "source": [
    "## Abstract"
   ]
  },
  {
   "cell_type": "markdown",
   "id": "d23e8223",
   "metadata": {
    "hidden": true,
    "tags": [
     "abstract"
    ]
   },
   "source": [
    "In this paper, we investigate the first week of international newspaper coverage about the armored cruiser USS *Maine* explosion in Havana harbor on February 15, 1898. This event, in part, triggered the Spanish American War, which marked a changing of the imperial guards in the Western Hemisphere at the end of the nineteenth century. Using a selection of digitized newspapers from seven countries and employing statistical methods of quantitative analysis as well as close reading approaches, we take a new and comparative look at the initial coverage of the event from various national perspectives. Our research into the available newspaper data shows how editors molded the information that arrived via news agencies and other newspapers during the first week after the event into reports that added and reflected different biases concerning the explosion for specific national and regional audiences. "
   ]
  },
  {
   "cell_type": "markdown",
   "id": "9a8cdd30",
   "metadata": {
    "hidden": true,
    "tags": [
     "keywords"
    ]
   },
   "source": [
    "Keywords: digital history, transnational journalism studies, opinion-making in newspapers, Spanish American War."
   ]
  },
  {
   "cell_type": "markdown",
   "id": "e6bc1571",
   "metadata": {
    "hidden": true
   },
   "source": [
    "On April 19, 1898, the United States Congress recognized the independence of Cuba and authorized President William McKinley in a joint resolution to remove Spanish armed forces from the island. The ensuing war with Spain over its remaining colonies in the Western Hemisphere, which lasted only a few months, would propel the United States to a center-stage position in the concert of imperial powers at the time. Before this epochal decision in the spring of 1898, the United States had remained officially neutral in the recent resurgences of Cuban military resistance against Spanish colonial oppression, yet increasingly engaged in various ways and degrees in the conflict. Aside from sending contraband weapons to Cuban rebels and engaging in secret diplomacy with Spain, it was especially the incessant reporting in American newspapers about the cruelties and atrocities of Spanish colonial rule that helped the cause of *Cuba Libre* by creating an enemy-image that would later aid in justifying war. <br> \n",
    "Some historians have argued that the press played a central role in the decision of the United States government to enter into war with Spain by providing the necessary propaganda to gin up support for sending American men off to the battlefield (Thomas; Dyal 201; Hendrickson 8). At least since the mid-1890s, parts of the American press had been instrumental in generating enthusiasm for expansionism beyond the nation's territorial boundaries on the heels of *Manifest Destiny*. The emerging yellow press, especially, took up the cause of spreading the narrative of American virtue, duty, and superiority that ultimately justified and demanded military interventions. William Randolph Hearst's *New York Journal* and Joseph Pulitzer's *New York World* were the center of the sensational press and significantly influenced political decisions of the time.<a name=\"cite_ref-1\"></a>[<sup>[1]</sup>](#cite_note-1) The growing conflict between Cuban rebels and Spanish troops partly spurred the rise of yellow journalism in the United States, a topic that New York papers had picked up almost daily since 1895. Relying on the familiar narrative of an underdog seeking liberation from an evil colonial ruler, and often consisting of \"harrowing tales of women victims of Spanish cruelty\" (Brown 93), most of the reports printed in the yellow press showed islanders as victims and the Spanish colonial government as brutal perpetrators of discrimination, oppression, and violence. Rumors and biased reports by the Cuban Junta, a pro-independence organization in New York with close geographic and ideological proximity to the nearby yellow press, often fueled topics and stories at the time (Emmes 14; Perez 28; Secunda and Moran 12-14; Wisan 36-37).<a name=\"cite_ref-2\"></a>[<sup>[2]</sup>](#cite_note-2)  <br>\n",
    "Nevertheless, the exact role of the press in causing the United States to enter into war with Spain is still debated among historians, not least because yellow journalism did not spread widely or evenly across the country (Brown 19, 443; Perez 62, 72). It is safe to assume that American newspapers aided in the rally-around-the-flag effect, an outburst of public sentiment and agreement with the goals of the wartime nation; however, this was not the sole motivator for McKinley to opt for military intervention in Cuba (Offner 24; Spencer/Overholser 150).<a name=\"cite_ref-3\"></a>[<sup>[3]</sup>](#cite_note-3)  Upon closer inspection of the records, historians have provided a more nuanced picture, one that refutes the claim that the yellow press was mainly, if not solely, responsible for driving the United States into war with Spain. George Auxier's research has shown, for instance, that Midwestern newspapers, while maintaining a firm sense of patriotism, were more cautious in calling for war with Spain and quite suspicious of the arrogant nationalism, or jingoism, displayed by the leading New York papers. Spencer and Overholser, in a similar vein, write: \"The dividing line between the Yellow Press of the East and the middle-of-the-road press in the Midwest was quite noticeable in the coverage of the sinking of the U.S. armored cruiser *Maine* in Havana harbor. While the New York press howled for war, the Minnesota press urged caution and contemplation\" (129), and the Kansas press reported similarly (Sylwester). Moreover, as Piero Gleijeses has shown, opposition to the war was quite prominent in (public) opinions expressed in nationwide editorials and in the more general reporting on the events that led up to the war. Not all newspapers subscribed to and re-printed news from Hearst and Pulitzer. Many relied on the more restrained and \"conservative\" reports sold and circulated by the Associated Press (A.P.) or on a combination of several news services (Wilkerson 6-7; Brown 131). At the time, Melville E. Stone, a renowned pacifist who opposed generating enthusiasm for war through the news media, owned the A.P. network. Even though A.P., too, would later send their dispatch boats with reporters to Cuba and other battlefields of the Spanish-American war, their news reporting tended to be more accurate and less geared toward sensationalism than the competing New York yellow papers (Dyal 25). <br>\n",
    "The present study aims to shed further light on the newspaper reporting preceding the decision of the United States to engage militarily in Cuba and other Spanish colonies by studying a collection of digitized newspaper articles from the United States, Spain, Mexico, Germany, the United Kingdom, the Netherlands, and Finland that report on what is generally seen as the pivotal event on the road to the Spanish-American war: the sinking of the USS *Maine* in Havana harbor. The year had begun with violent riots in Havana that received comprehensive coverage in the United States and caused growing concerns over human rights and the protection of American economic interests on the island. As one result, President McKinley sent one of the most modern ships in the navy fleet, the armored cruiser *Maine*, painted in white, on a \"friendly\" visit from Key West to Havana on January 24. Diplomatic tensions between Spain and the United States mounted when news broke on February 9 that a letter by Spanish diplomat Dupuy De Lome had been intercepted by the Cuban *Junta* and published by the New York yellow press in which he denigrated McKinley as weak and cowardly (Wilkerson 92-97). Less than a week later, on February 15, 1898, at 9:40 pm, the *Maine* exploded in Havana harbor, killing 266 men, amounting to two-thirds of the crew. Given the already existing public animosities toward Spain expressed in many newspapers of the day, it was no coincidence that for many, the culprit under whose behest or at least auspices the explosion had taken place was Spain (Perez 62; Blow 170).<a name=\"cite_ref-4\"></a>[<sup>[4]</sup>](#cite_note-4) <br>\n",
    "For our case study, we rely on 1,627 newspaper articles published in seven countries during the first week after the explosion of the *Maine*. In order to extract usable data from the digital newspaper archives available to us, we used several search terms related to the event. We then applied text mining tools and topic-based annotations to compare newspaper reporting on this specific historical event more granularly than previously possible. Since our corpus is based on digitized newspapers from various national archives, we can detect different trends compared to research methods that rely primarily on interpreting editorials from a comparatively small selection of newspapers housed in libraries or archives. Our scalable reading approach consists of a combination of a bird's-eye and a microscopic view of documents (international newspapers) that represent a specific historical event (the explosion of the *Maine*), allowing us to study the attitudes of the press beyond the borders of the American Northeast and its yellow press subsidiaries and the Midwestern papers. This reading approach to digitized newspapers employs close and distant reading methods, enabling one to assess how newspapers reflected and helped mold public opinion in the Western Hemisphere and Europe during the spring of 1898. What we see unfold in the data is how expansionist and anti-expansionist movements found expression in newspaper reporting following the sinking of the *Maine* in virtually all of the countries studied. These two factions quarreled vociferously over the right path of the country in international affairs, especially in the United States. Taking on a remaining, although declining, imperial power such as Spain and potentially having to step in as colonists themselves caused both unease and excitement among American politicians, the broader public, and the media. However, the events in Cuba, Washington, and Madrid were also closely monitored by traditional and aspiring imperial powers, among them (and with varying efforts and degrees) Great Britain, Germany, the Netherlands, and even Cuba's neighbor Mexico (Magaña et al.).<br>\n",
    "We aim to generate further insight into newspaper reporting in these countries by asking the following guiding questions: How did different newspapers in different countries react to the emerging shifts in imperial powers in the Americas that the *Maine* incident seemed to signal? To what extent was this event seen as a sign of war by newspapers in countries with varying interests in a possible conflict between the United States and Spain over Cuba? In addressing these questions, we seek to test a common hypothesis in historical research on the Spanish-American War, namely that \"during the latter part of February, the newspapers seemed to be led gradually to the conclusion that war was inevitable\" (Wilkerson 105). While the *World*, the *Journal*, and their yellow press subsidiaries in the United States did, in fact, pronounce Spain guilty almost immediately, our research shows a more nuanced reaction by the American as well as by the international press in the first week following the sinking of the *Maine*. In the following, we will first outline the selection of primary source material and the methods chosen and developed for the analysis. This includes an assessment of the obstacles we encountered, such as the selection of newspapers in the collection of digitized documents or OCR errors contained in the available data. Then, we provide our reading reports of the press coverage in seven countries involved in the ensuing conflict between Spain and the U.S. to varying degrees. These reports are enhanced by a comparative analysis of opinion-making in the chosen national newspapers based on the data generated from our working corpus. This scalable reading approach is consistently informed by secondary literature on the conflict and the roles and functions that newspapers played at the time.\n",
    "\n"
   ]
  },
  {
   "cell_type": "markdown",
   "id": "d8ba545d",
   "metadata": {
    "heading_collapsed": true
   },
   "source": [
    "## Introduction"
   ]
  },
  {
   "cell_type": "markdown",
   "id": "6698be71",
   "metadata": {
    "hidden": true,
    "tags": [
     "footnotes"
    ]
   },
   "source": [
    "***\n",
    "<a name=\"cite_note-1\"></a> [<sup>[1]</sup>](#cite_ref-1) Yellow journalism was geared to the masses regarding content, language, appearance, and price. Instead of newspaper reports that aimed at objectivity and sobriety, yellow journalism engaged in lavish and extravagant stories with attention-grabbing, large headlines that catered to the interests and financial means of the rising working-class readership in New York. Unlike their traditional competitors, yellow papers also paid staff of journalists, writers, and illustrators of national acclaim to produce fabricated or exaggerated stories packaged as news that would attract readers' attention (Wilkerson 28-54; Brown 16). <br>\n",
    "<a name=\"cite_note-2\"></a> [<sup>[2]</sup>](#cite_ref-2) William Hearst is mainly credited for using his sensationalistic newspaper to create a pro-war public sentiment, at least since 1897, in order to generate profit and to cement his role in the Spanish-American War, which he went so far as to call the \"Journal's war\" (cited in Thomas 266). The imminent war in Cuba energized the competition between Hearst and Pulitzer, in which one not only tried to outdo the other with the latest scoop, but they accused the other paper of slow or false reporting. Both papers also rallied for war in response to the explosion of the *Maine* almost immediately, with Hearst's Journal leading the call to arms (Cooke 65-70). <br>\n",
    "<a name=\"cite_note-3\"></a> [<sup>[3]</sup>](#cite_ref-3) Historians have persistently disagreed over what motivated the United States to begin a war with Spain over Cuba, including the role of the press. In his 1992 study, Offner contends that for the U.S., the war was unavoidable due to the different political goals of the involved actors and necessary because only the United States had the military means to intervene in the colonial war on the island. However, such an exceptionalist view of this chapter in American history leaves out the imperialist and racist assumptions by many in Washington that the Cubans were unfit for self-government (Benjamin). Other studies place the blame on a bellicose (yellow) press catering to public demands for war against the main political and economic interests of the United States (Brown). Perez focuses on the U.S.'s economic developments and business interests concerning Cuba to explain the primary motivations for war. In a more recent study, McCullough highlights the role of Christian nationalism as a driving force behind U.S. expansionism clad as humanitarianism. In addition, the focus of many scholarly approaches has re-centered on McKinley (cf. Hamilton). Michaela Hampf showed how the war was a domestic pressure valve to release several political and social tensions that had become apparent, especially since the economic depression of 1893 (Hampf 378-454). <br>\n",
    "<a name=\"cite_note-4\"></a> [<sup>[4]</sup>](#cite_ref-4) On March 28, 1898, an official investigation by U.S. experts concluded that the sinking of the cruiser had been caused externally by a mine, yet no person or group was made responsible. The wreck of the *Maine* has since been examined numerous times to find the cause of the sinking. While the first report in 1898 (confirmed in 1911) claimed that an external mine was responsible, a re-examination undertaken in 1976 had found the cause to be internal, due to negligence, or by mere accident. In an extensive computer-aided simulation of the available data, *National Geographic Magazine* concluded in 1999 that both causes were possible without providing sufficient evidence for either claim (Fisher)."
   ]
  },
  {
   "cell_type": "markdown",
   "id": "cd510045",
   "metadata": {
    "tags": [
     "hermeneutics"
    ]
   },
   "source": [
    "## Digging into Data: Corpora and Methods"
   ]
  },
  {
   "cell_type": "markdown",
   "id": "37d2b9eb",
   "metadata": {
    "tags": [
     "hermeneutics"
    ]
   },
   "source": [
    "Our exploration of nineteenth-century news reporting is based on a collection of digitized newspapers from ten national databases, which was assembled and clustered by an international research group working on *Oceanic Exchanges: Tracing Global Information Networks in Historical Newspaper Repositories, 1840-1914* (2017-2020). This collection presents opportunities and challenges for scholars researching how newspapers mediated past events to a broader public. On the one hand, the publicly funded digital holdings allow unprecedented access to primary materials housed in archives that had often been too far apart to consult in person. On the other hand, the state and quality of newspaper digitization projects in different countries vary significantly, for instance, concerning the quality of Optical Character Recognition (OCR), the extent of metadata inclusion, or the use of article separation when displaying and downloading individual articles<cite data-cite=\"11997852/TS5DAYJ2\"></cite>(cf. Beals & Bell 2020). Moreover, while some national archives (Finland, the Netherlands, and Australia, for instance) offer all of their available historical newspapers as digital facsimiles, other collections are based on selection criteria that are not always transparent for users, resulting, for instance, in a lack of data from Cuba, from Vienna in the German-language archives or from late-nineteenth-century yellow press newspapers in the corpus of *Chronicling America*. These and other shortcomings in the quality and quantity of the data can potentially lead to skewed results and force researchers to proceed with caution when analyzing and interpreting digitized newspapers as data (cf. Mussell).<br>\n",
    "We then employed data-assisted methods to explore our corpus further. As Miguel Escobar explains, we use data to transform our view of a question or problem with a data-assisted method. It is, in essence, a strategy of defamiliarization from the text in order to generate new perspectives on it. In our case, we take a scalable reading approach that combines traditional close reading practices borrowed from Literary Studies and History with data-assisted, \"distant reading\" (Moretti) approaches that have gained prominence in Digital Humanities research in recent years. We understand \"close reading\" to refer to the detailed analysis of individual newspaper items read by human beings and the manual annotation and interpretation of data provided by information technology. Distant reading is \"a condition of knowledge\" because while it offers a bird's-eye perspective on large data sets that would be impossible to read by a single human being, distant reading also \"allows us to focus on units that are much smaller than the text\" (Moretti 2000), such as specific words and subjects in a heap of news data. This approach enables us to contrast and enrich data processing results with the assumptions we have formed while reading the news reports and the scholarly literature on the *Maine* case.  <br> \n",
    "We gathered our subcorpus of newspaper articles on the explosion from the larger corpus made available through the *Oceanic Exchanges* research consortium. In order to keep the data manageable and to ensure that the bulk of reporting that we aim to compare references the same event, we decided to search for articles published between February 16 and 23, 1898, the time between the explosion and the day when Congress appropriated 50 million dollars to prepare for war with Spain. We later decided to add data for the same time frame from the Spanish newspaper collection provided through the *Hemeroteca Digital de Biblioteca Nacional de España* because Spain was a central protagonist in the controversy around the explosion of the USS *Maine* and the ensuing war and was thus vital for a meaningful investigation of international newspaper coverage of a single event.<br>\n",
    "We also separated the German-language newspapers geographically into those from Germany and Austria-Hungary according to their respective national borders at the time of publication. However, because we only had a statistically insignificant number of articles from Austria-Hungary, and since we lacked access to digitized newspapers from Vienna, we had to exclude this data from our analysis, even though Austria-Hungary played an essential role in the ensuing conflict between Spain and the U.S. given its close familial connections to the Spanish monarchy at the time. <br>\n",
    "Then, we searched for the following words in our working corpus: \"Maine,\" \"USS Maine,\" \"Kruiser,\" \"Explosion\" (in Finnish \"räjähdys\"), Havana, Cuban, and Espanja. Our extensive and multiple keyword searches resulted in 1,627 stories published on the explosion of the Maine during the first week after the event (see figure 1). \n"
   ]
  },
  {
   "cell_type": "code",
   "execution_count": 12,
   "id": "d7260b63",
   "metadata": {
    "tags": [
     "figure-1"
    ]
   },
   "outputs": [
    {
     "data": {
      "text/html": [
       "<div>\n",
       "<style scoped>\n",
       "    .dataframe tbody tr th:only-of-type {\n",
       "        vertical-align: middle;\n",
       "    }\n",
       "\n",
       "    .dataframe tbody tr th {\n",
       "        vertical-align: top;\n",
       "    }\n",
       "\n",
       "    .dataframe thead th {\n",
       "        text-align: right;\n",
       "    }\n",
       "</style>\n",
       "<table border=\"1\" class=\"dataframe\">\n",
       "  <thead>\n",
       "    <tr style=\"text-align: right;\">\n",
       "      <th></th>\n",
       "      <th>Date</th>\n",
       "      <th>Title (Newspaper)</th>\n",
       "      <th>Location</th>\n",
       "      <th>Country</th>\n",
       "      <th>Search term</th>\n",
       "      <th>Text</th>\n",
       "      <th>Language</th>\n",
       "      <th>English Translation \\n=GoogleTranslate(E*; \"auto\"; \"en\")</th>\n",
       "      <th>Corpus</th>\n",
       "      <th>Link</th>\n",
       "      <th>Unnamed: 10</th>\n",
       "      <th>Unnamed: 11</th>\n",
       "      <th>Unnamed: 12</th>\n",
       "      <th>Unnamed: 13</th>\n",
       "      <th>Unnamed: 14</th>\n",
       "      <th>Unnamed: 15</th>\n",
       "    </tr>\n",
       "  </thead>\n",
       "  <tbody>\n",
       "    <tr>\n",
       "      <th>0</th>\n",
       "      <td>02-16-1898</td>\n",
       "      <td>Berliner Tageblatt</td>\n",
       "      <td>Berlin</td>\n",
       "      <td>Germany</td>\n",
       "      <td>USS Maine</td>\n",
       "      <td>Die Nachricht von einer schre «rplofion an ein...</td>\n",
       "      <td>German</td>\n",
       "      <td>The news of a Schre \"rplofion on an American w...</td>\n",
       "      <td>Staatsbibliothek zu Berlin</td>\n",
       "      <td>http://www.theeuropeanlibrary.org/tel4/newspap...</td>\n",
       "      <td>NaN</td>\n",
       "      <td>NaN</td>\n",
       "      <td>NaN</td>\n",
       "      <td>NaN</td>\n",
       "      <td>NaN</td>\n",
       "      <td>NaN</td>\n",
       "    </tr>\n",
       "    <tr>\n",
       "      <th>1</th>\n",
       "      <td>02-16-1898</td>\n",
       "      <td>The Seattle Post-Intelligencer</td>\n",
       "      <td>Seattle</td>\n",
       "      <td>USA</td>\n",
       "      <td>Maine</td>\n",
       "      <td>At Least a Hundred of Her Crew Are Killed or W...</td>\n",
       "      <td>English</td>\n",
       "      <td>At Least a Hundred of Her Crew Are Killed or W...</td>\n",
       "      <td>Chronicling America</td>\n",
       "      <td>https://chroniclingamerica.loc.gov/lccn/sn8304...</td>\n",
       "      <td>NaN</td>\n",
       "      <td>NaN</td>\n",
       "      <td>NaN</td>\n",
       "      <td>NaN</td>\n",
       "      <td>NaN</td>\n",
       "      <td>NaN</td>\n",
       "    </tr>\n",
       "    <tr>\n",
       "      <th>2</th>\n",
       "      <td>02-16-1898</td>\n",
       "      <td>The Topeka State Journal</td>\n",
       "      <td>Topeka KS</td>\n",
       "      <td>USA</td>\n",
       "      <td>Maine</td>\n",
       "      <td>AWFUL HORROR IN THE HARBOR OF HAVANA. Continue...</td>\n",
       "      <td>English</td>\n",
       "      <td>AWFUL HORROR IN THE HARBOR OF HAVANA. Continue...</td>\n",
       "      <td>Chronicling America</td>\n",
       "      <td>https://chroniclingamerica.loc.gov/lccn/sn8201...</td>\n",
       "      <td>NaN</td>\n",
       "      <td>NaN</td>\n",
       "      <td>NaN</td>\n",
       "      <td>NaN</td>\n",
       "      <td>NaN</td>\n",
       "      <td>NaN</td>\n",
       "    </tr>\n",
       "    <tr>\n",
       "      <th>3</th>\n",
       "      <td>02-16-1898</td>\n",
       "      <td>Daily Public Ledger</td>\n",
       "      <td>Marysville KS</td>\n",
       "      <td>USA</td>\n",
       "      <td>Maine</td>\n",
       "      <td>NAVY DISASTER. Terrific Explosion en Beard the...</td>\n",
       "      <td>English</td>\n",
       "      <td>NAVY DISASTER. Terrific Explosion en Beard the...</td>\n",
       "      <td>Chronicling America</td>\n",
       "      <td>https://chroniclingamerica.loc.gov/lccn/sn8606...</td>\n",
       "      <td>NaN</td>\n",
       "      <td>NaN</td>\n",
       "      <td>NaN</td>\n",
       "      <td>NaN</td>\n",
       "      <td>NaN</td>\n",
       "      <td>NaN</td>\n",
       "    </tr>\n",
       "    <tr>\n",
       "      <th>4</th>\n",
       "      <td>02-16-1898</td>\n",
       "      <td>Rock Island Argus</td>\n",
       "      <td>Rock Island IL</td>\n",
       "      <td>USA</td>\n",
       "      <td>Maine</td>\n",
       "      <td>DESTROYED The United States Battleship is Blow...</td>\n",
       "      <td>English</td>\n",
       "      <td>DESTROYED The United States Battleship is Blow...</td>\n",
       "      <td>Chronicling America</td>\n",
       "      <td>https://chroniclingamerica.loc.gov/lccn/sn9205...</td>\n",
       "      <td>NaN</td>\n",
       "      <td>NaN</td>\n",
       "      <td>NaN</td>\n",
       "      <td>NaN</td>\n",
       "      <td>NaN</td>\n",
       "      <td>NaN</td>\n",
       "    </tr>\n",
       "    <tr>\n",
       "      <th>...</th>\n",
       "      <td>...</td>\n",
       "      <td>...</td>\n",
       "      <td>...</td>\n",
       "      <td>...</td>\n",
       "      <td>...</td>\n",
       "      <td>...</td>\n",
       "      <td>...</td>\n",
       "      <td>...</td>\n",
       "      <td>...</td>\n",
       "      <td>...</td>\n",
       "      <td>...</td>\n",
       "      <td>...</td>\n",
       "      <td>...</td>\n",
       "      <td>...</td>\n",
       "      <td>...</td>\n",
       "      <td>...</td>\n",
       "    </tr>\n",
       "    <tr>\n",
       "      <th>1621</th>\n",
       "      <td>02-23-1898</td>\n",
       "      <td>Telegraf</td>\n",
       "      <td>Chicago IL</td>\n",
       "      <td>USA</td>\n",
       "      <td>Maine</td>\n",
       "      <td>\"Le Temps\" o mawia przyczyny eksplozyi na okrƒ...</td>\n",
       "      <td>Polish</td>\n",
       "      <td>\"Le Temps\" says the cause of the eksplozyi okr...</td>\n",
       "      <td>Chronicling America</td>\n",
       "      <td>https://chroniclingamerica.loc.gov/lccn/sn0006...</td>\n",
       "      <td>NaN</td>\n",
       "      <td>NaN</td>\n",
       "      <td>NaN</td>\n",
       "      <td>NaN</td>\n",
       "      <td>NaN</td>\n",
       "      <td>NaN</td>\n",
       "    </tr>\n",
       "    <tr>\n",
       "      <th>1622</th>\n",
       "      <td>02-23-1898</td>\n",
       "      <td>Fergus Falls Ugeblad</td>\n",
       "      <td>Fergus Falls MN</td>\n",
       "      <td>USA</td>\n",
       "      <td>Maine</td>\n",
       "      <td>Det er ikke almindeligt, at Torpe doerne ligge...</td>\n",
       "      <td>German</td>\n",
       "      <td>It is not common for Torpe doerne situated on ...</td>\n",
       "      <td>Chronicling America</td>\n",
       "      <td>https://chroniclingamerica.loc.gov/lccn/sn8302...</td>\n",
       "      <td>NaN</td>\n",
       "      <td>NaN</td>\n",
       "      <td>NaN</td>\n",
       "      <td>NaN</td>\n",
       "      <td>NaN</td>\n",
       "      <td>NaN</td>\n",
       "    </tr>\n",
       "    <tr>\n",
       "      <th>1623</th>\n",
       "      <td>02-23-1898</td>\n",
       "      <td>Fergus Falls Ugeblad</td>\n",
       "      <td>Fergus Falls MN</td>\n",
       "      <td>USA</td>\n",
       "      <td>Maine</td>\n",
       "      <td>De beh√∂ver. Pengene ckbagebetales, om ikle Ba...</td>\n",
       "      <td>German</td>\n",
       "      <td>The beh√∂ver. The money ckbagebetales whether ...</td>\n",
       "      <td>Chronicling America</td>\n",
       "      <td>https://chroniclingamerica.loc.gov/lccn/sn8302...</td>\n",
       "      <td>NaN</td>\n",
       "      <td>NaN</td>\n",
       "      <td>NaN</td>\n",
       "      <td>NaN</td>\n",
       "      <td>NaN</td>\n",
       "      <td>NaN</td>\n",
       "    </tr>\n",
       "    <tr>\n",
       "      <th>1624</th>\n",
       "      <td>02-23-1898</td>\n",
       "      <td>Minnesota Stats Tidning</td>\n",
       "      <td>St. Paul MN</td>\n",
       "      <td>USA</td>\n",
       "      <td>Maine</td>\n",
       "      <td>Af senator Allen inlemnades en resolution, hva...</td>\n",
       "      <td>Swedish</td>\n",
       "      <td>Of Senator Allen inlemnades a resolution, in w...</td>\n",
       "      <td>Chronicling America</td>\n",
       "      <td>https://chroniclingamerica.loc.gov/lccn/sn8304...</td>\n",
       "      <td>NaN</td>\n",
       "      <td>NaN</td>\n",
       "      <td>NaN</td>\n",
       "      <td>NaN</td>\n",
       "      <td>NaN</td>\n",
       "      <td>NaN</td>\n",
       "    </tr>\n",
       "    <tr>\n",
       "      <th>1625</th>\n",
       "      <td>02-23-1898</td>\n",
       "      <td>Minnesota Stats Tidning</td>\n",
       "      <td>St. Paul MN</td>\n",
       "      <td>USA</td>\n",
       "      <td>Maine</td>\n",
       "      <td>Krigsfartyget \"Maine\" Spr√§ngdt 1 luften i Hav...</td>\n",
       "      <td>Swedish</td>\n",
       "      <td>Warship \"Maine\" Spr√§ngdt 1 air in Havana harb...</td>\n",
       "      <td>Chronicling America</td>\n",
       "      <td>https://chroniclingamerica.loc.gov/lccn/sn8304...</td>\n",
       "      <td>NaN</td>\n",
       "      <td>NaN</td>\n",
       "      <td>NaN</td>\n",
       "      <td>NaN</td>\n",
       "      <td>NaN</td>\n",
       "      <td>NaN</td>\n",
       "    </tr>\n",
       "  </tbody>\n",
       "</table>\n",
       "<p>1626 rows × 16 columns</p>\n",
       "</div>"
      ],
      "text/plain": [
       "            Date               Title (Newspaper)         Location  Country  \\\n",
       "0     02-16-1898              Berliner Tageblatt           Berlin  Germany   \n",
       "1     02-16-1898  The Seattle Post-Intelligencer          Seattle      USA   \n",
       "2     02-16-1898        The Topeka State Journal        Topeka KS      USA   \n",
       "3     02-16-1898             Daily Public Ledger    Marysville KS      USA   \n",
       "4     02-16-1898               Rock Island Argus   Rock Island IL      USA   \n",
       "...          ...                             ...              ...      ...   \n",
       "1621  02-23-1898                        Telegraf       Chicago IL      USA   \n",
       "1622  02-23-1898            Fergus Falls Ugeblad  Fergus Falls MN      USA   \n",
       "1623  02-23-1898            Fergus Falls Ugeblad  Fergus Falls MN      USA   \n",
       "1624  02-23-1898         Minnesota Stats Tidning      St. Paul MN      USA   \n",
       "1625  02-23-1898         Minnesota Stats Tidning      St. Paul MN      USA   \n",
       "\n",
       "     Search term                                               Text Language  \\\n",
       "0      USS Maine  Die Nachricht von einer schre «rplofion an ein...   German   \n",
       "1          Maine  At Least a Hundred of Her Crew Are Killed or W...  English   \n",
       "2          Maine  AWFUL HORROR IN THE HARBOR OF HAVANA. Continue...  English   \n",
       "3          Maine  NAVY DISASTER. Terrific Explosion en Beard the...  English   \n",
       "4          Maine  DESTROYED The United States Battleship is Blow...  English   \n",
       "...          ...                                                ...      ...   \n",
       "1621       Maine  \"Le Temps\" o mawia przyczyny eksplozyi na okrƒ...   Polish   \n",
       "1622       Maine  Det er ikke almindeligt, at Torpe doerne ligge...   German   \n",
       "1623       Maine  De beh√∂ver. Pengene ckbagebetales, om ikle Ba...   German   \n",
       "1624       Maine  Af senator Allen inlemnades en resolution, hva...  Swedish   \n",
       "1625       Maine  Krigsfartyget \"Maine\" Spr√§ngdt 1 luften i Hav...  Swedish   \n",
       "\n",
       "     English Translation \\n=GoogleTranslate(E*; \"auto\"; \"en\")  \\\n",
       "0     The news of a Schre \"rplofion on an American w...         \n",
       "1     At Least a Hundred of Her Crew Are Killed or W...         \n",
       "2     AWFUL HORROR IN THE HARBOR OF HAVANA. Continue...         \n",
       "3     NAVY DISASTER. Terrific Explosion en Beard the...         \n",
       "4     DESTROYED The United States Battleship is Blow...         \n",
       "...                                                 ...         \n",
       "1621  \"Le Temps\" says the cause of the eksplozyi okr...         \n",
       "1622  It is not common for Torpe doerne situated on ...         \n",
       "1623  The beh√∂ver. The money ckbagebetales whether ...         \n",
       "1624  Of Senator Allen inlemnades a resolution, in w...         \n",
       "1625  Warship \"Maine\" Spr√§ngdt 1 air in Havana harb...         \n",
       "\n",
       "                          Corpus  \\\n",
       "0     Staatsbibliothek zu Berlin   \n",
       "1            Chronicling America   \n",
       "2            Chronicling America   \n",
       "3            Chronicling America   \n",
       "4            Chronicling America   \n",
       "...                          ...   \n",
       "1621         Chronicling America   \n",
       "1622         Chronicling America   \n",
       "1623         Chronicling America   \n",
       "1624         Chronicling America   \n",
       "1625         Chronicling America   \n",
       "\n",
       "                                                   Link Unnamed: 10  \\\n",
       "0     http://www.theeuropeanlibrary.org/tel4/newspap...         NaN   \n",
       "1     https://chroniclingamerica.loc.gov/lccn/sn8304...         NaN   \n",
       "2     https://chroniclingamerica.loc.gov/lccn/sn8201...         NaN   \n",
       "3     https://chroniclingamerica.loc.gov/lccn/sn8606...         NaN   \n",
       "4     https://chroniclingamerica.loc.gov/lccn/sn9205...         NaN   \n",
       "...                                                 ...         ...   \n",
       "1621  https://chroniclingamerica.loc.gov/lccn/sn0006...         NaN   \n",
       "1622  https://chroniclingamerica.loc.gov/lccn/sn8302...         NaN   \n",
       "1623  https://chroniclingamerica.loc.gov/lccn/sn8302...         NaN   \n",
       "1624  https://chroniclingamerica.loc.gov/lccn/sn8304...         NaN   \n",
       "1625  https://chroniclingamerica.loc.gov/lccn/sn8304...         NaN   \n",
       "\n",
       "      Unnamed: 11  Unnamed: 12  Unnamed: 13  Unnamed: 14 Unnamed: 15  \n",
       "0             NaN          NaN          NaN          NaN         NaN  \n",
       "1             NaN          NaN          NaN          NaN         NaN  \n",
       "2             NaN          NaN          NaN          NaN         NaN  \n",
       "3             NaN          NaN          NaN          NaN         NaN  \n",
       "4             NaN          NaN          NaN          NaN         NaN  \n",
       "...           ...          ...          ...          ...         ...  \n",
       "1621          NaN          NaN          NaN          NaN         NaN  \n",
       "1622          NaN          NaN          NaN          NaN         NaN  \n",
       "1623          NaN          NaN          NaN          NaN         NaN  \n",
       "1624          NaN          NaN          NaN          NaN         NaN  \n",
       "1625          NaN          NaN          NaN          NaN         NaN  \n",
       "\n",
       "[1626 rows x 16 columns]"
      ]
     },
     "execution_count": 12,
     "metadata": {},
     "output_type": "execute_result"
    }
   ],
   "source": [
    "import pandas as pd\n",
    "df = pd.read_csv(\"https://raw.githubusercontent.com/Seydii/USSMaine/Corpus/maine-corpus.csv\")\n",
    "\n",
    "df"
   ]
  },
  {
   "cell_type": "markdown",
   "id": "ef1acaa9",
   "metadata": {},
   "source": [
    "As shown in figure 2, 67.8% of articles during the explosion's first week of reporting came from the United States, 11.1% from Spain, and the remaining 22.6% from the rest of the countries. The imbalance in news coverage can be explained by the relevance of the news to the main actors in the conflict–the United States and Spain–and by the higher number of newspapers published and circulated in the United States at the time. This also implies that the results must be understood within this context of over-representation and frequency of reporting, rather than merely by total numbers."
   ]
  },
  {
   "cell_type": "code",
   "execution_count": 3,
   "id": "4d87d3b6",
   "metadata": {
    "tags": [
     "Piechart",
     "figure-2"
    ]
   },
   "outputs": [
    {
     "ename": "URLError",
     "evalue": "<urlopen error [SSL: CERTIFICATE_VERIFY_FAILED] certificate verify failed: unable to get local issuer certificate (_ssl.c:997)>",
     "output_type": "error",
     "traceback": [
      "\u001b[0;31m---------------------------------------------------------------------------\u001b[0m",
      "\u001b[0;31mSSLCertVerificationError\u001b[0m                  Traceback (most recent call last)",
      "File \u001b[0;32m/Library/Frameworks/Python.framework/Versions/3.10/lib/python3.10/urllib/request.py:1348\u001b[0m, in \u001b[0;36mAbstractHTTPHandler.do_open\u001b[0;34m(self, http_class, req, **http_conn_args)\u001b[0m\n\u001b[1;32m   1347\u001b[0m \u001b[38;5;28;01mtry\u001b[39;00m:\n\u001b[0;32m-> 1348\u001b[0m     \u001b[43mh\u001b[49m\u001b[38;5;241;43m.\u001b[39;49m\u001b[43mrequest\u001b[49m\u001b[43m(\u001b[49m\u001b[43mreq\u001b[49m\u001b[38;5;241;43m.\u001b[39;49m\u001b[43mget_method\u001b[49m\u001b[43m(\u001b[49m\u001b[43m)\u001b[49m\u001b[43m,\u001b[49m\u001b[43m \u001b[49m\u001b[43mreq\u001b[49m\u001b[38;5;241;43m.\u001b[39;49m\u001b[43mselector\u001b[49m\u001b[43m,\u001b[49m\u001b[43m \u001b[49m\u001b[43mreq\u001b[49m\u001b[38;5;241;43m.\u001b[39;49m\u001b[43mdata\u001b[49m\u001b[43m,\u001b[49m\u001b[43m \u001b[49m\u001b[43mheaders\u001b[49m\u001b[43m,\u001b[49m\n\u001b[1;32m   1349\u001b[0m \u001b[43m              \u001b[49m\u001b[43mencode_chunked\u001b[49m\u001b[38;5;241;43m=\u001b[39;49m\u001b[43mreq\u001b[49m\u001b[38;5;241;43m.\u001b[39;49m\u001b[43mhas_header\u001b[49m\u001b[43m(\u001b[49m\u001b[38;5;124;43m'\u001b[39;49m\u001b[38;5;124;43mTransfer-encoding\u001b[39;49m\u001b[38;5;124;43m'\u001b[39;49m\u001b[43m)\u001b[49m\u001b[43m)\u001b[49m\n\u001b[1;32m   1350\u001b[0m \u001b[38;5;28;01mexcept\u001b[39;00m \u001b[38;5;167;01mOSError\u001b[39;00m \u001b[38;5;28;01mas\u001b[39;00m err: \u001b[38;5;66;03m# timeout error\u001b[39;00m\n",
      "File \u001b[0;32m/Library/Frameworks/Python.framework/Versions/3.10/lib/python3.10/http/client.py:1282\u001b[0m, in \u001b[0;36mHTTPConnection.request\u001b[0;34m(self, method, url, body, headers, encode_chunked)\u001b[0m\n\u001b[1;32m   1281\u001b[0m \u001b[38;5;124;03m\"\"\"Send a complete request to the server.\"\"\"\u001b[39;00m\n\u001b[0;32m-> 1282\u001b[0m \u001b[38;5;28;43mself\u001b[39;49m\u001b[38;5;241;43m.\u001b[39;49m\u001b[43m_send_request\u001b[49m\u001b[43m(\u001b[49m\u001b[43mmethod\u001b[49m\u001b[43m,\u001b[49m\u001b[43m \u001b[49m\u001b[43murl\u001b[49m\u001b[43m,\u001b[49m\u001b[43m \u001b[49m\u001b[43mbody\u001b[49m\u001b[43m,\u001b[49m\u001b[43m \u001b[49m\u001b[43mheaders\u001b[49m\u001b[43m,\u001b[49m\u001b[43m \u001b[49m\u001b[43mencode_chunked\u001b[49m\u001b[43m)\u001b[49m\n",
      "File \u001b[0;32m/Library/Frameworks/Python.framework/Versions/3.10/lib/python3.10/http/client.py:1328\u001b[0m, in \u001b[0;36mHTTPConnection._send_request\u001b[0;34m(self, method, url, body, headers, encode_chunked)\u001b[0m\n\u001b[1;32m   1327\u001b[0m     body \u001b[38;5;241m=\u001b[39m _encode(body, \u001b[38;5;124m'\u001b[39m\u001b[38;5;124mbody\u001b[39m\u001b[38;5;124m'\u001b[39m)\n\u001b[0;32m-> 1328\u001b[0m \u001b[38;5;28;43mself\u001b[39;49m\u001b[38;5;241;43m.\u001b[39;49m\u001b[43mendheaders\u001b[49m\u001b[43m(\u001b[49m\u001b[43mbody\u001b[49m\u001b[43m,\u001b[49m\u001b[43m \u001b[49m\u001b[43mencode_chunked\u001b[49m\u001b[38;5;241;43m=\u001b[39;49m\u001b[43mencode_chunked\u001b[49m\u001b[43m)\u001b[49m\n",
      "File \u001b[0;32m/Library/Frameworks/Python.framework/Versions/3.10/lib/python3.10/http/client.py:1277\u001b[0m, in \u001b[0;36mHTTPConnection.endheaders\u001b[0;34m(self, message_body, encode_chunked)\u001b[0m\n\u001b[1;32m   1276\u001b[0m     \u001b[38;5;28;01mraise\u001b[39;00m CannotSendHeader()\n\u001b[0;32m-> 1277\u001b[0m \u001b[38;5;28;43mself\u001b[39;49m\u001b[38;5;241;43m.\u001b[39;49m\u001b[43m_send_output\u001b[49m\u001b[43m(\u001b[49m\u001b[43mmessage_body\u001b[49m\u001b[43m,\u001b[49m\u001b[43m \u001b[49m\u001b[43mencode_chunked\u001b[49m\u001b[38;5;241;43m=\u001b[39;49m\u001b[43mencode_chunked\u001b[49m\u001b[43m)\u001b[49m\n",
      "File \u001b[0;32m/Library/Frameworks/Python.framework/Versions/3.10/lib/python3.10/http/client.py:1037\u001b[0m, in \u001b[0;36mHTTPConnection._send_output\u001b[0;34m(self, message_body, encode_chunked)\u001b[0m\n\u001b[1;32m   1036\u001b[0m \u001b[38;5;28;01mdel\u001b[39;00m \u001b[38;5;28mself\u001b[39m\u001b[38;5;241m.\u001b[39m_buffer[:]\n\u001b[0;32m-> 1037\u001b[0m \u001b[38;5;28;43mself\u001b[39;49m\u001b[38;5;241;43m.\u001b[39;49m\u001b[43msend\u001b[49m\u001b[43m(\u001b[49m\u001b[43mmsg\u001b[49m\u001b[43m)\u001b[49m\n\u001b[1;32m   1039\u001b[0m \u001b[38;5;28;01mif\u001b[39;00m message_body \u001b[38;5;129;01mis\u001b[39;00m \u001b[38;5;129;01mnot\u001b[39;00m \u001b[38;5;28;01mNone\u001b[39;00m:\n\u001b[1;32m   1040\u001b[0m \n\u001b[1;32m   1041\u001b[0m     \u001b[38;5;66;03m# create a consistent interface to message_body\u001b[39;00m\n",
      "File \u001b[0;32m/Library/Frameworks/Python.framework/Versions/3.10/lib/python3.10/http/client.py:975\u001b[0m, in \u001b[0;36mHTTPConnection.send\u001b[0;34m(self, data)\u001b[0m\n\u001b[1;32m    974\u001b[0m \u001b[38;5;28;01mif\u001b[39;00m \u001b[38;5;28mself\u001b[39m\u001b[38;5;241m.\u001b[39mauto_open:\n\u001b[0;32m--> 975\u001b[0m     \u001b[38;5;28;43mself\u001b[39;49m\u001b[38;5;241;43m.\u001b[39;49m\u001b[43mconnect\u001b[49m\u001b[43m(\u001b[49m\u001b[43m)\u001b[49m\n\u001b[1;32m    976\u001b[0m \u001b[38;5;28;01melse\u001b[39;00m:\n",
      "File \u001b[0;32m/Library/Frameworks/Python.framework/Versions/3.10/lib/python3.10/http/client.py:1454\u001b[0m, in \u001b[0;36mHTTPSConnection.connect\u001b[0;34m(self)\u001b[0m\n\u001b[1;32m   1452\u001b[0m     server_hostname \u001b[38;5;241m=\u001b[39m \u001b[38;5;28mself\u001b[39m\u001b[38;5;241m.\u001b[39mhost\n\u001b[0;32m-> 1454\u001b[0m \u001b[38;5;28mself\u001b[39m\u001b[38;5;241m.\u001b[39msock \u001b[38;5;241m=\u001b[39m \u001b[38;5;28;43mself\u001b[39;49m\u001b[38;5;241;43m.\u001b[39;49m\u001b[43m_context\u001b[49m\u001b[38;5;241;43m.\u001b[39;49m\u001b[43mwrap_socket\u001b[49m\u001b[43m(\u001b[49m\u001b[38;5;28;43mself\u001b[39;49m\u001b[38;5;241;43m.\u001b[39;49m\u001b[43msock\u001b[49m\u001b[43m,\u001b[49m\n\u001b[1;32m   1455\u001b[0m \u001b[43m                                      \u001b[49m\u001b[43mserver_hostname\u001b[49m\u001b[38;5;241;43m=\u001b[39;49m\u001b[43mserver_hostname\u001b[49m\u001b[43m)\u001b[49m\n",
      "File \u001b[0;32m/Library/Frameworks/Python.framework/Versions/3.10/lib/python3.10/ssl.py:513\u001b[0m, in \u001b[0;36mSSLContext.wrap_socket\u001b[0;34m(self, sock, server_side, do_handshake_on_connect, suppress_ragged_eofs, server_hostname, session)\u001b[0m\n\u001b[1;32m    507\u001b[0m \u001b[38;5;28;01mdef\u001b[39;00m \u001b[38;5;21mwrap_socket\u001b[39m(\u001b[38;5;28mself\u001b[39m, sock, server_side\u001b[38;5;241m=\u001b[39m\u001b[38;5;28;01mFalse\u001b[39;00m,\n\u001b[1;32m    508\u001b[0m                 do_handshake_on_connect\u001b[38;5;241m=\u001b[39m\u001b[38;5;28;01mTrue\u001b[39;00m,\n\u001b[1;32m    509\u001b[0m                 suppress_ragged_eofs\u001b[38;5;241m=\u001b[39m\u001b[38;5;28;01mTrue\u001b[39;00m,\n\u001b[1;32m    510\u001b[0m                 server_hostname\u001b[38;5;241m=\u001b[39m\u001b[38;5;28;01mNone\u001b[39;00m, session\u001b[38;5;241m=\u001b[39m\u001b[38;5;28;01mNone\u001b[39;00m):\n\u001b[1;32m    511\u001b[0m     \u001b[38;5;66;03m# SSLSocket class handles server_hostname encoding before it calls\u001b[39;00m\n\u001b[1;32m    512\u001b[0m     \u001b[38;5;66;03m# ctx._wrap_socket()\u001b[39;00m\n\u001b[0;32m--> 513\u001b[0m     \u001b[38;5;28;01mreturn\u001b[39;00m \u001b[38;5;28;43mself\u001b[39;49m\u001b[38;5;241;43m.\u001b[39;49m\u001b[43msslsocket_class\u001b[49m\u001b[38;5;241;43m.\u001b[39;49m\u001b[43m_create\u001b[49m\u001b[43m(\u001b[49m\n\u001b[1;32m    514\u001b[0m \u001b[43m        \u001b[49m\u001b[43msock\u001b[49m\u001b[38;5;241;43m=\u001b[39;49m\u001b[43msock\u001b[49m\u001b[43m,\u001b[49m\n\u001b[1;32m    515\u001b[0m \u001b[43m        \u001b[49m\u001b[43mserver_side\u001b[49m\u001b[38;5;241;43m=\u001b[39;49m\u001b[43mserver_side\u001b[49m\u001b[43m,\u001b[49m\n\u001b[1;32m    516\u001b[0m \u001b[43m        \u001b[49m\u001b[43mdo_handshake_on_connect\u001b[49m\u001b[38;5;241;43m=\u001b[39;49m\u001b[43mdo_handshake_on_connect\u001b[49m\u001b[43m,\u001b[49m\n\u001b[1;32m    517\u001b[0m \u001b[43m        \u001b[49m\u001b[43msuppress_ragged_eofs\u001b[49m\u001b[38;5;241;43m=\u001b[39;49m\u001b[43msuppress_ragged_eofs\u001b[49m\u001b[43m,\u001b[49m\n\u001b[1;32m    518\u001b[0m \u001b[43m        \u001b[49m\u001b[43mserver_hostname\u001b[49m\u001b[38;5;241;43m=\u001b[39;49m\u001b[43mserver_hostname\u001b[49m\u001b[43m,\u001b[49m\n\u001b[1;32m    519\u001b[0m \u001b[43m        \u001b[49m\u001b[43mcontext\u001b[49m\u001b[38;5;241;43m=\u001b[39;49m\u001b[38;5;28;43mself\u001b[39;49m\u001b[43m,\u001b[49m\n\u001b[1;32m    520\u001b[0m \u001b[43m        \u001b[49m\u001b[43msession\u001b[49m\u001b[38;5;241;43m=\u001b[39;49m\u001b[43msession\u001b[49m\n\u001b[1;32m    521\u001b[0m \u001b[43m    \u001b[49m\u001b[43m)\u001b[49m\n",
      "File \u001b[0;32m/Library/Frameworks/Python.framework/Versions/3.10/lib/python3.10/ssl.py:1071\u001b[0m, in \u001b[0;36mSSLSocket._create\u001b[0;34m(cls, sock, server_side, do_handshake_on_connect, suppress_ragged_eofs, server_hostname, context, session)\u001b[0m\n\u001b[1;32m   1070\u001b[0m             \u001b[38;5;28;01mraise\u001b[39;00m \u001b[38;5;167;01mValueError\u001b[39;00m(\u001b[38;5;124m\"\u001b[39m\u001b[38;5;124mdo_handshake_on_connect should not be specified for non-blocking sockets\u001b[39m\u001b[38;5;124m\"\u001b[39m)\n\u001b[0;32m-> 1071\u001b[0m         \u001b[38;5;28;43mself\u001b[39;49m\u001b[38;5;241;43m.\u001b[39;49m\u001b[43mdo_handshake\u001b[49m\u001b[43m(\u001b[49m\u001b[43m)\u001b[49m\n\u001b[1;32m   1072\u001b[0m \u001b[38;5;28;01mexcept\u001b[39;00m (\u001b[38;5;167;01mOSError\u001b[39;00m, \u001b[38;5;167;01mValueError\u001b[39;00m):\n",
      "File \u001b[0;32m/Library/Frameworks/Python.framework/Versions/3.10/lib/python3.10/ssl.py:1342\u001b[0m, in \u001b[0;36mSSLSocket.do_handshake\u001b[0;34m(self, block)\u001b[0m\n\u001b[1;32m   1341\u001b[0m         \u001b[38;5;28mself\u001b[39m\u001b[38;5;241m.\u001b[39msettimeout(\u001b[38;5;28;01mNone\u001b[39;00m)\n\u001b[0;32m-> 1342\u001b[0m     \u001b[38;5;28;43mself\u001b[39;49m\u001b[38;5;241;43m.\u001b[39;49m\u001b[43m_sslobj\u001b[49m\u001b[38;5;241;43m.\u001b[39;49m\u001b[43mdo_handshake\u001b[49m\u001b[43m(\u001b[49m\u001b[43m)\u001b[49m\n\u001b[1;32m   1343\u001b[0m \u001b[38;5;28;01mfinally\u001b[39;00m:\n",
      "\u001b[0;31mSSLCertVerificationError\u001b[0m: [SSL: CERTIFICATE_VERIFY_FAILED] certificate verify failed: unable to get local issuer certificate (_ssl.c:997)",
      "\nDuring handling of the above exception, another exception occurred:\n",
      "\u001b[0;31mURLError\u001b[0m                                  Traceback (most recent call last)",
      "Cell \u001b[0;32mIn [3], line 2\u001b[0m\n\u001b[1;32m      1\u001b[0m \u001b[38;5;28;01mimport\u001b[39;00m \u001b[38;5;21;01mpandas\u001b[39;00m \u001b[38;5;28;01mas\u001b[39;00m \u001b[38;5;21;01mpd\u001b[39;00m\n\u001b[0;32m----> 2\u001b[0m df \u001b[38;5;241m=\u001b[39m \u001b[43mpd\u001b[49m\u001b[38;5;241;43m.\u001b[39;49m\u001b[43mread_csv\u001b[49m\u001b[43m(\u001b[49m\u001b[38;5;124;43m\"\u001b[39;49m\u001b[38;5;124;43mhttps://raw.githubusercontent.com/mpriewe/repo_article_maine/main/script/Figure\u001b[39;49m\u001b[38;5;124;43m%\u001b[39;49m\u001b[38;5;124;43m202.csv\u001b[39;49m\u001b[38;5;124;43m\"\u001b[39;49m\u001b[43m)\u001b[49m\n\u001b[1;32m      4\u001b[0m fig \u001b[38;5;241m=\u001b[39m px\u001b[38;5;241m.\u001b[39mpie(df, names \u001b[38;5;241m=\u001b[39m \u001b[38;5;124m\"\u001b[39m\u001b[38;5;124mCountry\u001b[39m\u001b[38;5;124m\"\u001b[39m,\n\u001b[1;32m      5\u001b[0m              values \u001b[38;5;241m=\u001b[39m\u001b[38;5;124m\"\u001b[39m\u001b[38;5;124mNo. of newstories\u001b[39m\u001b[38;5;124m\"\u001b[39m,\n\u001b[1;32m      6\u001b[0m              title\u001b[38;5;241m=\u001b[39m\u001b[38;5;124m'\u001b[39m\u001b[38;5;124mDistribution of news reports on the Maine explosion by country\u001b[39m\u001b[38;5;124m'\u001b[39m,\n\u001b[1;32m      7\u001b[0m              labels \u001b[38;5;241m=\u001b[39m {\u001b[38;5;124m\"\u001b[39m\u001b[38;5;124mnames\u001b[39m\u001b[38;5;124m\"\u001b[39m :[\u001b[38;5;124m\"\u001b[39m\u001b[38;5;124mSpain\u001b[39m\u001b[38;5;124m\"\u001b[39m,\u001b[38;5;124m\"\u001b[39m\u001b[38;5;124mUSA\u001b[39m\u001b[38;5;124m\"\u001b[39m,\u001b[38;5;124m\"\u001b[39m\u001b[38;5;124mGermany\u001b[39m\u001b[38;5;124m\"\u001b[39m,\u001b[38;5;124m\"\u001b[39m\u001b[38;5;124mMexico\u001b[39m\u001b[38;5;124m\"\u001b[39m,\u001b[38;5;124m\"\u001b[39m\u001b[38;5;124mFinland\u001b[39m\u001b[38;5;124m\"\u001b[39m,\u001b[38;5;124m\"\u001b[39m\u001b[38;5;124mUK\u001b[39m\u001b[38;5;124m\"\u001b[39m,\u001b[38;5;124m\"\u001b[39m\u001b[38;5;124mNetherlands\u001b[39m\u001b[38;5;124m\"\u001b[39m]})\n\u001b[1;32m      8\u001b[0m fig\u001b[38;5;241m.\u001b[39mupdate_traces(textposition\u001b[38;5;241m=\u001b[39m\u001b[38;5;124m'\u001b[39m\u001b[38;5;124minside\u001b[39m\u001b[38;5;124m'\u001b[39m, textinfo\u001b[38;5;241m=\u001b[39m\u001b[38;5;124m'\u001b[39m\u001b[38;5;124mpercent+label\u001b[39m\u001b[38;5;124m'\u001b[39m)\n",
      "File \u001b[0;32m~/jupyter/lib/python3.10/site-packages/pandas/util/_decorators.py:211\u001b[0m, in \u001b[0;36mdeprecate_kwarg.<locals>._deprecate_kwarg.<locals>.wrapper\u001b[0;34m(*args, **kwargs)\u001b[0m\n\u001b[1;32m    209\u001b[0m     \u001b[38;5;28;01melse\u001b[39;00m:\n\u001b[1;32m    210\u001b[0m         kwargs[new_arg_name] \u001b[38;5;241m=\u001b[39m new_arg_value\n\u001b[0;32m--> 211\u001b[0m \u001b[38;5;28;01mreturn\u001b[39;00m \u001b[43mfunc\u001b[49m\u001b[43m(\u001b[49m\u001b[38;5;241;43m*\u001b[39;49m\u001b[43margs\u001b[49m\u001b[43m,\u001b[49m\u001b[43m \u001b[49m\u001b[38;5;241;43m*\u001b[39;49m\u001b[38;5;241;43m*\u001b[39;49m\u001b[43mkwargs\u001b[49m\u001b[43m)\u001b[49m\n",
      "File \u001b[0;32m~/jupyter/lib/python3.10/site-packages/pandas/util/_decorators.py:317\u001b[0m, in \u001b[0;36mdeprecate_nonkeyword_arguments.<locals>.decorate.<locals>.wrapper\u001b[0;34m(*args, **kwargs)\u001b[0m\n\u001b[1;32m    311\u001b[0m \u001b[38;5;28;01mif\u001b[39;00m \u001b[38;5;28mlen\u001b[39m(args) \u001b[38;5;241m>\u001b[39m num_allow_args:\n\u001b[1;32m    312\u001b[0m     warnings\u001b[38;5;241m.\u001b[39mwarn(\n\u001b[1;32m    313\u001b[0m         msg\u001b[38;5;241m.\u001b[39mformat(arguments\u001b[38;5;241m=\u001b[39marguments),\n\u001b[1;32m    314\u001b[0m         \u001b[38;5;167;01mFutureWarning\u001b[39;00m,\n\u001b[1;32m    315\u001b[0m         stacklevel\u001b[38;5;241m=\u001b[39mfind_stack_level(inspect\u001b[38;5;241m.\u001b[39mcurrentframe()),\n\u001b[1;32m    316\u001b[0m     )\n\u001b[0;32m--> 317\u001b[0m \u001b[38;5;28;01mreturn\u001b[39;00m \u001b[43mfunc\u001b[49m\u001b[43m(\u001b[49m\u001b[38;5;241;43m*\u001b[39;49m\u001b[43margs\u001b[49m\u001b[43m,\u001b[49m\u001b[43m \u001b[49m\u001b[38;5;241;43m*\u001b[39;49m\u001b[38;5;241;43m*\u001b[39;49m\u001b[43mkwargs\u001b[49m\u001b[43m)\u001b[49m\n",
      "File \u001b[0;32m~/jupyter/lib/python3.10/site-packages/pandas/io/parsers/readers.py:950\u001b[0m, in \u001b[0;36mread_csv\u001b[0;34m(filepath_or_buffer, sep, delimiter, header, names, index_col, usecols, squeeze, prefix, mangle_dupe_cols, dtype, engine, converters, true_values, false_values, skipinitialspace, skiprows, skipfooter, nrows, na_values, keep_default_na, na_filter, verbose, skip_blank_lines, parse_dates, infer_datetime_format, keep_date_col, date_parser, dayfirst, cache_dates, iterator, chunksize, compression, thousands, decimal, lineterminator, quotechar, quoting, doublequote, escapechar, comment, encoding, encoding_errors, dialect, error_bad_lines, warn_bad_lines, on_bad_lines, delim_whitespace, low_memory, memory_map, float_precision, storage_options)\u001b[0m\n\u001b[1;32m    935\u001b[0m kwds_defaults \u001b[38;5;241m=\u001b[39m _refine_defaults_read(\n\u001b[1;32m    936\u001b[0m     dialect,\n\u001b[1;32m    937\u001b[0m     delimiter,\n\u001b[0;32m   (...)\u001b[0m\n\u001b[1;32m    946\u001b[0m     defaults\u001b[38;5;241m=\u001b[39m{\u001b[38;5;124m\"\u001b[39m\u001b[38;5;124mdelimiter\u001b[39m\u001b[38;5;124m\"\u001b[39m: \u001b[38;5;124m\"\u001b[39m\u001b[38;5;124m,\u001b[39m\u001b[38;5;124m\"\u001b[39m},\n\u001b[1;32m    947\u001b[0m )\n\u001b[1;32m    948\u001b[0m kwds\u001b[38;5;241m.\u001b[39mupdate(kwds_defaults)\n\u001b[0;32m--> 950\u001b[0m \u001b[38;5;28;01mreturn\u001b[39;00m \u001b[43m_read\u001b[49m\u001b[43m(\u001b[49m\u001b[43mfilepath_or_buffer\u001b[49m\u001b[43m,\u001b[49m\u001b[43m \u001b[49m\u001b[43mkwds\u001b[49m\u001b[43m)\u001b[49m\n",
      "File \u001b[0;32m~/jupyter/lib/python3.10/site-packages/pandas/io/parsers/readers.py:605\u001b[0m, in \u001b[0;36m_read\u001b[0;34m(filepath_or_buffer, kwds)\u001b[0m\n\u001b[1;32m    602\u001b[0m _validate_names(kwds\u001b[38;5;241m.\u001b[39mget(\u001b[38;5;124m\"\u001b[39m\u001b[38;5;124mnames\u001b[39m\u001b[38;5;124m\"\u001b[39m, \u001b[38;5;28;01mNone\u001b[39;00m))\n\u001b[1;32m    604\u001b[0m \u001b[38;5;66;03m# Create the parser.\u001b[39;00m\n\u001b[0;32m--> 605\u001b[0m parser \u001b[38;5;241m=\u001b[39m \u001b[43mTextFileReader\u001b[49m\u001b[43m(\u001b[49m\u001b[43mfilepath_or_buffer\u001b[49m\u001b[43m,\u001b[49m\u001b[43m \u001b[49m\u001b[38;5;241;43m*\u001b[39;49m\u001b[38;5;241;43m*\u001b[39;49m\u001b[43mkwds\u001b[49m\u001b[43m)\u001b[49m\n\u001b[1;32m    607\u001b[0m \u001b[38;5;28;01mif\u001b[39;00m chunksize \u001b[38;5;129;01mor\u001b[39;00m iterator:\n\u001b[1;32m    608\u001b[0m     \u001b[38;5;28;01mreturn\u001b[39;00m parser\n",
      "File \u001b[0;32m~/jupyter/lib/python3.10/site-packages/pandas/io/parsers/readers.py:1442\u001b[0m, in \u001b[0;36mTextFileReader.__init__\u001b[0;34m(self, f, engine, **kwds)\u001b[0m\n\u001b[1;32m   1439\u001b[0m     \u001b[38;5;28mself\u001b[39m\u001b[38;5;241m.\u001b[39moptions[\u001b[38;5;124m\"\u001b[39m\u001b[38;5;124mhas_index_names\u001b[39m\u001b[38;5;124m\"\u001b[39m] \u001b[38;5;241m=\u001b[39m kwds[\u001b[38;5;124m\"\u001b[39m\u001b[38;5;124mhas_index_names\u001b[39m\u001b[38;5;124m\"\u001b[39m]\n\u001b[1;32m   1441\u001b[0m \u001b[38;5;28mself\u001b[39m\u001b[38;5;241m.\u001b[39mhandles: IOHandles \u001b[38;5;241m|\u001b[39m \u001b[38;5;28;01mNone\u001b[39;00m \u001b[38;5;241m=\u001b[39m \u001b[38;5;28;01mNone\u001b[39;00m\n\u001b[0;32m-> 1442\u001b[0m \u001b[38;5;28mself\u001b[39m\u001b[38;5;241m.\u001b[39m_engine \u001b[38;5;241m=\u001b[39m \u001b[38;5;28;43mself\u001b[39;49m\u001b[38;5;241;43m.\u001b[39;49m\u001b[43m_make_engine\u001b[49m\u001b[43m(\u001b[49m\u001b[43mf\u001b[49m\u001b[43m,\u001b[49m\u001b[43m \u001b[49m\u001b[38;5;28;43mself\u001b[39;49m\u001b[38;5;241;43m.\u001b[39;49m\u001b[43mengine\u001b[49m\u001b[43m)\u001b[49m\n",
      "File \u001b[0;32m~/jupyter/lib/python3.10/site-packages/pandas/io/parsers/readers.py:1729\u001b[0m, in \u001b[0;36mTextFileReader._make_engine\u001b[0;34m(self, f, engine)\u001b[0m\n\u001b[1;32m   1727\u001b[0m     is_text \u001b[38;5;241m=\u001b[39m \u001b[38;5;28;01mFalse\u001b[39;00m\n\u001b[1;32m   1728\u001b[0m     mode \u001b[38;5;241m=\u001b[39m \u001b[38;5;124m\"\u001b[39m\u001b[38;5;124mrb\u001b[39m\u001b[38;5;124m\"\u001b[39m\n\u001b[0;32m-> 1729\u001b[0m \u001b[38;5;28mself\u001b[39m\u001b[38;5;241m.\u001b[39mhandles \u001b[38;5;241m=\u001b[39m \u001b[43mget_handle\u001b[49m\u001b[43m(\u001b[49m\n\u001b[1;32m   1730\u001b[0m \u001b[43m    \u001b[49m\u001b[43mf\u001b[49m\u001b[43m,\u001b[49m\n\u001b[1;32m   1731\u001b[0m \u001b[43m    \u001b[49m\u001b[43mmode\u001b[49m\u001b[43m,\u001b[49m\n\u001b[1;32m   1732\u001b[0m \u001b[43m    \u001b[49m\u001b[43mencoding\u001b[49m\u001b[38;5;241;43m=\u001b[39;49m\u001b[38;5;28;43mself\u001b[39;49m\u001b[38;5;241;43m.\u001b[39;49m\u001b[43moptions\u001b[49m\u001b[38;5;241;43m.\u001b[39;49m\u001b[43mget\u001b[49m\u001b[43m(\u001b[49m\u001b[38;5;124;43m\"\u001b[39;49m\u001b[38;5;124;43mencoding\u001b[39;49m\u001b[38;5;124;43m\"\u001b[39;49m\u001b[43m,\u001b[49m\u001b[43m \u001b[49m\u001b[38;5;28;43;01mNone\u001b[39;49;00m\u001b[43m)\u001b[49m\u001b[43m,\u001b[49m\n\u001b[1;32m   1733\u001b[0m \u001b[43m    \u001b[49m\u001b[43mcompression\u001b[49m\u001b[38;5;241;43m=\u001b[39;49m\u001b[38;5;28;43mself\u001b[39;49m\u001b[38;5;241;43m.\u001b[39;49m\u001b[43moptions\u001b[49m\u001b[38;5;241;43m.\u001b[39;49m\u001b[43mget\u001b[49m\u001b[43m(\u001b[49m\u001b[38;5;124;43m\"\u001b[39;49m\u001b[38;5;124;43mcompression\u001b[39;49m\u001b[38;5;124;43m\"\u001b[39;49m\u001b[43m,\u001b[49m\u001b[43m \u001b[49m\u001b[38;5;28;43;01mNone\u001b[39;49;00m\u001b[43m)\u001b[49m\u001b[43m,\u001b[49m\n\u001b[1;32m   1734\u001b[0m \u001b[43m    \u001b[49m\u001b[43mmemory_map\u001b[49m\u001b[38;5;241;43m=\u001b[39;49m\u001b[38;5;28;43mself\u001b[39;49m\u001b[38;5;241;43m.\u001b[39;49m\u001b[43moptions\u001b[49m\u001b[38;5;241;43m.\u001b[39;49m\u001b[43mget\u001b[49m\u001b[43m(\u001b[49m\u001b[38;5;124;43m\"\u001b[39;49m\u001b[38;5;124;43mmemory_map\u001b[39;49m\u001b[38;5;124;43m\"\u001b[39;49m\u001b[43m,\u001b[49m\u001b[43m \u001b[49m\u001b[38;5;28;43;01mFalse\u001b[39;49;00m\u001b[43m)\u001b[49m\u001b[43m,\u001b[49m\n\u001b[1;32m   1735\u001b[0m \u001b[43m    \u001b[49m\u001b[43mis_text\u001b[49m\u001b[38;5;241;43m=\u001b[39;49m\u001b[43mis_text\u001b[49m\u001b[43m,\u001b[49m\n\u001b[1;32m   1736\u001b[0m \u001b[43m    \u001b[49m\u001b[43merrors\u001b[49m\u001b[38;5;241;43m=\u001b[39;49m\u001b[38;5;28;43mself\u001b[39;49m\u001b[38;5;241;43m.\u001b[39;49m\u001b[43moptions\u001b[49m\u001b[38;5;241;43m.\u001b[39;49m\u001b[43mget\u001b[49m\u001b[43m(\u001b[49m\u001b[38;5;124;43m\"\u001b[39;49m\u001b[38;5;124;43mencoding_errors\u001b[39;49m\u001b[38;5;124;43m\"\u001b[39;49m\u001b[43m,\u001b[49m\u001b[43m \u001b[49m\u001b[38;5;124;43m\"\u001b[39;49m\u001b[38;5;124;43mstrict\u001b[39;49m\u001b[38;5;124;43m\"\u001b[39;49m\u001b[43m)\u001b[49m\u001b[43m,\u001b[49m\n\u001b[1;32m   1737\u001b[0m \u001b[43m    \u001b[49m\u001b[43mstorage_options\u001b[49m\u001b[38;5;241;43m=\u001b[39;49m\u001b[38;5;28;43mself\u001b[39;49m\u001b[38;5;241;43m.\u001b[39;49m\u001b[43moptions\u001b[49m\u001b[38;5;241;43m.\u001b[39;49m\u001b[43mget\u001b[49m\u001b[43m(\u001b[49m\u001b[38;5;124;43m\"\u001b[39;49m\u001b[38;5;124;43mstorage_options\u001b[39;49m\u001b[38;5;124;43m\"\u001b[39;49m\u001b[43m,\u001b[49m\u001b[43m \u001b[49m\u001b[38;5;28;43;01mNone\u001b[39;49;00m\u001b[43m)\u001b[49m\u001b[43m,\u001b[49m\n\u001b[1;32m   1738\u001b[0m \u001b[43m\u001b[49m\u001b[43m)\u001b[49m\n\u001b[1;32m   1739\u001b[0m \u001b[38;5;28;01massert\u001b[39;00m \u001b[38;5;28mself\u001b[39m\u001b[38;5;241m.\u001b[39mhandles \u001b[38;5;129;01mis\u001b[39;00m \u001b[38;5;129;01mnot\u001b[39;00m \u001b[38;5;28;01mNone\u001b[39;00m\n\u001b[1;32m   1740\u001b[0m f \u001b[38;5;241m=\u001b[39m \u001b[38;5;28mself\u001b[39m\u001b[38;5;241m.\u001b[39mhandles\u001b[38;5;241m.\u001b[39mhandle\n",
      "File \u001b[0;32m~/jupyter/lib/python3.10/site-packages/pandas/io/common.py:714\u001b[0m, in \u001b[0;36mget_handle\u001b[0;34m(path_or_buf, mode, encoding, compression, memory_map, is_text, errors, storage_options)\u001b[0m\n\u001b[1;32m    711\u001b[0m     codecs\u001b[38;5;241m.\u001b[39mlookup_error(errors)\n\u001b[1;32m    713\u001b[0m \u001b[38;5;66;03m# open URLs\u001b[39;00m\n\u001b[0;32m--> 714\u001b[0m ioargs \u001b[38;5;241m=\u001b[39m \u001b[43m_get_filepath_or_buffer\u001b[49m\u001b[43m(\u001b[49m\n\u001b[1;32m    715\u001b[0m \u001b[43m    \u001b[49m\u001b[43mpath_or_buf\u001b[49m\u001b[43m,\u001b[49m\n\u001b[1;32m    716\u001b[0m \u001b[43m    \u001b[49m\u001b[43mencoding\u001b[49m\u001b[38;5;241;43m=\u001b[39;49m\u001b[43mencoding\u001b[49m\u001b[43m,\u001b[49m\n\u001b[1;32m    717\u001b[0m \u001b[43m    \u001b[49m\u001b[43mcompression\u001b[49m\u001b[38;5;241;43m=\u001b[39;49m\u001b[43mcompression\u001b[49m\u001b[43m,\u001b[49m\n\u001b[1;32m    718\u001b[0m \u001b[43m    \u001b[49m\u001b[43mmode\u001b[49m\u001b[38;5;241;43m=\u001b[39;49m\u001b[43mmode\u001b[49m\u001b[43m,\u001b[49m\n\u001b[1;32m    719\u001b[0m \u001b[43m    \u001b[49m\u001b[43mstorage_options\u001b[49m\u001b[38;5;241;43m=\u001b[39;49m\u001b[43mstorage_options\u001b[49m\u001b[43m,\u001b[49m\n\u001b[1;32m    720\u001b[0m \u001b[43m\u001b[49m\u001b[43m)\u001b[49m\n\u001b[1;32m    722\u001b[0m handle \u001b[38;5;241m=\u001b[39m ioargs\u001b[38;5;241m.\u001b[39mfilepath_or_buffer\n\u001b[1;32m    723\u001b[0m handles: \u001b[38;5;28mlist\u001b[39m[BaseBuffer]\n",
      "File \u001b[0;32m~/jupyter/lib/python3.10/site-packages/pandas/io/common.py:364\u001b[0m, in \u001b[0;36m_get_filepath_or_buffer\u001b[0;34m(filepath_or_buffer, encoding, compression, mode, storage_options)\u001b[0m\n\u001b[1;32m    362\u001b[0m \u001b[38;5;66;03m# assuming storage_options is to be interpreted as headers\u001b[39;00m\n\u001b[1;32m    363\u001b[0m req_info \u001b[38;5;241m=\u001b[39m urllib\u001b[38;5;241m.\u001b[39mrequest\u001b[38;5;241m.\u001b[39mRequest(filepath_or_buffer, headers\u001b[38;5;241m=\u001b[39mstorage_options)\n\u001b[0;32m--> 364\u001b[0m \u001b[38;5;28;01mwith\u001b[39;00m \u001b[43murlopen\u001b[49m\u001b[43m(\u001b[49m\u001b[43mreq_info\u001b[49m\u001b[43m)\u001b[49m \u001b[38;5;28;01mas\u001b[39;00m req:\n\u001b[1;32m    365\u001b[0m     content_encoding \u001b[38;5;241m=\u001b[39m req\u001b[38;5;241m.\u001b[39mheaders\u001b[38;5;241m.\u001b[39mget(\u001b[38;5;124m\"\u001b[39m\u001b[38;5;124mContent-Encoding\u001b[39m\u001b[38;5;124m\"\u001b[39m, \u001b[38;5;28;01mNone\u001b[39;00m)\n\u001b[1;32m    366\u001b[0m     \u001b[38;5;28;01mif\u001b[39;00m content_encoding \u001b[38;5;241m==\u001b[39m \u001b[38;5;124m\"\u001b[39m\u001b[38;5;124mgzip\u001b[39m\u001b[38;5;124m\"\u001b[39m:\n\u001b[1;32m    367\u001b[0m         \u001b[38;5;66;03m# Override compression based on Content-Encoding header\u001b[39;00m\n",
      "File \u001b[0;32m~/jupyter/lib/python3.10/site-packages/pandas/io/common.py:266\u001b[0m, in \u001b[0;36murlopen\u001b[0;34m(*args, **kwargs)\u001b[0m\n\u001b[1;32m    260\u001b[0m \u001b[38;5;124;03m\"\"\"\u001b[39;00m\n\u001b[1;32m    261\u001b[0m \u001b[38;5;124;03mLazy-import wrapper for stdlib urlopen, as that imports a big chunk of\u001b[39;00m\n\u001b[1;32m    262\u001b[0m \u001b[38;5;124;03mthe stdlib.\u001b[39;00m\n\u001b[1;32m    263\u001b[0m \u001b[38;5;124;03m\"\"\"\u001b[39;00m\n\u001b[1;32m    264\u001b[0m \u001b[38;5;28;01mimport\u001b[39;00m \u001b[38;5;21;01murllib\u001b[39;00m\u001b[38;5;21;01m.\u001b[39;00m\u001b[38;5;21;01mrequest\u001b[39;00m\n\u001b[0;32m--> 266\u001b[0m \u001b[38;5;28;01mreturn\u001b[39;00m \u001b[43murllib\u001b[49m\u001b[38;5;241;43m.\u001b[39;49m\u001b[43mrequest\u001b[49m\u001b[38;5;241;43m.\u001b[39;49m\u001b[43murlopen\u001b[49m\u001b[43m(\u001b[49m\u001b[38;5;241;43m*\u001b[39;49m\u001b[43margs\u001b[49m\u001b[43m,\u001b[49m\u001b[43m \u001b[49m\u001b[38;5;241;43m*\u001b[39;49m\u001b[38;5;241;43m*\u001b[39;49m\u001b[43mkwargs\u001b[49m\u001b[43m)\u001b[49m\n",
      "File \u001b[0;32m/Library/Frameworks/Python.framework/Versions/3.10/lib/python3.10/urllib/request.py:216\u001b[0m, in \u001b[0;36murlopen\u001b[0;34m(url, data, timeout, cafile, capath, cadefault, context)\u001b[0m\n\u001b[1;32m    214\u001b[0m \u001b[38;5;28;01melse\u001b[39;00m:\n\u001b[1;32m    215\u001b[0m     opener \u001b[38;5;241m=\u001b[39m _opener\n\u001b[0;32m--> 216\u001b[0m \u001b[38;5;28;01mreturn\u001b[39;00m \u001b[43mopener\u001b[49m\u001b[38;5;241;43m.\u001b[39;49m\u001b[43mopen\u001b[49m\u001b[43m(\u001b[49m\u001b[43murl\u001b[49m\u001b[43m,\u001b[49m\u001b[43m \u001b[49m\u001b[43mdata\u001b[49m\u001b[43m,\u001b[49m\u001b[43m \u001b[49m\u001b[43mtimeout\u001b[49m\u001b[43m)\u001b[49m\n",
      "File \u001b[0;32m/Library/Frameworks/Python.framework/Versions/3.10/lib/python3.10/urllib/request.py:519\u001b[0m, in \u001b[0;36mOpenerDirector.open\u001b[0;34m(self, fullurl, data, timeout)\u001b[0m\n\u001b[1;32m    516\u001b[0m     req \u001b[38;5;241m=\u001b[39m meth(req)\n\u001b[1;32m    518\u001b[0m sys\u001b[38;5;241m.\u001b[39maudit(\u001b[38;5;124m'\u001b[39m\u001b[38;5;124murllib.Request\u001b[39m\u001b[38;5;124m'\u001b[39m, req\u001b[38;5;241m.\u001b[39mfull_url, req\u001b[38;5;241m.\u001b[39mdata, req\u001b[38;5;241m.\u001b[39mheaders, req\u001b[38;5;241m.\u001b[39mget_method())\n\u001b[0;32m--> 519\u001b[0m response \u001b[38;5;241m=\u001b[39m \u001b[38;5;28;43mself\u001b[39;49m\u001b[38;5;241;43m.\u001b[39;49m\u001b[43m_open\u001b[49m\u001b[43m(\u001b[49m\u001b[43mreq\u001b[49m\u001b[43m,\u001b[49m\u001b[43m \u001b[49m\u001b[43mdata\u001b[49m\u001b[43m)\u001b[49m\n\u001b[1;32m    521\u001b[0m \u001b[38;5;66;03m# post-process response\u001b[39;00m\n\u001b[1;32m    522\u001b[0m meth_name \u001b[38;5;241m=\u001b[39m protocol\u001b[38;5;241m+\u001b[39m\u001b[38;5;124m\"\u001b[39m\u001b[38;5;124m_response\u001b[39m\u001b[38;5;124m\"\u001b[39m\n",
      "File \u001b[0;32m/Library/Frameworks/Python.framework/Versions/3.10/lib/python3.10/urllib/request.py:536\u001b[0m, in \u001b[0;36mOpenerDirector._open\u001b[0;34m(self, req, data)\u001b[0m\n\u001b[1;32m    533\u001b[0m     \u001b[38;5;28;01mreturn\u001b[39;00m result\n\u001b[1;32m    535\u001b[0m protocol \u001b[38;5;241m=\u001b[39m req\u001b[38;5;241m.\u001b[39mtype\n\u001b[0;32m--> 536\u001b[0m result \u001b[38;5;241m=\u001b[39m \u001b[38;5;28;43mself\u001b[39;49m\u001b[38;5;241;43m.\u001b[39;49m\u001b[43m_call_chain\u001b[49m\u001b[43m(\u001b[49m\u001b[38;5;28;43mself\u001b[39;49m\u001b[38;5;241;43m.\u001b[39;49m\u001b[43mhandle_open\u001b[49m\u001b[43m,\u001b[49m\u001b[43m \u001b[49m\u001b[43mprotocol\u001b[49m\u001b[43m,\u001b[49m\u001b[43m \u001b[49m\u001b[43mprotocol\u001b[49m\u001b[43m \u001b[49m\u001b[38;5;241;43m+\u001b[39;49m\n\u001b[1;32m    537\u001b[0m \u001b[43m                          \u001b[49m\u001b[38;5;124;43m'\u001b[39;49m\u001b[38;5;124;43m_open\u001b[39;49m\u001b[38;5;124;43m'\u001b[39;49m\u001b[43m,\u001b[49m\u001b[43m \u001b[49m\u001b[43mreq\u001b[49m\u001b[43m)\u001b[49m\n\u001b[1;32m    538\u001b[0m \u001b[38;5;28;01mif\u001b[39;00m result:\n\u001b[1;32m    539\u001b[0m     \u001b[38;5;28;01mreturn\u001b[39;00m result\n",
      "File \u001b[0;32m/Library/Frameworks/Python.framework/Versions/3.10/lib/python3.10/urllib/request.py:496\u001b[0m, in \u001b[0;36mOpenerDirector._call_chain\u001b[0;34m(self, chain, kind, meth_name, *args)\u001b[0m\n\u001b[1;32m    494\u001b[0m \u001b[38;5;28;01mfor\u001b[39;00m handler \u001b[38;5;129;01min\u001b[39;00m handlers:\n\u001b[1;32m    495\u001b[0m     func \u001b[38;5;241m=\u001b[39m \u001b[38;5;28mgetattr\u001b[39m(handler, meth_name)\n\u001b[0;32m--> 496\u001b[0m     result \u001b[38;5;241m=\u001b[39m \u001b[43mfunc\u001b[49m\u001b[43m(\u001b[49m\u001b[38;5;241;43m*\u001b[39;49m\u001b[43margs\u001b[49m\u001b[43m)\u001b[49m\n\u001b[1;32m    497\u001b[0m     \u001b[38;5;28;01mif\u001b[39;00m result \u001b[38;5;129;01mis\u001b[39;00m \u001b[38;5;129;01mnot\u001b[39;00m \u001b[38;5;28;01mNone\u001b[39;00m:\n\u001b[1;32m    498\u001b[0m         \u001b[38;5;28;01mreturn\u001b[39;00m result\n",
      "File \u001b[0;32m/Library/Frameworks/Python.framework/Versions/3.10/lib/python3.10/urllib/request.py:1391\u001b[0m, in \u001b[0;36mHTTPSHandler.https_open\u001b[0;34m(self, req)\u001b[0m\n\u001b[1;32m   1390\u001b[0m \u001b[38;5;28;01mdef\u001b[39;00m \u001b[38;5;21mhttps_open\u001b[39m(\u001b[38;5;28mself\u001b[39m, req):\n\u001b[0;32m-> 1391\u001b[0m     \u001b[38;5;28;01mreturn\u001b[39;00m \u001b[38;5;28;43mself\u001b[39;49m\u001b[38;5;241;43m.\u001b[39;49m\u001b[43mdo_open\u001b[49m\u001b[43m(\u001b[49m\u001b[43mhttp\u001b[49m\u001b[38;5;241;43m.\u001b[39;49m\u001b[43mclient\u001b[49m\u001b[38;5;241;43m.\u001b[39;49m\u001b[43mHTTPSConnection\u001b[49m\u001b[43m,\u001b[49m\u001b[43m \u001b[49m\u001b[43mreq\u001b[49m\u001b[43m,\u001b[49m\n\u001b[1;32m   1392\u001b[0m \u001b[43m        \u001b[49m\u001b[43mcontext\u001b[49m\u001b[38;5;241;43m=\u001b[39;49m\u001b[38;5;28;43mself\u001b[39;49m\u001b[38;5;241;43m.\u001b[39;49m\u001b[43m_context\u001b[49m\u001b[43m,\u001b[49m\u001b[43m \u001b[49m\u001b[43mcheck_hostname\u001b[49m\u001b[38;5;241;43m=\u001b[39;49m\u001b[38;5;28;43mself\u001b[39;49m\u001b[38;5;241;43m.\u001b[39;49m\u001b[43m_check_hostname\u001b[49m\u001b[43m)\u001b[49m\n",
      "File \u001b[0;32m/Library/Frameworks/Python.framework/Versions/3.10/lib/python3.10/urllib/request.py:1351\u001b[0m, in \u001b[0;36mAbstractHTTPHandler.do_open\u001b[0;34m(self, http_class, req, **http_conn_args)\u001b[0m\n\u001b[1;32m   1348\u001b[0m         h\u001b[38;5;241m.\u001b[39mrequest(req\u001b[38;5;241m.\u001b[39mget_method(), req\u001b[38;5;241m.\u001b[39mselector, req\u001b[38;5;241m.\u001b[39mdata, headers,\n\u001b[1;32m   1349\u001b[0m                   encode_chunked\u001b[38;5;241m=\u001b[39mreq\u001b[38;5;241m.\u001b[39mhas_header(\u001b[38;5;124m'\u001b[39m\u001b[38;5;124mTransfer-encoding\u001b[39m\u001b[38;5;124m'\u001b[39m))\n\u001b[1;32m   1350\u001b[0m     \u001b[38;5;28;01mexcept\u001b[39;00m \u001b[38;5;167;01mOSError\u001b[39;00m \u001b[38;5;28;01mas\u001b[39;00m err: \u001b[38;5;66;03m# timeout error\u001b[39;00m\n\u001b[0;32m-> 1351\u001b[0m         \u001b[38;5;28;01mraise\u001b[39;00m URLError(err)\n\u001b[1;32m   1352\u001b[0m     r \u001b[38;5;241m=\u001b[39m h\u001b[38;5;241m.\u001b[39mgetresponse()\n\u001b[1;32m   1353\u001b[0m \u001b[38;5;28;01mexcept\u001b[39;00m:\n",
      "\u001b[0;31mURLError\u001b[0m: <urlopen error [SSL: CERTIFICATE_VERIFY_FAILED] certificate verify failed: unable to get local issuer certificate (_ssl.c:997)>"
     ]
    }
   ],
   "source": [
    "import pandas as pd\n",
    "df = pd.read_csv(\"https://raw.githubusercontent.com/mpriewe/repo_article_maine/main/script/Figure%202.csv\")\n",
    "\n",
    "fig = px.pie(df, names = \"Country\",\n",
    "             values =\"No. of newstories\",\n",
    "             title='Distribution of news reports on the Maine explosion by country',\n",
    "             labels = {\"names\" :[\"Spain\",\"USA\",\"Germany\",\"Mexico\",\"Finland\",\"UK\",\"Netherlands\"]})\n",
    "fig.update_traces(textposition='inside', textinfo='percent+label')\n",
    "fig.show()"
   ]
  },
  {
   "cell_type": "markdown",
   "id": "07f98877",
   "metadata": {},
   "source": [
    "When it comes to the reliability of the data, perhaps the most relevant aspect of our corpus is the difference in the quality of the OCR that we obtained from each national collection, which directly affects the analysis process (Jarlbrink & Snickars). As libraries and archives often follow different digitization processes, the final quality of the data varies. Differences in scanning practices, the software used, the quality of the originals, and the editorial decision over how to present the scanned newspapers as images and texts determine what users see as a digital copy of an old newspaper on their computer screen. This was significant for our study because of the differences in OCR quality, especially between the U.S. and Spanish newspaper data. The library cleaned the latter, meaning that the automatically extracted OCR was not used but instead underwent a subsequent improvement process to make it accessible to human eyes and machine-readable simultaneously. The data from the United States (and Great Britain) did not undergo this clean-up; hence, users only have access to the data resulting from the automatic extraction, which includes everything on the printed page, without separating news stories and columns or automatic OCR correction. The quality of the newspaper data provided by other national archives varies between these two poles. We had not foreseen such a lack of uniformity in the data made available by the archives and the subsequent  problems posed by the diverging quality of the OCR of the most substantial part of our corpus, the collection of newspapers from the United States. In order to carry out our analysis, we decided to reduce the \"noise\" of the U.S. data through an automatic process that mainly eliminated most of the information contained in the OCR that did not correspond to the explosion of the *Maine*. The second decision was to refrain from a manual clean-up of the data and, instead, to keep the remaining files \"raw,\" accepting that the data disparity reflects the complex digitization decisions and processes in each country. Overall, the cleaning activities by institutions and our research led to a usable corpus of articles, with an OCR quality of \"approximately 60-85%\" (Beals & Bell 7).<br>\n",
    "In order to understand the attitudes towards the sinking of the *Maine* conveyed in international newspapers in February of 1898, we combined our reading reports of selected articles with information from secondary literature and with interpretation drawn from a computational analysis that used text mining and topic-based annotations. It quickly became apparent that the discussions in the international press centered primarily around the cause of the ship's sinking: Was it an internal accident or a deliberate attempt? During the time frame chosen for our study (02/16-02/23/1898), newspapers worldwide began to speculate about the cause of the explosion, citing or paraphrasing the opinions of experts, politicians, members of the military, and other newspapers. Whenever an article leaned toward spontaneous combustion in the ship's coal bunkers as an explanation, it implied an opinion that the explosion was the result of an accident (and thus the fault of the U.S.), and conversely, whenever an article leaned toward a torpedo's explosion being the explanation, it implied an opinion that the explosion was the result of an attack (and thus the fault of Spain). What was clear to virtually all observers at the time was that, if the United States were to blame Spain for the sinking, it would take this opportunity to begin a military intervention in Cuba. Hence, we also sought to understand how the media reported statements from specific actors involved in the aftermath of the sinking in order to study how newspapers attempted to sway public opinion in favor of the accident or deliberate explosion hypotheses.<a name=\"cite_ref-5\"></a>[<sup>[5]</sup>](#cite_note-5) <br> \n",
    "We then selected \"opinion\" as a search term for our working corpus to identify the stances conveyed in the event. The search obtained 1,724 hits, and 200-character width window contexts were automatically extracted and divided by country of origin. From these, we identified seven categories of actors or speakers in the aftermath of the incident: Captain Sigsbee, the survivors of the *Maine*, experts on ships and explosions, journalists, politicians, military personnel other than the ship's crew, and unknown or unidentified speakers within the extracted contexts. Herman and Chomsky (1988, 18) have pointed out in *Manufacturing Consent* that \"the mass media are drawn into a symbiotic relationship with powerful sources of information by economic necessity and reciprocity of interest.\" as \"they cannot afford to have reporters at all places\" and \"taking information from sources that may be presumed credible reduces investigative expense.\" This is also true for our case study in the press at the end of the nineteenth century. The reported voices followed the same pattern as in the modern media: official sources, highly reputable unofficial sources, and a body of experts that function as a filter for the news deemed fit to print.<br> \t\t\n",
    "Next, using analytical rather than descriptive manual annotations, we assigned the expressed opinions to a position on the sinking (i.e., we classified the meaning of the opinion as either promoting an accidental explosion, suggesting a deliberate attack, or calling for a suspension of all opinion until further investigations). After discarding hits that were illegible (due to OCR errors), obviously out-of-context, or when the speaker's position was unclear, the final corpus of 671 (58% of the original hits) was placed in a matrix showing the possible combination of actor and stance. Then, we verified 10% of each other's annotations to ensure a homogeneous interpretation of the data. This close reading of the final \"opinion\" corpus enabled us to obtain a nuanced picture of how newspapers portrayed certain opinions and voices that were ultimately connected to the question of war and peace. Based on the available digitized newspapers from the United States and other countries, we argue that the opinions on the cause of the sinking and, hence, on the necessity of war are more widely distributed and diverse than previous research has indicated. \n"
   ]
  },
  {
   "cell_type": "markdown",
   "id": "2620e7bb",
   "metadata": {
    "tags": [
     "footnotes"
    ]
   },
   "source": [
    "<a name=\"cite_note-5\"></a> [<sup>[5]</sup>](#cite_ref-5) In the newspapers studied for this project, no account blames the explosion explicitly on the Cuban *Junta*, which could have had an interest in causing the United States to (finally) intervene on the island and free its people from Spanish colonialism. Although rumors about various possible acts of conspiracy were circulating in the yellow papers shortly after the explosion, opinion leaders did not discuss them as viable causes. Also, in our corpus, there are no references to the conspiracy theory, first traceable in print in Tiburcio P. Castañeda's 1925 book *La explosión del Maine y la guerra de los Estados Unidos con España*, that \"war hawks\" in the U.S. government, especially Assistant Secretary of the Navy, Theodore Roosevelt, \"conceal[ed] the real cause of the disaster from the American public in order to proceed to war and the conquest of the Philippines\" (Ryer 205)."
   ]
  },
  {
   "cell_type": "markdown",
   "id": "242aa151",
   "metadata": {},
   "source": [
    "## International Press Reactions to the Explosion of the *Maine*"
   ]
  },
  {
   "cell_type": "markdown",
   "id": "5d8fae5a",
   "metadata": {},
   "source": [
    "Between February 16 and 23, 1898, the international media scene in our corpus remained undecided about the cause of the *Maine*'s sinking, with a slight overall leaning towards the accident hypothesis. All national presses re-printed Captain Sigsbee's words of caution from February 16, calling for the suspension of opinion until further investigations took place (figure 3).<a name=\"cite_ref-6\"></a>[<sup>[6]</sup>](#cite_note-6)"
   ]
  },
  {
   "cell_type": "code",
   "execution_count": 8,
   "id": "f2630d4f",
   "metadata": {
    "tags": [
     "figure-3"
    ]
   },
   "outputs": [
    {
     "data": {
      "application/vnd.plotly.v1+json": {
       "config": {
        "plotlyServerURL": "https://plot.ly"
       },
       "data": [
        {
         "alignmentgroup": "True",
         "bingroup": "x",
         "histfunc": "sum",
         "hovertemplate": "variable=Attack<br>Position/Country=%{x}<br>sum of value (normalized as percent)=%{y}<extra></extra>",
         "legendgroup": "Attack",
         "marker": {
          "color": "#636efa",
          "pattern": {
           "shape": ""
          }
         },
         "name": "Attack",
         "offsetgroup": "Attack",
         "orientation": "v",
         "showlegend": true,
         "type": "histogram",
         "x": [
          "Finland",
          "Germany",
          "Mexico",
          "Netherlands",
          "Spain",
          "UK",
          "USA"
         ],
         "xaxis": "x",
         "y": [
          1,
          1,
          11,
          6,
          9,
          2,
          219
         ],
         "yaxis": "y"
        },
        {
         "alignmentgroup": "True",
         "bingroup": "x",
         "histfunc": "sum",
         "hovertemplate": "variable=Accident<br>Position/Country=%{x}<br>sum of value (normalized as percent)=%{y}<extra></extra>",
         "legendgroup": "Accident",
         "marker": {
          "color": "#EF553B",
          "pattern": {
           "shape": ""
          }
         },
         "name": "Accident",
         "offsetgroup": "Accident",
         "orientation": "v",
         "showlegend": true,
         "type": "histogram",
         "x": [
          "Finland",
          "Germany",
          "Mexico",
          "Netherlands",
          "Spain",
          "UK",
          "USA"
         ],
         "xaxis": "x",
         "y": [
          13,
          6,
          23,
          7,
          7,
          8,
          164
         ],
         "yaxis": "y"
        },
        {
         "alignmentgroup": "True",
         "bingroup": "x",
         "histfunc": "sum",
         "hovertemplate": "variable=Suspend opinion<br>Position/Country=%{x}<br>sum of value (normalized as percent)=%{y}<extra></extra>",
         "legendgroup": "Suspend opinion",
         "marker": {
          "color": "#00cc96",
          "pattern": {
           "shape": ""
          }
         },
         "name": "Suspend opinion",
         "offsetgroup": "Suspend opinion",
         "orientation": "v",
         "showlegend": true,
         "type": "histogram",
         "x": [
          "Finland",
          "Germany",
          "Mexico",
          "Netherlands",
          "Spain",
          "UK",
          "USA"
         ],
         "xaxis": "x",
         "y": [
          2,
          5,
          12,
          2,
          13,
          10,
          152
         ],
         "yaxis": "y"
        }
       ],
       "layout": {
        "barmode": "relative",
        "barnorm": "percent",
        "legend": {
         "title": {
          "text": ""
         },
         "tracegroupgap": 0
        },
        "template": {
         "data": {
          "bar": [
           {
            "error_x": {
             "color": "#2a3f5f"
            },
            "error_y": {
             "color": "#2a3f5f"
            },
            "marker": {
             "line": {
              "color": "#E5ECF6",
              "width": 0.5
             },
             "pattern": {
              "fillmode": "overlay",
              "size": 10,
              "solidity": 0.2
             }
            },
            "type": "bar"
           }
          ],
          "barpolar": [
           {
            "marker": {
             "line": {
              "color": "#E5ECF6",
              "width": 0.5
             },
             "pattern": {
              "fillmode": "overlay",
              "size": 10,
              "solidity": 0.2
             }
            },
            "type": "barpolar"
           }
          ],
          "carpet": [
           {
            "aaxis": {
             "endlinecolor": "#2a3f5f",
             "gridcolor": "white",
             "linecolor": "white",
             "minorgridcolor": "white",
             "startlinecolor": "#2a3f5f"
            },
            "baxis": {
             "endlinecolor": "#2a3f5f",
             "gridcolor": "white",
             "linecolor": "white",
             "minorgridcolor": "white",
             "startlinecolor": "#2a3f5f"
            },
            "type": "carpet"
           }
          ],
          "choropleth": [
           {
            "colorbar": {
             "outlinewidth": 0,
             "ticks": ""
            },
            "type": "choropleth"
           }
          ],
          "contour": [
           {
            "colorbar": {
             "outlinewidth": 0,
             "ticks": ""
            },
            "colorscale": [
             [
              0,
              "#0d0887"
             ],
             [
              0.1111111111111111,
              "#46039f"
             ],
             [
              0.2222222222222222,
              "#7201a8"
             ],
             [
              0.3333333333333333,
              "#9c179e"
             ],
             [
              0.4444444444444444,
              "#bd3786"
             ],
             [
              0.5555555555555556,
              "#d8576b"
             ],
             [
              0.6666666666666666,
              "#ed7953"
             ],
             [
              0.7777777777777778,
              "#fb9f3a"
             ],
             [
              0.8888888888888888,
              "#fdca26"
             ],
             [
              1,
              "#f0f921"
             ]
            ],
            "type": "contour"
           }
          ],
          "contourcarpet": [
           {
            "colorbar": {
             "outlinewidth": 0,
             "ticks": ""
            },
            "type": "contourcarpet"
           }
          ],
          "heatmap": [
           {
            "colorbar": {
             "outlinewidth": 0,
             "ticks": ""
            },
            "colorscale": [
             [
              0,
              "#0d0887"
             ],
             [
              0.1111111111111111,
              "#46039f"
             ],
             [
              0.2222222222222222,
              "#7201a8"
             ],
             [
              0.3333333333333333,
              "#9c179e"
             ],
             [
              0.4444444444444444,
              "#bd3786"
             ],
             [
              0.5555555555555556,
              "#d8576b"
             ],
             [
              0.6666666666666666,
              "#ed7953"
             ],
             [
              0.7777777777777778,
              "#fb9f3a"
             ],
             [
              0.8888888888888888,
              "#fdca26"
             ],
             [
              1,
              "#f0f921"
             ]
            ],
            "type": "heatmap"
           }
          ],
          "heatmapgl": [
           {
            "colorbar": {
             "outlinewidth": 0,
             "ticks": ""
            },
            "colorscale": [
             [
              0,
              "#0d0887"
             ],
             [
              0.1111111111111111,
              "#46039f"
             ],
             [
              0.2222222222222222,
              "#7201a8"
             ],
             [
              0.3333333333333333,
              "#9c179e"
             ],
             [
              0.4444444444444444,
              "#bd3786"
             ],
             [
              0.5555555555555556,
              "#d8576b"
             ],
             [
              0.6666666666666666,
              "#ed7953"
             ],
             [
              0.7777777777777778,
              "#fb9f3a"
             ],
             [
              0.8888888888888888,
              "#fdca26"
             ],
             [
              1,
              "#f0f921"
             ]
            ],
            "type": "heatmapgl"
           }
          ],
          "histogram": [
           {
            "marker": {
             "pattern": {
              "fillmode": "overlay",
              "size": 10,
              "solidity": 0.2
             }
            },
            "type": "histogram"
           }
          ],
          "histogram2d": [
           {
            "colorbar": {
             "outlinewidth": 0,
             "ticks": ""
            },
            "colorscale": [
             [
              0,
              "#0d0887"
             ],
             [
              0.1111111111111111,
              "#46039f"
             ],
             [
              0.2222222222222222,
              "#7201a8"
             ],
             [
              0.3333333333333333,
              "#9c179e"
             ],
             [
              0.4444444444444444,
              "#bd3786"
             ],
             [
              0.5555555555555556,
              "#d8576b"
             ],
             [
              0.6666666666666666,
              "#ed7953"
             ],
             [
              0.7777777777777778,
              "#fb9f3a"
             ],
             [
              0.8888888888888888,
              "#fdca26"
             ],
             [
              1,
              "#f0f921"
             ]
            ],
            "type": "histogram2d"
           }
          ],
          "histogram2dcontour": [
           {
            "colorbar": {
             "outlinewidth": 0,
             "ticks": ""
            },
            "colorscale": [
             [
              0,
              "#0d0887"
             ],
             [
              0.1111111111111111,
              "#46039f"
             ],
             [
              0.2222222222222222,
              "#7201a8"
             ],
             [
              0.3333333333333333,
              "#9c179e"
             ],
             [
              0.4444444444444444,
              "#bd3786"
             ],
             [
              0.5555555555555556,
              "#d8576b"
             ],
             [
              0.6666666666666666,
              "#ed7953"
             ],
             [
              0.7777777777777778,
              "#fb9f3a"
             ],
             [
              0.8888888888888888,
              "#fdca26"
             ],
             [
              1,
              "#f0f921"
             ]
            ],
            "type": "histogram2dcontour"
           }
          ],
          "mesh3d": [
           {
            "colorbar": {
             "outlinewidth": 0,
             "ticks": ""
            },
            "type": "mesh3d"
           }
          ],
          "parcoords": [
           {
            "line": {
             "colorbar": {
              "outlinewidth": 0,
              "ticks": ""
             }
            },
            "type": "parcoords"
           }
          ],
          "pie": [
           {
            "automargin": true,
            "type": "pie"
           }
          ],
          "scatter": [
           {
            "marker": {
             "colorbar": {
              "outlinewidth": 0,
              "ticks": ""
             }
            },
            "type": "scatter"
           }
          ],
          "scatter3d": [
           {
            "line": {
             "colorbar": {
              "outlinewidth": 0,
              "ticks": ""
             }
            },
            "marker": {
             "colorbar": {
              "outlinewidth": 0,
              "ticks": ""
             }
            },
            "type": "scatter3d"
           }
          ],
          "scattercarpet": [
           {
            "marker": {
             "colorbar": {
              "outlinewidth": 0,
              "ticks": ""
             }
            },
            "type": "scattercarpet"
           }
          ],
          "scattergeo": [
           {
            "marker": {
             "colorbar": {
              "outlinewidth": 0,
              "ticks": ""
             }
            },
            "type": "scattergeo"
           }
          ],
          "scattergl": [
           {
            "marker": {
             "colorbar": {
              "outlinewidth": 0,
              "ticks": ""
             }
            },
            "type": "scattergl"
           }
          ],
          "scattermapbox": [
           {
            "marker": {
             "colorbar": {
              "outlinewidth": 0,
              "ticks": ""
             }
            },
            "type": "scattermapbox"
           }
          ],
          "scatterpolar": [
           {
            "marker": {
             "colorbar": {
              "outlinewidth": 0,
              "ticks": ""
             }
            },
            "type": "scatterpolar"
           }
          ],
          "scatterpolargl": [
           {
            "marker": {
             "colorbar": {
              "outlinewidth": 0,
              "ticks": ""
             }
            },
            "type": "scatterpolargl"
           }
          ],
          "scatterternary": [
           {
            "marker": {
             "colorbar": {
              "outlinewidth": 0,
              "ticks": ""
             }
            },
            "type": "scatterternary"
           }
          ],
          "surface": [
           {
            "colorbar": {
             "outlinewidth": 0,
             "ticks": ""
            },
            "colorscale": [
             [
              0,
              "#0d0887"
             ],
             [
              0.1111111111111111,
              "#46039f"
             ],
             [
              0.2222222222222222,
              "#7201a8"
             ],
             [
              0.3333333333333333,
              "#9c179e"
             ],
             [
              0.4444444444444444,
              "#bd3786"
             ],
             [
              0.5555555555555556,
              "#d8576b"
             ],
             [
              0.6666666666666666,
              "#ed7953"
             ],
             [
              0.7777777777777778,
              "#fb9f3a"
             ],
             [
              0.8888888888888888,
              "#fdca26"
             ],
             [
              1,
              "#f0f921"
             ]
            ],
            "type": "surface"
           }
          ],
          "table": [
           {
            "cells": {
             "fill": {
              "color": "#EBF0F8"
             },
             "line": {
              "color": "white"
             }
            },
            "header": {
             "fill": {
              "color": "#C8D4E3"
             },
             "line": {
              "color": "white"
             }
            },
            "type": "table"
           }
          ]
         },
         "layout": {
          "annotationdefaults": {
           "arrowcolor": "#2a3f5f",
           "arrowhead": 0,
           "arrowwidth": 1
          },
          "autotypenumbers": "strict",
          "coloraxis": {
           "colorbar": {
            "outlinewidth": 0,
            "ticks": ""
           }
          },
          "colorscale": {
           "diverging": [
            [
             0,
             "#8e0152"
            ],
            [
             0.1,
             "#c51b7d"
            ],
            [
             0.2,
             "#de77ae"
            ],
            [
             0.3,
             "#f1b6da"
            ],
            [
             0.4,
             "#fde0ef"
            ],
            [
             0.5,
             "#f7f7f7"
            ],
            [
             0.6,
             "#e6f5d0"
            ],
            [
             0.7,
             "#b8e186"
            ],
            [
             0.8,
             "#7fbc41"
            ],
            [
             0.9,
             "#4d9221"
            ],
            [
             1,
             "#276419"
            ]
           ],
           "sequential": [
            [
             0,
             "#0d0887"
            ],
            [
             0.1111111111111111,
             "#46039f"
            ],
            [
             0.2222222222222222,
             "#7201a8"
            ],
            [
             0.3333333333333333,
             "#9c179e"
            ],
            [
             0.4444444444444444,
             "#bd3786"
            ],
            [
             0.5555555555555556,
             "#d8576b"
            ],
            [
             0.6666666666666666,
             "#ed7953"
            ],
            [
             0.7777777777777778,
             "#fb9f3a"
            ],
            [
             0.8888888888888888,
             "#fdca26"
            ],
            [
             1,
             "#f0f921"
            ]
           ],
           "sequentialminus": [
            [
             0,
             "#0d0887"
            ],
            [
             0.1111111111111111,
             "#46039f"
            ],
            [
             0.2222222222222222,
             "#7201a8"
            ],
            [
             0.3333333333333333,
             "#9c179e"
            ],
            [
             0.4444444444444444,
             "#bd3786"
            ],
            [
             0.5555555555555556,
             "#d8576b"
            ],
            [
             0.6666666666666666,
             "#ed7953"
            ],
            [
             0.7777777777777778,
             "#fb9f3a"
            ],
            [
             0.8888888888888888,
             "#fdca26"
            ],
            [
             1,
             "#f0f921"
            ]
           ]
          },
          "colorway": [
           "#636efa",
           "#EF553B",
           "#00cc96",
           "#ab63fa",
           "#FFA15A",
           "#19d3f3",
           "#FF6692",
           "#B6E880",
           "#FF97FF",
           "#FECB52"
          ],
          "font": {
           "color": "#2a3f5f"
          },
          "geo": {
           "bgcolor": "white",
           "lakecolor": "white",
           "landcolor": "#E5ECF6",
           "showlakes": true,
           "showland": true,
           "subunitcolor": "white"
          },
          "hoverlabel": {
           "align": "left"
          },
          "hovermode": "closest",
          "mapbox": {
           "style": "light"
          },
          "paper_bgcolor": "white",
          "plot_bgcolor": "#E5ECF6",
          "polar": {
           "angularaxis": {
            "gridcolor": "white",
            "linecolor": "white",
            "ticks": ""
           },
           "bgcolor": "#E5ECF6",
           "radialaxis": {
            "gridcolor": "white",
            "linecolor": "white",
            "ticks": ""
           }
          },
          "scene": {
           "xaxis": {
            "backgroundcolor": "#E5ECF6",
            "gridcolor": "white",
            "gridwidth": 2,
            "linecolor": "white",
            "showbackground": true,
            "ticks": "",
            "zerolinecolor": "white"
           },
           "yaxis": {
            "backgroundcolor": "#E5ECF6",
            "gridcolor": "white",
            "gridwidth": 2,
            "linecolor": "white",
            "showbackground": true,
            "ticks": "",
            "zerolinecolor": "white"
           },
           "zaxis": {
            "backgroundcolor": "#E5ECF6",
            "gridcolor": "white",
            "gridwidth": 2,
            "linecolor": "white",
            "showbackground": true,
            "ticks": "",
            "zerolinecolor": "white"
           }
          },
          "shapedefaults": {
           "line": {
            "color": "#2a3f5f"
           }
          },
          "ternary": {
           "aaxis": {
            "gridcolor": "white",
            "linecolor": "white",
            "ticks": ""
           },
           "baxis": {
            "gridcolor": "white",
            "linecolor": "white",
            "ticks": ""
           },
           "bgcolor": "#E5ECF6",
           "caxis": {
            "gridcolor": "white",
            "linecolor": "white",
            "ticks": ""
           }
          },
          "title": {
           "x": 0.05
          },
          "xaxis": {
           "automargin": true,
           "gridcolor": "white",
           "linecolor": "white",
           "ticks": "",
           "title": {
            "standoff": 15
           },
           "zerolinecolor": "white",
           "zerolinewidth": 2
          },
          "yaxis": {
           "automargin": true,
           "gridcolor": "white",
           "linecolor": "white",
           "ticks": "",
           "title": {
            "standoff": 15
           },
           "zerolinecolor": "white",
           "zerolinewidth": 2
          }
         }
        },
        "title": {
         "text": "Distribution of opinions voiced about the Maine’s explosion by country"
        },
        "xaxis": {
         "anchor": "y",
         "domain": [
          0,
          1
         ],
         "ticktext": [
          "Finland",
          "Germany",
          "Mexico",
          "Netherlands",
          "Spain",
          "UK",
          "USA"
         ],
         "tickvals": [
          "Finland",
          "Germany",
          "Mexico",
          "Netherlands",
          "Spain",
          "UK",
          "USA"
         ],
         "title": {
          "text": "Position/Country"
         }
        },
        "yaxis": {
         "anchor": "x",
         "domain": [
          0,
          1
         ],
         "ticksuffix": "%",
         "title": {
          "text": ""
         }
        }
       }
      },
      "text/html": [
       "<div>                            <div id=\"dd263b10-81ac-4a39-8843-8c400e1b1e39\" class=\"plotly-graph-div\" style=\"height:525px; width:100%;\"></div>            <script type=\"text/javascript\">                require([\"plotly\"], function(Plotly) {                    window.PLOTLYENV=window.PLOTLYENV || {};                                    if (document.getElementById(\"dd263b10-81ac-4a39-8843-8c400e1b1e39\")) {                    Plotly.newPlot(                        \"dd263b10-81ac-4a39-8843-8c400e1b1e39\",                        [{\"alignmentgroup\":\"True\",\"bingroup\":\"x\",\"histfunc\":\"sum\",\"hovertemplate\":\"variable=Attack<br>Position/Country=%{x}<br>sum of value (normalized as percent)=%{y}<extra></extra>\",\"legendgroup\":\"Attack\",\"marker\":{\"color\":\"#636efa\",\"pattern\":{\"shape\":\"\"}},\"name\":\"Attack\",\"offsetgroup\":\"Attack\",\"orientation\":\"v\",\"showlegend\":true,\"x\":[\"Finland\",\"Germany\",\"Mexico\",\"Netherlands\",\"Spain\",\"UK\",\"USA\"],\"xaxis\":\"x\",\"y\":[1,1,11,6,9,2,219],\"yaxis\":\"y\",\"type\":\"histogram\"},{\"alignmentgroup\":\"True\",\"bingroup\":\"x\",\"histfunc\":\"sum\",\"hovertemplate\":\"variable=Accident<br>Position/Country=%{x}<br>sum of value (normalized as percent)=%{y}<extra></extra>\",\"legendgroup\":\"Accident\",\"marker\":{\"color\":\"#EF553B\",\"pattern\":{\"shape\":\"\"}},\"name\":\"Accident\",\"offsetgroup\":\"Accident\",\"orientation\":\"v\",\"showlegend\":true,\"x\":[\"Finland\",\"Germany\",\"Mexico\",\"Netherlands\",\"Spain\",\"UK\",\"USA\"],\"xaxis\":\"x\",\"y\":[13,6,23,7,7,8,164],\"yaxis\":\"y\",\"type\":\"histogram\"},{\"alignmentgroup\":\"True\",\"bingroup\":\"x\",\"histfunc\":\"sum\",\"hovertemplate\":\"variable=Suspend opinion<br>Position/Country=%{x}<br>sum of value (normalized as percent)=%{y}<extra></extra>\",\"legendgroup\":\"Suspend opinion\",\"marker\":{\"color\":\"#00cc96\",\"pattern\":{\"shape\":\"\"}},\"name\":\"Suspend opinion\",\"offsetgroup\":\"Suspend opinion\",\"orientation\":\"v\",\"showlegend\":true,\"x\":[\"Finland\",\"Germany\",\"Mexico\",\"Netherlands\",\"Spain\",\"UK\",\"USA\"],\"xaxis\":\"x\",\"y\":[2,5,12,2,13,10,152],\"yaxis\":\"y\",\"type\":\"histogram\"}],                        {\"template\":{\"data\":{\"bar\":[{\"error_x\":{\"color\":\"#2a3f5f\"},\"error_y\":{\"color\":\"#2a3f5f\"},\"marker\":{\"line\":{\"color\":\"#E5ECF6\",\"width\":0.5},\"pattern\":{\"fillmode\":\"overlay\",\"size\":10,\"solidity\":0.2}},\"type\":\"bar\"}],\"barpolar\":[{\"marker\":{\"line\":{\"color\":\"#E5ECF6\",\"width\":0.5},\"pattern\":{\"fillmode\":\"overlay\",\"size\":10,\"solidity\":0.2}},\"type\":\"barpolar\"}],\"carpet\":[{\"aaxis\":{\"endlinecolor\":\"#2a3f5f\",\"gridcolor\":\"white\",\"linecolor\":\"white\",\"minorgridcolor\":\"white\",\"startlinecolor\":\"#2a3f5f\"},\"baxis\":{\"endlinecolor\":\"#2a3f5f\",\"gridcolor\":\"white\",\"linecolor\":\"white\",\"minorgridcolor\":\"white\",\"startlinecolor\":\"#2a3f5f\"},\"type\":\"carpet\"}],\"choropleth\":[{\"colorbar\":{\"outlinewidth\":0,\"ticks\":\"\"},\"type\":\"choropleth\"}],\"contour\":[{\"colorbar\":{\"outlinewidth\":0,\"ticks\":\"\"},\"colorscale\":[[0.0,\"#0d0887\"],[0.1111111111111111,\"#46039f\"],[0.2222222222222222,\"#7201a8\"],[0.3333333333333333,\"#9c179e\"],[0.4444444444444444,\"#bd3786\"],[0.5555555555555556,\"#d8576b\"],[0.6666666666666666,\"#ed7953\"],[0.7777777777777778,\"#fb9f3a\"],[0.8888888888888888,\"#fdca26\"],[1.0,\"#f0f921\"]],\"type\":\"contour\"}],\"contourcarpet\":[{\"colorbar\":{\"outlinewidth\":0,\"ticks\":\"\"},\"type\":\"contourcarpet\"}],\"heatmap\":[{\"colorbar\":{\"outlinewidth\":0,\"ticks\":\"\"},\"colorscale\":[[0.0,\"#0d0887\"],[0.1111111111111111,\"#46039f\"],[0.2222222222222222,\"#7201a8\"],[0.3333333333333333,\"#9c179e\"],[0.4444444444444444,\"#bd3786\"],[0.5555555555555556,\"#d8576b\"],[0.6666666666666666,\"#ed7953\"],[0.7777777777777778,\"#fb9f3a\"],[0.8888888888888888,\"#fdca26\"],[1.0,\"#f0f921\"]],\"type\":\"heatmap\"}],\"heatmapgl\":[{\"colorbar\":{\"outlinewidth\":0,\"ticks\":\"\"},\"colorscale\":[[0.0,\"#0d0887\"],[0.1111111111111111,\"#46039f\"],[0.2222222222222222,\"#7201a8\"],[0.3333333333333333,\"#9c179e\"],[0.4444444444444444,\"#bd3786\"],[0.5555555555555556,\"#d8576b\"],[0.6666666666666666,\"#ed7953\"],[0.7777777777777778,\"#fb9f3a\"],[0.8888888888888888,\"#fdca26\"],[1.0,\"#f0f921\"]],\"type\":\"heatmapgl\"}],\"histogram\":[{\"marker\":{\"pattern\":{\"fillmode\":\"overlay\",\"size\":10,\"solidity\":0.2}},\"type\":\"histogram\"}],\"histogram2d\":[{\"colorbar\":{\"outlinewidth\":0,\"ticks\":\"\"},\"colorscale\":[[0.0,\"#0d0887\"],[0.1111111111111111,\"#46039f\"],[0.2222222222222222,\"#7201a8\"],[0.3333333333333333,\"#9c179e\"],[0.4444444444444444,\"#bd3786\"],[0.5555555555555556,\"#d8576b\"],[0.6666666666666666,\"#ed7953\"],[0.7777777777777778,\"#fb9f3a\"],[0.8888888888888888,\"#fdca26\"],[1.0,\"#f0f921\"]],\"type\":\"histogram2d\"}],\"histogram2dcontour\":[{\"colorbar\":{\"outlinewidth\":0,\"ticks\":\"\"},\"colorscale\":[[0.0,\"#0d0887\"],[0.1111111111111111,\"#46039f\"],[0.2222222222222222,\"#7201a8\"],[0.3333333333333333,\"#9c179e\"],[0.4444444444444444,\"#bd3786\"],[0.5555555555555556,\"#d8576b\"],[0.6666666666666666,\"#ed7953\"],[0.7777777777777778,\"#fb9f3a\"],[0.8888888888888888,\"#fdca26\"],[1.0,\"#f0f921\"]],\"type\":\"histogram2dcontour\"}],\"mesh3d\":[{\"colorbar\":{\"outlinewidth\":0,\"ticks\":\"\"},\"type\":\"mesh3d\"}],\"parcoords\":[{\"line\":{\"colorbar\":{\"outlinewidth\":0,\"ticks\":\"\"}},\"type\":\"parcoords\"}],\"pie\":[{\"automargin\":true,\"type\":\"pie\"}],\"scatter\":[{\"marker\":{\"colorbar\":{\"outlinewidth\":0,\"ticks\":\"\"}},\"type\":\"scatter\"}],\"scatter3d\":[{\"line\":{\"colorbar\":{\"outlinewidth\":0,\"ticks\":\"\"}},\"marker\":{\"colorbar\":{\"outlinewidth\":0,\"ticks\":\"\"}},\"type\":\"scatter3d\"}],\"scattercarpet\":[{\"marker\":{\"colorbar\":{\"outlinewidth\":0,\"ticks\":\"\"}},\"type\":\"scattercarpet\"}],\"scattergeo\":[{\"marker\":{\"colorbar\":{\"outlinewidth\":0,\"ticks\":\"\"}},\"type\":\"scattergeo\"}],\"scattergl\":[{\"marker\":{\"colorbar\":{\"outlinewidth\":0,\"ticks\":\"\"}},\"type\":\"scattergl\"}],\"scattermapbox\":[{\"marker\":{\"colorbar\":{\"outlinewidth\":0,\"ticks\":\"\"}},\"type\":\"scattermapbox\"}],\"scatterpolar\":[{\"marker\":{\"colorbar\":{\"outlinewidth\":0,\"ticks\":\"\"}},\"type\":\"scatterpolar\"}],\"scatterpolargl\":[{\"marker\":{\"colorbar\":{\"outlinewidth\":0,\"ticks\":\"\"}},\"type\":\"scatterpolargl\"}],\"scatterternary\":[{\"marker\":{\"colorbar\":{\"outlinewidth\":0,\"ticks\":\"\"}},\"type\":\"scatterternary\"}],\"surface\":[{\"colorbar\":{\"outlinewidth\":0,\"ticks\":\"\"},\"colorscale\":[[0.0,\"#0d0887\"],[0.1111111111111111,\"#46039f\"],[0.2222222222222222,\"#7201a8\"],[0.3333333333333333,\"#9c179e\"],[0.4444444444444444,\"#bd3786\"],[0.5555555555555556,\"#d8576b\"],[0.6666666666666666,\"#ed7953\"],[0.7777777777777778,\"#fb9f3a\"],[0.8888888888888888,\"#fdca26\"],[1.0,\"#f0f921\"]],\"type\":\"surface\"}],\"table\":[{\"cells\":{\"fill\":{\"color\":\"#EBF0F8\"},\"line\":{\"color\":\"white\"}},\"header\":{\"fill\":{\"color\":\"#C8D4E3\"},\"line\":{\"color\":\"white\"}},\"type\":\"table\"}]},\"layout\":{\"annotationdefaults\":{\"arrowcolor\":\"#2a3f5f\",\"arrowhead\":0,\"arrowwidth\":1},\"autotypenumbers\":\"strict\",\"coloraxis\":{\"colorbar\":{\"outlinewidth\":0,\"ticks\":\"\"}},\"colorscale\":{\"diverging\":[[0,\"#8e0152\"],[0.1,\"#c51b7d\"],[0.2,\"#de77ae\"],[0.3,\"#f1b6da\"],[0.4,\"#fde0ef\"],[0.5,\"#f7f7f7\"],[0.6,\"#e6f5d0\"],[0.7,\"#b8e186\"],[0.8,\"#7fbc41\"],[0.9,\"#4d9221\"],[1,\"#276419\"]],\"sequential\":[[0.0,\"#0d0887\"],[0.1111111111111111,\"#46039f\"],[0.2222222222222222,\"#7201a8\"],[0.3333333333333333,\"#9c179e\"],[0.4444444444444444,\"#bd3786\"],[0.5555555555555556,\"#d8576b\"],[0.6666666666666666,\"#ed7953\"],[0.7777777777777778,\"#fb9f3a\"],[0.8888888888888888,\"#fdca26\"],[1.0,\"#f0f921\"]],\"sequentialminus\":[[0.0,\"#0d0887\"],[0.1111111111111111,\"#46039f\"],[0.2222222222222222,\"#7201a8\"],[0.3333333333333333,\"#9c179e\"],[0.4444444444444444,\"#bd3786\"],[0.5555555555555556,\"#d8576b\"],[0.6666666666666666,\"#ed7953\"],[0.7777777777777778,\"#fb9f3a\"],[0.8888888888888888,\"#fdca26\"],[1.0,\"#f0f921\"]]},\"colorway\":[\"#636efa\",\"#EF553B\",\"#00cc96\",\"#ab63fa\",\"#FFA15A\",\"#19d3f3\",\"#FF6692\",\"#B6E880\",\"#FF97FF\",\"#FECB52\"],\"font\":{\"color\":\"#2a3f5f\"},\"geo\":{\"bgcolor\":\"white\",\"lakecolor\":\"white\",\"landcolor\":\"#E5ECF6\",\"showlakes\":true,\"showland\":true,\"subunitcolor\":\"white\"},\"hoverlabel\":{\"align\":\"left\"},\"hovermode\":\"closest\",\"mapbox\":{\"style\":\"light\"},\"paper_bgcolor\":\"white\",\"plot_bgcolor\":\"#E5ECF6\",\"polar\":{\"angularaxis\":{\"gridcolor\":\"white\",\"linecolor\":\"white\",\"ticks\":\"\"},\"bgcolor\":\"#E5ECF6\",\"radialaxis\":{\"gridcolor\":\"white\",\"linecolor\":\"white\",\"ticks\":\"\"}},\"scene\":{\"xaxis\":{\"backgroundcolor\":\"#E5ECF6\",\"gridcolor\":\"white\",\"gridwidth\":2,\"linecolor\":\"white\",\"showbackground\":true,\"ticks\":\"\",\"zerolinecolor\":\"white\"},\"yaxis\":{\"backgroundcolor\":\"#E5ECF6\",\"gridcolor\":\"white\",\"gridwidth\":2,\"linecolor\":\"white\",\"showbackground\":true,\"ticks\":\"\",\"zerolinecolor\":\"white\"},\"zaxis\":{\"backgroundcolor\":\"#E5ECF6\",\"gridcolor\":\"white\",\"gridwidth\":2,\"linecolor\":\"white\",\"showbackground\":true,\"ticks\":\"\",\"zerolinecolor\":\"white\"}},\"shapedefaults\":{\"line\":{\"color\":\"#2a3f5f\"}},\"ternary\":{\"aaxis\":{\"gridcolor\":\"white\",\"linecolor\":\"white\",\"ticks\":\"\"},\"baxis\":{\"gridcolor\":\"white\",\"linecolor\":\"white\",\"ticks\":\"\"},\"bgcolor\":\"#E5ECF6\",\"caxis\":{\"gridcolor\":\"white\",\"linecolor\":\"white\",\"ticks\":\"\"}},\"title\":{\"x\":0.05},\"xaxis\":{\"automargin\":true,\"gridcolor\":\"white\",\"linecolor\":\"white\",\"ticks\":\"\",\"title\":{\"standoff\":15},\"zerolinecolor\":\"white\",\"zerolinewidth\":2},\"yaxis\":{\"automargin\":true,\"gridcolor\":\"white\",\"linecolor\":\"white\",\"ticks\":\"\",\"title\":{\"standoff\":15},\"zerolinecolor\":\"white\",\"zerolinewidth\":2}}},\"xaxis\":{\"anchor\":\"y\",\"domain\":[0.0,1.0],\"title\":{\"text\":\"Position/Country\"},\"ticktext\":[\"Finland\",\"Germany\",\"Mexico\",\"Netherlands\",\"Spain\",\"UK\",\"USA\"],\"tickvals\":[\"Finland\",\"Germany\",\"Mexico\",\"Netherlands\",\"Spain\",\"UK\",\"USA\"]},\"yaxis\":{\"anchor\":\"x\",\"domain\":[0.0,1.0],\"title\":{\"text\":\"\"},\"ticksuffix\":\"%\"},\"legend\":{\"title\":{\"text\":\"\"},\"tracegroupgap\":0},\"title\":{\"text\":\"Distribution of opinions voiced about the Maine\\u2019s explosion by country\"},\"barmode\":\"relative\",\"barnorm\":\"percent\"},                        {\"responsive\": true}                    ).then(function(){\n",
       "                            \n",
       "var gd = document.getElementById('dd263b10-81ac-4a39-8843-8c400e1b1e39');\n",
       "var x = new MutationObserver(function (mutations, observer) {{\n",
       "        var display = window.getComputedStyle(gd).display;\n",
       "        if (!display || display === 'none') {{\n",
       "            console.log([gd, 'removed!']);\n",
       "            Plotly.purge(gd);\n",
       "            observer.disconnect();\n",
       "        }}\n",
       "}});\n",
       "\n",
       "// Listen for the removal of the full notebook cells\n",
       "var notebookContainer = gd.closest('#notebook-container');\n",
       "if (notebookContainer) {{\n",
       "    x.observe(notebookContainer, {childList: true});\n",
       "}}\n",
       "\n",
       "// Listen for the clearing of the current output cell\n",
       "var outputEl = gd.closest('.output');\n",
       "if (outputEl) {{\n",
       "    x.observe(outputEl, {childList: true});\n",
       "}}\n",
       "\n",
       "                        })                };                });            </script>        </div>"
      ]
     },
     "metadata": {},
     "output_type": "display_data"
    }
   ],
   "source": [
    "df = pd.read_csv(\"https://raw.githubusercontent.com/Seydii/USSMaine/main/fig1.csv\")\n",
    "fig=px.histogram(df, x=[\"Finland\",\"Germany\",\"Mexico\", \"Netherlands\",\"Spain\",\"UK\",\"USA\"], y = [\"Attack\",\"Accident\",\"Suspend opinion\"],barnorm= \"percent\",title=\"Distribution of opinions voiced about the Maine’s explosion by country\", labels={\n",
    "    \"x\":\"Position/Country\"\n",
    "})\n",
    "fig.update_layout(    \n",
    "yaxis_title=\"\",\n",
    "legend_title=\"\")\n",
    "fig.update_yaxes (ticksuffix=\"%\")\n",
    "fig.update_xaxes (\n",
    "ticktext= [\"Finland\",\"Germany\",\"Mexico\", \"Netherlands\",\"Spain\",\"UK\",\"USA\"],\n",
    "tickvals= [\"Finland\",\"Germany\",\"Mexico\", \"Netherlands\",\"Spain\",\"UK\",\"USA\"])\n",
    "fig.show()"
   ]
  },
  {
   "cell_type": "markdown",
   "id": "fcd182a8",
   "metadata": {},
   "source": [
    "Concerning the question of accident or intent, most newspapers studied in our project referenced the opinions of military personnel and politicians, followed by experts (e.g., engineers), survivors of the *Maine*, and other journalists. When we take a closer look at the voices that called the sinking a deliberate attack (figure 4), it is interesting to note that in Mexico and the U.K., this position was mostly held by politicians, whereas in the U.S., a broader range of actors argued in favor of the attack hypothesis."
   ]
  },
  {
   "cell_type": "code",
   "execution_count": 5,
   "id": "5b1163f3",
   "metadata": {
    "tags": [
     "figure-4"
    ]
   },
   "outputs": [
    {
     "data": {
      "application/vnd.plotly.v1+json": {
       "config": {
        "plotlyServerURL": "https://plot.ly"
       },
       "data": [
        {
         "alignmentgroup": "True",
         "bingroup": "x",
         "histfunc": "sum",
         "hovertemplate": "variable=Experts<br>Country=%{x}<br>sum of value (normalized as fraction)=%{y}<extra></extra>",
         "legendgroup": "Experts",
         "marker": {
          "color": "#636efa",
          "pattern": {
           "shape": ""
          }
         },
         "name": "Experts",
         "offsetgroup": "Experts",
         "orientation": "v",
         "showlegend": true,
         "type": "histogram",
         "x": [
          "Finland",
          "Germany",
          "Mexico",
          "Netherlands",
          "Spain",
          "UK",
          "USA"
         ],
         "xaxis": "x",
         "y": [
          1,
          0,
          0,
          0,
          0,
          0,
          0.1369863014
         ],
         "yaxis": "y"
        },
        {
         "alignmentgroup": "True",
         "bingroup": "x",
         "histfunc": "sum",
         "hovertemplate": "variable=Journalists<br>Country=%{x}<br>sum of value (normalized as fraction)=%{y}<extra></extra>",
         "legendgroup": "Journalists",
         "marker": {
          "color": "#EF553B",
          "pattern": {
           "shape": ""
          }
         },
         "name": "Journalists",
         "offsetgroup": "Journalists",
         "orientation": "v",
         "showlegend": true,
         "type": "histogram",
         "x": [
          "Finland",
          "Germany",
          "Mexico",
          "Netherlands",
          "Spain",
          "UK",
          "USA"
         ],
         "xaxis": "x",
         "y": [
          0,
          0,
          0,
          0.5,
          0,
          0,
          0.02739726027
         ],
         "yaxis": "y"
        },
        {
         "alignmentgroup": "True",
         "bingroup": "x",
         "histfunc": "sum",
         "hovertemplate": "variable=Military Personnel<br>Country=%{x}<br>sum of value (normalized as fraction)=%{y}<extra></extra>",
         "legendgroup": "Military Personnel",
         "marker": {
          "color": "#00cc96",
          "pattern": {
           "shape": ""
          }
         },
         "name": "Military Personnel",
         "offsetgroup": "Military Personnel",
         "orientation": "v",
         "showlegend": true,
         "type": "histogram",
         "x": [
          "Finland",
          "Germany",
          "Mexico",
          "Netherlands",
          "Spain",
          "UK",
          "USA"
         ],
         "xaxis": "x",
         "y": [
          0,
          0,
          0,
          0,
          0,
          0,
          0.1050228311
         ],
         "yaxis": "y"
        },
        {
         "alignmentgroup": "True",
         "bingroup": "x",
         "histfunc": "sum",
         "hovertemplate": "variable=Politicians<br>Country=%{x}<br>sum of value (normalized as fraction)=%{y}<extra></extra>",
         "legendgroup": "Politicians",
         "marker": {
          "color": "#ab63fa",
          "pattern": {
           "shape": ""
          }
         },
         "name": "Politicians",
         "offsetgroup": "Politicians",
         "orientation": "v",
         "showlegend": true,
         "type": "histogram",
         "x": [
          "Finland",
          "Germany",
          "Mexico",
          "Netherlands",
          "Spain",
          "UK",
          "USA"
         ],
         "xaxis": "x",
         "y": [
          0,
          0,
          0.4545454545,
          0,
          0.1111111111,
          0.5,
          0.1369863014
         ],
         "yaxis": "y"
        },
        {
         "alignmentgroup": "True",
         "bingroup": "x",
         "histfunc": "sum",
         "hovertemplate": "variable=Sigsbee<br>Country=%{x}<br>sum of value (normalized as fraction)=%{y}<extra></extra>",
         "legendgroup": "Sigsbee",
         "marker": {
          "color": "#FFA15A",
          "pattern": {
           "shape": ""
          }
         },
         "name": "Sigsbee",
         "offsetgroup": "Sigsbee",
         "orientation": "v",
         "showlegend": true,
         "type": "histogram",
         "x": [
          "Finland",
          "Germany",
          "Mexico",
          "Netherlands",
          "Spain",
          "UK",
          "USA"
         ],
         "xaxis": "x",
         "y": [
          0,
          0,
          0.2727272727,
          0,
          0,
          0,
          0.1232876712
         ],
         "yaxis": "y"
        },
        {
         "alignmentgroup": "True",
         "bingroup": "x",
         "histfunc": "sum",
         "hovertemplate": "variable=Survivors<br>Country=%{x}<br>sum of value (normalized as fraction)=%{y}<extra></extra>",
         "legendgroup": "Survivors",
         "marker": {
          "color": "#19d3f3",
          "pattern": {
           "shape": ""
          }
         },
         "name": "Survivors",
         "offsetgroup": "Survivors",
         "orientation": "v",
         "showlegend": true,
         "type": "histogram",
         "x": [
          "Finland",
          "Germany",
          "Mexico",
          "Netherlands",
          "Spain",
          "UK",
          "USA"
         ],
         "xaxis": "x",
         "y": [
          0,
          0,
          0,
          0,
          0,
          0,
          0.05936073059
         ],
         "yaxis": "y"
        },
        {
         "alignmentgroup": "True",
         "bingroup": "x",
         "histfunc": "sum",
         "hovertemplate": "variable=Unknow Speaker<br>Country=%{x}<br>sum of value (normalized as fraction)=%{y}<extra></extra>",
         "legendgroup": "Unknow Speaker",
         "marker": {
          "color": "#FF6692",
          "pattern": {
           "shape": ""
          }
         },
         "name": "Unknow Speaker",
         "offsetgroup": "Unknow Speaker",
         "orientation": "v",
         "showlegend": true,
         "type": "histogram",
         "x": [
          "Finland",
          "Germany",
          "Mexico",
          "Netherlands",
          "Spain",
          "UK",
          "USA"
         ],
         "xaxis": "x",
         "y": [
          0,
          1,
          0.2727272727,
          0.5,
          0.8888888889,
          0.5,
          0.4109589041
         ],
         "yaxis": "y"
        }
       ],
       "layout": {
        "barmode": "relative",
        "barnorm": "fraction",
        "legend": {
         "title": {
          "text": ""
         },
         "tracegroupgap": 0
        },
        "template": {
         "data": {
          "bar": [
           {
            "error_x": {
             "color": "#2a3f5f"
            },
            "error_y": {
             "color": "#2a3f5f"
            },
            "marker": {
             "line": {
              "color": "#E5ECF6",
              "width": 0.5
             },
             "pattern": {
              "fillmode": "overlay",
              "size": 10,
              "solidity": 0.2
             }
            },
            "type": "bar"
           }
          ],
          "barpolar": [
           {
            "marker": {
             "line": {
              "color": "#E5ECF6",
              "width": 0.5
             },
             "pattern": {
              "fillmode": "overlay",
              "size": 10,
              "solidity": 0.2
             }
            },
            "type": "barpolar"
           }
          ],
          "carpet": [
           {
            "aaxis": {
             "endlinecolor": "#2a3f5f",
             "gridcolor": "white",
             "linecolor": "white",
             "minorgridcolor": "white",
             "startlinecolor": "#2a3f5f"
            },
            "baxis": {
             "endlinecolor": "#2a3f5f",
             "gridcolor": "white",
             "linecolor": "white",
             "minorgridcolor": "white",
             "startlinecolor": "#2a3f5f"
            },
            "type": "carpet"
           }
          ],
          "choropleth": [
           {
            "colorbar": {
             "outlinewidth": 0,
             "ticks": ""
            },
            "type": "choropleth"
           }
          ],
          "contour": [
           {
            "colorbar": {
             "outlinewidth": 0,
             "ticks": ""
            },
            "colorscale": [
             [
              0,
              "#0d0887"
             ],
             [
              0.1111111111111111,
              "#46039f"
             ],
             [
              0.2222222222222222,
              "#7201a8"
             ],
             [
              0.3333333333333333,
              "#9c179e"
             ],
             [
              0.4444444444444444,
              "#bd3786"
             ],
             [
              0.5555555555555556,
              "#d8576b"
             ],
             [
              0.6666666666666666,
              "#ed7953"
             ],
             [
              0.7777777777777778,
              "#fb9f3a"
             ],
             [
              0.8888888888888888,
              "#fdca26"
             ],
             [
              1,
              "#f0f921"
             ]
            ],
            "type": "contour"
           }
          ],
          "contourcarpet": [
           {
            "colorbar": {
             "outlinewidth": 0,
             "ticks": ""
            },
            "type": "contourcarpet"
           }
          ],
          "heatmap": [
           {
            "colorbar": {
             "outlinewidth": 0,
             "ticks": ""
            },
            "colorscale": [
             [
              0,
              "#0d0887"
             ],
             [
              0.1111111111111111,
              "#46039f"
             ],
             [
              0.2222222222222222,
              "#7201a8"
             ],
             [
              0.3333333333333333,
              "#9c179e"
             ],
             [
              0.4444444444444444,
              "#bd3786"
             ],
             [
              0.5555555555555556,
              "#d8576b"
             ],
             [
              0.6666666666666666,
              "#ed7953"
             ],
             [
              0.7777777777777778,
              "#fb9f3a"
             ],
             [
              0.8888888888888888,
              "#fdca26"
             ],
             [
              1,
              "#f0f921"
             ]
            ],
            "type": "heatmap"
           }
          ],
          "heatmapgl": [
           {
            "colorbar": {
             "outlinewidth": 0,
             "ticks": ""
            },
            "colorscale": [
             [
              0,
              "#0d0887"
             ],
             [
              0.1111111111111111,
              "#46039f"
             ],
             [
              0.2222222222222222,
              "#7201a8"
             ],
             [
              0.3333333333333333,
              "#9c179e"
             ],
             [
              0.4444444444444444,
              "#bd3786"
             ],
             [
              0.5555555555555556,
              "#d8576b"
             ],
             [
              0.6666666666666666,
              "#ed7953"
             ],
             [
              0.7777777777777778,
              "#fb9f3a"
             ],
             [
              0.8888888888888888,
              "#fdca26"
             ],
             [
              1,
              "#f0f921"
             ]
            ],
            "type": "heatmapgl"
           }
          ],
          "histogram": [
           {
            "marker": {
             "pattern": {
              "fillmode": "overlay",
              "size": 10,
              "solidity": 0.2
             }
            },
            "type": "histogram"
           }
          ],
          "histogram2d": [
           {
            "colorbar": {
             "outlinewidth": 0,
             "ticks": ""
            },
            "colorscale": [
             [
              0,
              "#0d0887"
             ],
             [
              0.1111111111111111,
              "#46039f"
             ],
             [
              0.2222222222222222,
              "#7201a8"
             ],
             [
              0.3333333333333333,
              "#9c179e"
             ],
             [
              0.4444444444444444,
              "#bd3786"
             ],
             [
              0.5555555555555556,
              "#d8576b"
             ],
             [
              0.6666666666666666,
              "#ed7953"
             ],
             [
              0.7777777777777778,
              "#fb9f3a"
             ],
             [
              0.8888888888888888,
              "#fdca26"
             ],
             [
              1,
              "#f0f921"
             ]
            ],
            "type": "histogram2d"
           }
          ],
          "histogram2dcontour": [
           {
            "colorbar": {
             "outlinewidth": 0,
             "ticks": ""
            },
            "colorscale": [
             [
              0,
              "#0d0887"
             ],
             [
              0.1111111111111111,
              "#46039f"
             ],
             [
              0.2222222222222222,
              "#7201a8"
             ],
             [
              0.3333333333333333,
              "#9c179e"
             ],
             [
              0.4444444444444444,
              "#bd3786"
             ],
             [
              0.5555555555555556,
              "#d8576b"
             ],
             [
              0.6666666666666666,
              "#ed7953"
             ],
             [
              0.7777777777777778,
              "#fb9f3a"
             ],
             [
              0.8888888888888888,
              "#fdca26"
             ],
             [
              1,
              "#f0f921"
             ]
            ],
            "type": "histogram2dcontour"
           }
          ],
          "mesh3d": [
           {
            "colorbar": {
             "outlinewidth": 0,
             "ticks": ""
            },
            "type": "mesh3d"
           }
          ],
          "parcoords": [
           {
            "line": {
             "colorbar": {
              "outlinewidth": 0,
              "ticks": ""
             }
            },
            "type": "parcoords"
           }
          ],
          "pie": [
           {
            "automargin": true,
            "type": "pie"
           }
          ],
          "scatter": [
           {
            "marker": {
             "colorbar": {
              "outlinewidth": 0,
              "ticks": ""
             }
            },
            "type": "scatter"
           }
          ],
          "scatter3d": [
           {
            "line": {
             "colorbar": {
              "outlinewidth": 0,
              "ticks": ""
             }
            },
            "marker": {
             "colorbar": {
              "outlinewidth": 0,
              "ticks": ""
             }
            },
            "type": "scatter3d"
           }
          ],
          "scattercarpet": [
           {
            "marker": {
             "colorbar": {
              "outlinewidth": 0,
              "ticks": ""
             }
            },
            "type": "scattercarpet"
           }
          ],
          "scattergeo": [
           {
            "marker": {
             "colorbar": {
              "outlinewidth": 0,
              "ticks": ""
             }
            },
            "type": "scattergeo"
           }
          ],
          "scattergl": [
           {
            "marker": {
             "colorbar": {
              "outlinewidth": 0,
              "ticks": ""
             }
            },
            "type": "scattergl"
           }
          ],
          "scattermapbox": [
           {
            "marker": {
             "colorbar": {
              "outlinewidth": 0,
              "ticks": ""
             }
            },
            "type": "scattermapbox"
           }
          ],
          "scatterpolar": [
           {
            "marker": {
             "colorbar": {
              "outlinewidth": 0,
              "ticks": ""
             }
            },
            "type": "scatterpolar"
           }
          ],
          "scatterpolargl": [
           {
            "marker": {
             "colorbar": {
              "outlinewidth": 0,
              "ticks": ""
             }
            },
            "type": "scatterpolargl"
           }
          ],
          "scatterternary": [
           {
            "marker": {
             "colorbar": {
              "outlinewidth": 0,
              "ticks": ""
             }
            },
            "type": "scatterternary"
           }
          ],
          "surface": [
           {
            "colorbar": {
             "outlinewidth": 0,
             "ticks": ""
            },
            "colorscale": [
             [
              0,
              "#0d0887"
             ],
             [
              0.1111111111111111,
              "#46039f"
             ],
             [
              0.2222222222222222,
              "#7201a8"
             ],
             [
              0.3333333333333333,
              "#9c179e"
             ],
             [
              0.4444444444444444,
              "#bd3786"
             ],
             [
              0.5555555555555556,
              "#d8576b"
             ],
             [
              0.6666666666666666,
              "#ed7953"
             ],
             [
              0.7777777777777778,
              "#fb9f3a"
             ],
             [
              0.8888888888888888,
              "#fdca26"
             ],
             [
              1,
              "#f0f921"
             ]
            ],
            "type": "surface"
           }
          ],
          "table": [
           {
            "cells": {
             "fill": {
              "color": "#EBF0F8"
             },
             "line": {
              "color": "white"
             }
            },
            "header": {
             "fill": {
              "color": "#C8D4E3"
             },
             "line": {
              "color": "white"
             }
            },
            "type": "table"
           }
          ]
         },
         "layout": {
          "annotationdefaults": {
           "arrowcolor": "#2a3f5f",
           "arrowhead": 0,
           "arrowwidth": 1
          },
          "autotypenumbers": "strict",
          "coloraxis": {
           "colorbar": {
            "outlinewidth": 0,
            "ticks": ""
           }
          },
          "colorscale": {
           "diverging": [
            [
             0,
             "#8e0152"
            ],
            [
             0.1,
             "#c51b7d"
            ],
            [
             0.2,
             "#de77ae"
            ],
            [
             0.3,
             "#f1b6da"
            ],
            [
             0.4,
             "#fde0ef"
            ],
            [
             0.5,
             "#f7f7f7"
            ],
            [
             0.6,
             "#e6f5d0"
            ],
            [
             0.7,
             "#b8e186"
            ],
            [
             0.8,
             "#7fbc41"
            ],
            [
             0.9,
             "#4d9221"
            ],
            [
             1,
             "#276419"
            ]
           ],
           "sequential": [
            [
             0,
             "#0d0887"
            ],
            [
             0.1111111111111111,
             "#46039f"
            ],
            [
             0.2222222222222222,
             "#7201a8"
            ],
            [
             0.3333333333333333,
             "#9c179e"
            ],
            [
             0.4444444444444444,
             "#bd3786"
            ],
            [
             0.5555555555555556,
             "#d8576b"
            ],
            [
             0.6666666666666666,
             "#ed7953"
            ],
            [
             0.7777777777777778,
             "#fb9f3a"
            ],
            [
             0.8888888888888888,
             "#fdca26"
            ],
            [
             1,
             "#f0f921"
            ]
           ],
           "sequentialminus": [
            [
             0,
             "#0d0887"
            ],
            [
             0.1111111111111111,
             "#46039f"
            ],
            [
             0.2222222222222222,
             "#7201a8"
            ],
            [
             0.3333333333333333,
             "#9c179e"
            ],
            [
             0.4444444444444444,
             "#bd3786"
            ],
            [
             0.5555555555555556,
             "#d8576b"
            ],
            [
             0.6666666666666666,
             "#ed7953"
            ],
            [
             0.7777777777777778,
             "#fb9f3a"
            ],
            [
             0.8888888888888888,
             "#fdca26"
            ],
            [
             1,
             "#f0f921"
            ]
           ]
          },
          "colorway": [
           "#636efa",
           "#EF553B",
           "#00cc96",
           "#ab63fa",
           "#FFA15A",
           "#19d3f3",
           "#FF6692",
           "#B6E880",
           "#FF97FF",
           "#FECB52"
          ],
          "font": {
           "color": "#2a3f5f"
          },
          "geo": {
           "bgcolor": "white",
           "lakecolor": "white",
           "landcolor": "#E5ECF6",
           "showlakes": true,
           "showland": true,
           "subunitcolor": "white"
          },
          "hoverlabel": {
           "align": "left"
          },
          "hovermode": "closest",
          "mapbox": {
           "style": "light"
          },
          "paper_bgcolor": "white",
          "plot_bgcolor": "#E5ECF6",
          "polar": {
           "angularaxis": {
            "gridcolor": "white",
            "linecolor": "white",
            "ticks": ""
           },
           "bgcolor": "#E5ECF6",
           "radialaxis": {
            "gridcolor": "white",
            "linecolor": "white",
            "ticks": ""
           }
          },
          "scene": {
           "xaxis": {
            "backgroundcolor": "#E5ECF6",
            "gridcolor": "white",
            "gridwidth": 2,
            "linecolor": "white",
            "showbackground": true,
            "ticks": "",
            "zerolinecolor": "white"
           },
           "yaxis": {
            "backgroundcolor": "#E5ECF6",
            "gridcolor": "white",
            "gridwidth": 2,
            "linecolor": "white",
            "showbackground": true,
            "ticks": "",
            "zerolinecolor": "white"
           },
           "zaxis": {
            "backgroundcolor": "#E5ECF6",
            "gridcolor": "white",
            "gridwidth": 2,
            "linecolor": "white",
            "showbackground": true,
            "ticks": "",
            "zerolinecolor": "white"
           }
          },
          "shapedefaults": {
           "line": {
            "color": "#2a3f5f"
           }
          },
          "ternary": {
           "aaxis": {
            "gridcolor": "white",
            "linecolor": "white",
            "ticks": ""
           },
           "baxis": {
            "gridcolor": "white",
            "linecolor": "white",
            "ticks": ""
           },
           "bgcolor": "#E5ECF6",
           "caxis": {
            "gridcolor": "white",
            "linecolor": "white",
            "ticks": ""
           }
          },
          "title": {
           "x": 0.05
          },
          "xaxis": {
           "automargin": true,
           "gridcolor": "white",
           "linecolor": "white",
           "ticks": "",
           "title": {
            "standoff": 15
           },
           "zerolinecolor": "white",
           "zerolinewidth": 2
          },
          "yaxis": {
           "automargin": true,
           "gridcolor": "white",
           "linecolor": "white",
           "ticks": "",
           "title": {
            "standoff": 15
           },
           "zerolinecolor": "white",
           "zerolinewidth": 2
          }
         }
        },
        "title": {
         "text": "Distribution of speakers leaning towards attack hypothesis by country"
        },
        "xaxis": {
         "anchor": "y",
         "domain": [
          0,
          1
         ],
         "ticktext": [
          "Finland",
          "Germany",
          "Mexico",
          "Netherlands",
          "Spain",
          "UK",
          "USA"
         ],
         "tickvals": [
          "Finland",
          "Germany",
          "Mexico",
          "Netherlands",
          "Spain",
          "UK",
          "USA"
         ],
         "title": {
          "text": "Country"
         }
        },
        "yaxis": {
         "anchor": "x",
         "domain": [
          0,
          1
         ],
         "title": {
          "text": ""
         }
        }
       }
      },
      "text/html": [
       "<div>                            <div id=\"8f0b328d-f33a-49b3-ab81-d1e0862d4760\" class=\"plotly-graph-div\" style=\"height:525px; width:100%;\"></div>            <script type=\"text/javascript\">                require([\"plotly\"], function(Plotly) {                    window.PLOTLYENV=window.PLOTLYENV || {};                                    if (document.getElementById(\"8f0b328d-f33a-49b3-ab81-d1e0862d4760\")) {                    Plotly.newPlot(                        \"8f0b328d-f33a-49b3-ab81-d1e0862d4760\",                        [{\"alignmentgroup\":\"True\",\"bingroup\":\"x\",\"histfunc\":\"sum\",\"hovertemplate\":\"variable=Experts<br>Country=%{x}<br>sum of value (normalized as fraction)=%{y}<extra></extra>\",\"legendgroup\":\"Experts\",\"marker\":{\"color\":\"#636efa\",\"pattern\":{\"shape\":\"\"}},\"name\":\"Experts\",\"offsetgroup\":\"Experts\",\"orientation\":\"v\",\"showlegend\":true,\"x\":[\"Finland\",\"Germany\",\"Mexico\",\"Netherlands\",\"Spain\",\"UK\",\"USA\"],\"xaxis\":\"x\",\"y\":[1.0,0.0,0.0,0.0,0.0,0.0,0.1369863014],\"yaxis\":\"y\",\"type\":\"histogram\"},{\"alignmentgroup\":\"True\",\"bingroup\":\"x\",\"histfunc\":\"sum\",\"hovertemplate\":\"variable=Journalists<br>Country=%{x}<br>sum of value (normalized as fraction)=%{y}<extra></extra>\",\"legendgroup\":\"Journalists\",\"marker\":{\"color\":\"#EF553B\",\"pattern\":{\"shape\":\"\"}},\"name\":\"Journalists\",\"offsetgroup\":\"Journalists\",\"orientation\":\"v\",\"showlegend\":true,\"x\":[\"Finland\",\"Germany\",\"Mexico\",\"Netherlands\",\"Spain\",\"UK\",\"USA\"],\"xaxis\":\"x\",\"y\":[0.0,0.0,0.0,0.5,0.0,0.0,0.02739726027],\"yaxis\":\"y\",\"type\":\"histogram\"},{\"alignmentgroup\":\"True\",\"bingroup\":\"x\",\"histfunc\":\"sum\",\"hovertemplate\":\"variable=Military Personnel<br>Country=%{x}<br>sum of value (normalized as fraction)=%{y}<extra></extra>\",\"legendgroup\":\"Military Personnel\",\"marker\":{\"color\":\"#00cc96\",\"pattern\":{\"shape\":\"\"}},\"name\":\"Military Personnel\",\"offsetgroup\":\"Military Personnel\",\"orientation\":\"v\",\"showlegend\":true,\"x\":[\"Finland\",\"Germany\",\"Mexico\",\"Netherlands\",\"Spain\",\"UK\",\"USA\"],\"xaxis\":\"x\",\"y\":[0.0,0.0,0.0,0.0,0.0,0.0,0.1050228311],\"yaxis\":\"y\",\"type\":\"histogram\"},{\"alignmentgroup\":\"True\",\"bingroup\":\"x\",\"histfunc\":\"sum\",\"hovertemplate\":\"variable=Politicians<br>Country=%{x}<br>sum of value (normalized as fraction)=%{y}<extra></extra>\",\"legendgroup\":\"Politicians\",\"marker\":{\"color\":\"#ab63fa\",\"pattern\":{\"shape\":\"\"}},\"name\":\"Politicians\",\"offsetgroup\":\"Politicians\",\"orientation\":\"v\",\"showlegend\":true,\"x\":[\"Finland\",\"Germany\",\"Mexico\",\"Netherlands\",\"Spain\",\"UK\",\"USA\"],\"xaxis\":\"x\",\"y\":[0.0,0.0,0.4545454545,0.0,0.1111111111,0.5,0.1369863014],\"yaxis\":\"y\",\"type\":\"histogram\"},{\"alignmentgroup\":\"True\",\"bingroup\":\"x\",\"histfunc\":\"sum\",\"hovertemplate\":\"variable=Sigsbee<br>Country=%{x}<br>sum of value (normalized as fraction)=%{y}<extra></extra>\",\"legendgroup\":\"Sigsbee\",\"marker\":{\"color\":\"#FFA15A\",\"pattern\":{\"shape\":\"\"}},\"name\":\"Sigsbee\",\"offsetgroup\":\"Sigsbee\",\"orientation\":\"v\",\"showlegend\":true,\"x\":[\"Finland\",\"Germany\",\"Mexico\",\"Netherlands\",\"Spain\",\"UK\",\"USA\"],\"xaxis\":\"x\",\"y\":[0.0,0.0,0.2727272727,0.0,0.0,0.0,0.1232876712],\"yaxis\":\"y\",\"type\":\"histogram\"},{\"alignmentgroup\":\"True\",\"bingroup\":\"x\",\"histfunc\":\"sum\",\"hovertemplate\":\"variable=Survivors<br>Country=%{x}<br>sum of value (normalized as fraction)=%{y}<extra></extra>\",\"legendgroup\":\"Survivors\",\"marker\":{\"color\":\"#19d3f3\",\"pattern\":{\"shape\":\"\"}},\"name\":\"Survivors\",\"offsetgroup\":\"Survivors\",\"orientation\":\"v\",\"showlegend\":true,\"x\":[\"Finland\",\"Germany\",\"Mexico\",\"Netherlands\",\"Spain\",\"UK\",\"USA\"],\"xaxis\":\"x\",\"y\":[0.0,0.0,0.0,0.0,0.0,0.0,0.05936073059],\"yaxis\":\"y\",\"type\":\"histogram\"},{\"alignmentgroup\":\"True\",\"bingroup\":\"x\",\"histfunc\":\"sum\",\"hovertemplate\":\"variable=Unknow Speaker<br>Country=%{x}<br>sum of value (normalized as fraction)=%{y}<extra></extra>\",\"legendgroup\":\"Unknow Speaker\",\"marker\":{\"color\":\"#FF6692\",\"pattern\":{\"shape\":\"\"}},\"name\":\"Unknow Speaker\",\"offsetgroup\":\"Unknow Speaker\",\"orientation\":\"v\",\"showlegend\":true,\"x\":[\"Finland\",\"Germany\",\"Mexico\",\"Netherlands\",\"Spain\",\"UK\",\"USA\"],\"xaxis\":\"x\",\"y\":[0.0,1.0,0.2727272727,0.5,0.8888888889,0.5,0.4109589041],\"yaxis\":\"y\",\"type\":\"histogram\"}],                        {\"template\":{\"data\":{\"bar\":[{\"error_x\":{\"color\":\"#2a3f5f\"},\"error_y\":{\"color\":\"#2a3f5f\"},\"marker\":{\"line\":{\"color\":\"#E5ECF6\",\"width\":0.5},\"pattern\":{\"fillmode\":\"overlay\",\"size\":10,\"solidity\":0.2}},\"type\":\"bar\"}],\"barpolar\":[{\"marker\":{\"line\":{\"color\":\"#E5ECF6\",\"width\":0.5},\"pattern\":{\"fillmode\":\"overlay\",\"size\":10,\"solidity\":0.2}},\"type\":\"barpolar\"}],\"carpet\":[{\"aaxis\":{\"endlinecolor\":\"#2a3f5f\",\"gridcolor\":\"white\",\"linecolor\":\"white\",\"minorgridcolor\":\"white\",\"startlinecolor\":\"#2a3f5f\"},\"baxis\":{\"endlinecolor\":\"#2a3f5f\",\"gridcolor\":\"white\",\"linecolor\":\"white\",\"minorgridcolor\":\"white\",\"startlinecolor\":\"#2a3f5f\"},\"type\":\"carpet\"}],\"choropleth\":[{\"colorbar\":{\"outlinewidth\":0,\"ticks\":\"\"},\"type\":\"choropleth\"}],\"contour\":[{\"colorbar\":{\"outlinewidth\":0,\"ticks\":\"\"},\"colorscale\":[[0.0,\"#0d0887\"],[0.1111111111111111,\"#46039f\"],[0.2222222222222222,\"#7201a8\"],[0.3333333333333333,\"#9c179e\"],[0.4444444444444444,\"#bd3786\"],[0.5555555555555556,\"#d8576b\"],[0.6666666666666666,\"#ed7953\"],[0.7777777777777778,\"#fb9f3a\"],[0.8888888888888888,\"#fdca26\"],[1.0,\"#f0f921\"]],\"type\":\"contour\"}],\"contourcarpet\":[{\"colorbar\":{\"outlinewidth\":0,\"ticks\":\"\"},\"type\":\"contourcarpet\"}],\"heatmap\":[{\"colorbar\":{\"outlinewidth\":0,\"ticks\":\"\"},\"colorscale\":[[0.0,\"#0d0887\"],[0.1111111111111111,\"#46039f\"],[0.2222222222222222,\"#7201a8\"],[0.3333333333333333,\"#9c179e\"],[0.4444444444444444,\"#bd3786\"],[0.5555555555555556,\"#d8576b\"],[0.6666666666666666,\"#ed7953\"],[0.7777777777777778,\"#fb9f3a\"],[0.8888888888888888,\"#fdca26\"],[1.0,\"#f0f921\"]],\"type\":\"heatmap\"}],\"heatmapgl\":[{\"colorbar\":{\"outlinewidth\":0,\"ticks\":\"\"},\"colorscale\":[[0.0,\"#0d0887\"],[0.1111111111111111,\"#46039f\"],[0.2222222222222222,\"#7201a8\"],[0.3333333333333333,\"#9c179e\"],[0.4444444444444444,\"#bd3786\"],[0.5555555555555556,\"#d8576b\"],[0.6666666666666666,\"#ed7953\"],[0.7777777777777778,\"#fb9f3a\"],[0.8888888888888888,\"#fdca26\"],[1.0,\"#f0f921\"]],\"type\":\"heatmapgl\"}],\"histogram\":[{\"marker\":{\"pattern\":{\"fillmode\":\"overlay\",\"size\":10,\"solidity\":0.2}},\"type\":\"histogram\"}],\"histogram2d\":[{\"colorbar\":{\"outlinewidth\":0,\"ticks\":\"\"},\"colorscale\":[[0.0,\"#0d0887\"],[0.1111111111111111,\"#46039f\"],[0.2222222222222222,\"#7201a8\"],[0.3333333333333333,\"#9c179e\"],[0.4444444444444444,\"#bd3786\"],[0.5555555555555556,\"#d8576b\"],[0.6666666666666666,\"#ed7953\"],[0.7777777777777778,\"#fb9f3a\"],[0.8888888888888888,\"#fdca26\"],[1.0,\"#f0f921\"]],\"type\":\"histogram2d\"}],\"histogram2dcontour\":[{\"colorbar\":{\"outlinewidth\":0,\"ticks\":\"\"},\"colorscale\":[[0.0,\"#0d0887\"],[0.1111111111111111,\"#46039f\"],[0.2222222222222222,\"#7201a8\"],[0.3333333333333333,\"#9c179e\"],[0.4444444444444444,\"#bd3786\"],[0.5555555555555556,\"#d8576b\"],[0.6666666666666666,\"#ed7953\"],[0.7777777777777778,\"#fb9f3a\"],[0.8888888888888888,\"#fdca26\"],[1.0,\"#f0f921\"]],\"type\":\"histogram2dcontour\"}],\"mesh3d\":[{\"colorbar\":{\"outlinewidth\":0,\"ticks\":\"\"},\"type\":\"mesh3d\"}],\"parcoords\":[{\"line\":{\"colorbar\":{\"outlinewidth\":0,\"ticks\":\"\"}},\"type\":\"parcoords\"}],\"pie\":[{\"automargin\":true,\"type\":\"pie\"}],\"scatter\":[{\"marker\":{\"colorbar\":{\"outlinewidth\":0,\"ticks\":\"\"}},\"type\":\"scatter\"}],\"scatter3d\":[{\"line\":{\"colorbar\":{\"outlinewidth\":0,\"ticks\":\"\"}},\"marker\":{\"colorbar\":{\"outlinewidth\":0,\"ticks\":\"\"}},\"type\":\"scatter3d\"}],\"scattercarpet\":[{\"marker\":{\"colorbar\":{\"outlinewidth\":0,\"ticks\":\"\"}},\"type\":\"scattercarpet\"}],\"scattergeo\":[{\"marker\":{\"colorbar\":{\"outlinewidth\":0,\"ticks\":\"\"}},\"type\":\"scattergeo\"}],\"scattergl\":[{\"marker\":{\"colorbar\":{\"outlinewidth\":0,\"ticks\":\"\"}},\"type\":\"scattergl\"}],\"scattermapbox\":[{\"marker\":{\"colorbar\":{\"outlinewidth\":0,\"ticks\":\"\"}},\"type\":\"scattermapbox\"}],\"scatterpolar\":[{\"marker\":{\"colorbar\":{\"outlinewidth\":0,\"ticks\":\"\"}},\"type\":\"scatterpolar\"}],\"scatterpolargl\":[{\"marker\":{\"colorbar\":{\"outlinewidth\":0,\"ticks\":\"\"}},\"type\":\"scatterpolargl\"}],\"scatterternary\":[{\"marker\":{\"colorbar\":{\"outlinewidth\":0,\"ticks\":\"\"}},\"type\":\"scatterternary\"}],\"surface\":[{\"colorbar\":{\"outlinewidth\":0,\"ticks\":\"\"},\"colorscale\":[[0.0,\"#0d0887\"],[0.1111111111111111,\"#46039f\"],[0.2222222222222222,\"#7201a8\"],[0.3333333333333333,\"#9c179e\"],[0.4444444444444444,\"#bd3786\"],[0.5555555555555556,\"#d8576b\"],[0.6666666666666666,\"#ed7953\"],[0.7777777777777778,\"#fb9f3a\"],[0.8888888888888888,\"#fdca26\"],[1.0,\"#f0f921\"]],\"type\":\"surface\"}],\"table\":[{\"cells\":{\"fill\":{\"color\":\"#EBF0F8\"},\"line\":{\"color\":\"white\"}},\"header\":{\"fill\":{\"color\":\"#C8D4E3\"},\"line\":{\"color\":\"white\"}},\"type\":\"table\"}]},\"layout\":{\"annotationdefaults\":{\"arrowcolor\":\"#2a3f5f\",\"arrowhead\":0,\"arrowwidth\":1},\"autotypenumbers\":\"strict\",\"coloraxis\":{\"colorbar\":{\"outlinewidth\":0,\"ticks\":\"\"}},\"colorscale\":{\"diverging\":[[0,\"#8e0152\"],[0.1,\"#c51b7d\"],[0.2,\"#de77ae\"],[0.3,\"#f1b6da\"],[0.4,\"#fde0ef\"],[0.5,\"#f7f7f7\"],[0.6,\"#e6f5d0\"],[0.7,\"#b8e186\"],[0.8,\"#7fbc41\"],[0.9,\"#4d9221\"],[1,\"#276419\"]],\"sequential\":[[0.0,\"#0d0887\"],[0.1111111111111111,\"#46039f\"],[0.2222222222222222,\"#7201a8\"],[0.3333333333333333,\"#9c179e\"],[0.4444444444444444,\"#bd3786\"],[0.5555555555555556,\"#d8576b\"],[0.6666666666666666,\"#ed7953\"],[0.7777777777777778,\"#fb9f3a\"],[0.8888888888888888,\"#fdca26\"],[1.0,\"#f0f921\"]],\"sequentialminus\":[[0.0,\"#0d0887\"],[0.1111111111111111,\"#46039f\"],[0.2222222222222222,\"#7201a8\"],[0.3333333333333333,\"#9c179e\"],[0.4444444444444444,\"#bd3786\"],[0.5555555555555556,\"#d8576b\"],[0.6666666666666666,\"#ed7953\"],[0.7777777777777778,\"#fb9f3a\"],[0.8888888888888888,\"#fdca26\"],[1.0,\"#f0f921\"]]},\"colorway\":[\"#636efa\",\"#EF553B\",\"#00cc96\",\"#ab63fa\",\"#FFA15A\",\"#19d3f3\",\"#FF6692\",\"#B6E880\",\"#FF97FF\",\"#FECB52\"],\"font\":{\"color\":\"#2a3f5f\"},\"geo\":{\"bgcolor\":\"white\",\"lakecolor\":\"white\",\"landcolor\":\"#E5ECF6\",\"showlakes\":true,\"showland\":true,\"subunitcolor\":\"white\"},\"hoverlabel\":{\"align\":\"left\"},\"hovermode\":\"closest\",\"mapbox\":{\"style\":\"light\"},\"paper_bgcolor\":\"white\",\"plot_bgcolor\":\"#E5ECF6\",\"polar\":{\"angularaxis\":{\"gridcolor\":\"white\",\"linecolor\":\"white\",\"ticks\":\"\"},\"bgcolor\":\"#E5ECF6\",\"radialaxis\":{\"gridcolor\":\"white\",\"linecolor\":\"white\",\"ticks\":\"\"}},\"scene\":{\"xaxis\":{\"backgroundcolor\":\"#E5ECF6\",\"gridcolor\":\"white\",\"gridwidth\":2,\"linecolor\":\"white\",\"showbackground\":true,\"ticks\":\"\",\"zerolinecolor\":\"white\"},\"yaxis\":{\"backgroundcolor\":\"#E5ECF6\",\"gridcolor\":\"white\",\"gridwidth\":2,\"linecolor\":\"white\",\"showbackground\":true,\"ticks\":\"\",\"zerolinecolor\":\"white\"},\"zaxis\":{\"backgroundcolor\":\"#E5ECF6\",\"gridcolor\":\"white\",\"gridwidth\":2,\"linecolor\":\"white\",\"showbackground\":true,\"ticks\":\"\",\"zerolinecolor\":\"white\"}},\"shapedefaults\":{\"line\":{\"color\":\"#2a3f5f\"}},\"ternary\":{\"aaxis\":{\"gridcolor\":\"white\",\"linecolor\":\"white\",\"ticks\":\"\"},\"baxis\":{\"gridcolor\":\"white\",\"linecolor\":\"white\",\"ticks\":\"\"},\"bgcolor\":\"#E5ECF6\",\"caxis\":{\"gridcolor\":\"white\",\"linecolor\":\"white\",\"ticks\":\"\"}},\"title\":{\"x\":0.05},\"xaxis\":{\"automargin\":true,\"gridcolor\":\"white\",\"linecolor\":\"white\",\"ticks\":\"\",\"title\":{\"standoff\":15},\"zerolinecolor\":\"white\",\"zerolinewidth\":2},\"yaxis\":{\"automargin\":true,\"gridcolor\":\"white\",\"linecolor\":\"white\",\"ticks\":\"\",\"title\":{\"standoff\":15},\"zerolinecolor\":\"white\",\"zerolinewidth\":2}}},\"xaxis\":{\"anchor\":\"y\",\"domain\":[0.0,1.0],\"title\":{\"text\":\"Country\"},\"ticktext\":[\"Finland\",\"Germany\",\"Mexico\",\"Netherlands\",\"Spain\",\"UK\",\"USA\"],\"tickvals\":[\"Finland\",\"Germany\",\"Mexico\",\"Netherlands\",\"Spain\",\"UK\",\"USA\"]},\"yaxis\":{\"anchor\":\"x\",\"domain\":[0.0,1.0],\"title\":{\"text\":\"\"}},\"legend\":{\"title\":{\"text\":\"\"},\"tracegroupgap\":0},\"title\":{\"text\":\"Distribution of speakers leaning towards attack hypothesis by country\"},\"barmode\":\"relative\",\"barnorm\":\"fraction\"},                        {\"responsive\": true}                    ).then(function(){\n",
       "                            \n",
       "var gd = document.getElementById('8f0b328d-f33a-49b3-ab81-d1e0862d4760');\n",
       "var x = new MutationObserver(function (mutations, observer) {{\n",
       "        var display = window.getComputedStyle(gd).display;\n",
       "        if (!display || display === 'none') {{\n",
       "            console.log([gd, 'removed!']);\n",
       "            Plotly.purge(gd);\n",
       "            observer.disconnect();\n",
       "        }}\n",
       "}});\n",
       "\n",
       "// Listen for the removal of the full notebook cells\n",
       "var notebookContainer = gd.closest('#notebook-container');\n",
       "if (notebookContainer) {{\n",
       "    x.observe(notebookContainer, {childList: true});\n",
       "}}\n",
       "\n",
       "// Listen for the clearing of the current output cell\n",
       "var outputEl = gd.closest('.output');\n",
       "if (outputEl) {{\n",
       "    x.observe(outputEl, {childList: true});\n",
       "}}\n",
       "\n",
       "                        })                };                });            </script>        </div>"
      ]
     },
     "metadata": {},
     "output_type": "display_data"
    }
   ],
   "source": [
    "df = pd.read_csv(\"https://raw.githubusercontent.com/Seydii/USSMaine/Corpus/Figure%204.csv\")\n",
    "fig=px.histogram(df, x=[\"Finland\",\"Germany\",\"Mexico\", \"Netherlands\",\"Spain\",\"UK\",\"USA\"], y = [\"Experts\",\"Journalists\",\"Military Personnel\",\"Politicians\",\"Sigsbee\",\"Survivors\",\"Unknow Speaker\"],barnorm = \"fraction\",title=\"Distribution of speakers leaning towards attack hypothesis by country\",labels={\n",
    "    \"x\":\"Country\"\n",
    "})\n",
    "fig.update_layout(    \n",
    "yaxis_title=\"\",\n",
    "legend_title=\"\")\n",
    "fig.update_xaxes (\n",
    "ticktext= [\"Finland\",\"Germany\",\"Mexico\", \"Netherlands\",\"Spain\",\"UK\",\"USA\"],\n",
    "tickvals= [\"Finland\",\"Germany\",\"Mexico\", \"Netherlands\",\"Spain\",\"UK\",\"USA\"])\n",
    "fig.show()"
   ]
  },
  {
   "cell_type": "markdown",
   "id": "1ba3b768",
   "metadata": {},
   "source": [
    "We can also see how the United States data displays a much higher diversity of voices and opinion-shapers than in other countries represented in our corpus. In Finland, by contrast, only experts claimed that the sinking was due to an attack, and in the Netherlands, the voices of journalists calling the incident an attack seemed unusually high. When we go back to the working corpus and thus shift from a distant to a close reading approach to the newspaper coverage, we can see that this was an indication of how Dutch papers re-printed the belligerent voices in the New York yellow press. In contrast to other countries, Dutch newspapers referenced no expert opinions but appeared to lean strongly towards the attack theory compared to other European papers because of the citations by American journalists who claimed that it was an attack and that Spain was behind it.<br> \n",
    "It is not only insightful to learn who said what about the event, but also which voices are not represented in the press. Concerning the attack theory, we can see only the American press referenced military personnel and survivors. Likewise, regarding \"suspending opinion,\" we see that survivors, a few experts, and journalists were quoted. The accident position was also barely mentioned by journalists and Captain Sigsbee. Nonetheless, this is the hypothesis with the highest number of voices overall. In contrast, more speakers voiced the accident hypothesis than the attack theory, i.e., there was a higher degree of a plurality of points of view among those who considered the explosion to be due to an accident. Experts supported the accident theory in every country except the Netherlands and the U.K., where politicians and military personnel mostly voiced this opinion (figure 5).<br>\n",
    "As can also be deduced from the data, the Finnish press relied more on expert assessments of the explosion and leaned towards the accident hypothesis more strongly than any other national press in our corpus. It is difficult to determine whether the most balanced and least biased reporting is due to Finish strivings for neutrality, with no stakes in who controls Cuba and the Western Hemisphere, or whether it reflects Russian political (and imperial) interests, given that in 1898 Finland was still officially a Grand Duchy in the Russian Empire.\n"
   ]
  },
  {
   "cell_type": "code",
   "execution_count": 6,
   "id": "b600b4bd",
   "metadata": {
    "tags": [
     "figure-5"
    ]
   },
   "outputs": [
    {
     "data": {
      "application/vnd.plotly.v1+json": {
       "config": {
        "plotlyServerURL": "https://plot.ly"
       },
       "data": [
        {
         "alignmentgroup": "True",
         "bingroup": "x",
         "histfunc": "sum",
         "hovertemplate": "variable=Experts<br>Position/Country=%{x}<br>sum of value (normalized as percent)=%{y}<extra></extra>",
         "legendgroup": "Experts",
         "marker": {
          "color": "#636efa",
          "pattern": {
           "shape": ""
          }
         },
         "name": "Experts",
         "offsetgroup": "Experts",
         "orientation": "v",
         "showlegend": true,
         "type": "histogram",
         "x": [
          "Finland",
          "Germany",
          "Mexico",
          "Netherlands",
          "Spain",
          "UK",
          "USA"
         ],
         "xaxis": "x",
         "y": [
          0.6923076923,
          0.1666666667,
          0.3043478261,
          0,
          0.2857142857,
          0,
          0.06097560976
         ],
         "yaxis": "y"
        },
        {
         "alignmentgroup": "True",
         "bingroup": "x",
         "histfunc": "sum",
         "hovertemplate": "variable=Journalists<br>Position/Country=%{x}<br>sum of value (normalized as percent)=%{y}<extra></extra>",
         "legendgroup": "Journalists",
         "marker": {
          "color": "#EF553B",
          "pattern": {
           "shape": ""
          }
         },
         "name": "Journalists",
         "offsetgroup": "Journalists",
         "orientation": "v",
         "showlegend": true,
         "type": "histogram",
         "x": [
          "Finland",
          "Germany",
          "Mexico",
          "Netherlands",
          "Spain",
          "UK",
          "USA"
         ],
         "xaxis": "x",
         "y": [
          0,
          0,
          0,
          0,
          0,
          0,
          0.01219512195
         ],
         "yaxis": "y"
        },
        {
         "alignmentgroup": "True",
         "bingroup": "x",
         "histfunc": "sum",
         "hovertemplate": "variable=Military Personnel<br>Position/Country=%{x}<br>sum of value (normalized as percent)=%{y}<extra></extra>",
         "legendgroup": "Military Personnel",
         "marker": {
          "color": "#00cc96",
          "pattern": {
           "shape": ""
          }
         },
         "name": "Military Personnel",
         "offsetgroup": "Military Personnel",
         "orientation": "v",
         "showlegend": true,
         "type": "histogram",
         "x": [
          "Finland",
          "Germany",
          "Mexico",
          "Netherlands",
          "Spain",
          "UK",
          "USA"
         ],
         "xaxis": "x",
         "y": [
          0,
          0,
          0.08695652174,
          0.7142857143,
          0.1428571429,
          0.2,
          0.1341463415
         ],
         "yaxis": "y"
        },
        {
         "alignmentgroup": "True",
         "bingroup": "x",
         "histfunc": "sum",
         "hovertemplate": "variable=Politicians<br>Position/Country=%{x}<br>sum of value (normalized as percent)=%{y}<extra></extra>",
         "legendgroup": "Politicians",
         "marker": {
          "color": "#ab63fa",
          "pattern": {
           "shape": ""
          }
         },
         "name": "Politicians",
         "offsetgroup": "Politicians",
         "orientation": "v",
         "showlegend": true,
         "type": "histogram",
         "x": [
          "Finland",
          "Germany",
          "Mexico",
          "Netherlands",
          "Spain",
          "UK",
          "USA"
         ],
         "xaxis": "x",
         "y": [
          0,
          0.1666666667,
          0.2173913043,
          0.2857142857,
          0,
          0,
          0.262195122
         ],
         "yaxis": "y"
        },
        {
         "alignmentgroup": "True",
         "bingroup": "x",
         "histfunc": "sum",
         "hovertemplate": "variable=Sigsbee<br>Position/Country=%{x}<br>sum of value (normalized as percent)=%{y}<extra></extra>",
         "legendgroup": "Sigsbee",
         "marker": {
          "color": "#FFA15A",
          "pattern": {
           "shape": ""
          }
         },
         "name": "Sigsbee",
         "offsetgroup": "Sigsbee",
         "orientation": "v",
         "showlegend": true,
         "type": "histogram",
         "x": [
          "Finland",
          "Germany",
          "Mexico",
          "Netherlands",
          "Spain",
          "UK",
          "USA"
         ],
         "xaxis": "x",
         "y": [
          0,
          0,
          0,
          0,
          0,
          0,
          0.01219512195
         ],
         "yaxis": "y"
        },
        {
         "alignmentgroup": "True",
         "bingroup": "x",
         "histfunc": "sum",
         "hovertemplate": "variable=Survivors<br>Position/Country=%{x}<br>sum of value (normalized as percent)=%{y}<extra></extra>",
         "legendgroup": "Survivors",
         "marker": {
          "color": "#19d3f3",
          "pattern": {
           "shape": ""
          }
         },
         "name": "Survivors",
         "offsetgroup": "Survivors",
         "orientation": "v",
         "showlegend": true,
         "type": "histogram",
         "x": [
          "Finland",
          "Germany",
          "Mexico",
          "Netherlands",
          "Spain",
          "UK",
          "USA"
         ],
         "xaxis": "x",
         "y": [
          0.07692307692,
          0.6666666667,
          0.2608695652,
          0,
          0.1428571429,
          0,
          0.03048780488
         ],
         "yaxis": "y"
        },
        {
         "alignmentgroup": "True",
         "bingroup": "x",
         "histfunc": "sum",
         "hovertemplate": "variable=Unknow Speaker<br>Position/Country=%{x}<br>sum of value (normalized as percent)=%{y}<extra></extra>",
         "legendgroup": "Unknow Speaker",
         "marker": {
          "color": "#FF6692",
          "pattern": {
           "shape": ""
          }
         },
         "name": "Unknow Speaker",
         "offsetgroup": "Unknow Speaker",
         "orientation": "v",
         "showlegend": true,
         "type": "histogram",
         "x": [
          "Finland",
          "Germany",
          "Mexico",
          "Netherlands",
          "Spain",
          "UK",
          "USA"
         ],
         "xaxis": "x",
         "y": [
          0.2307692308,
          0,
          0.1304347826,
          0,
          0.4285714286,
          0.8,
          0.487804878
         ],
         "yaxis": "y"
        }
       ],
       "layout": {
        "barmode": "relative",
        "barnorm": "percent",
        "legend": {
         "title": {
          "text": "Speakers"
         },
         "tracegroupgap": 0
        },
        "template": {
         "data": {
          "bar": [
           {
            "error_x": {
             "color": "#2a3f5f"
            },
            "error_y": {
             "color": "#2a3f5f"
            },
            "marker": {
             "line": {
              "color": "#E5ECF6",
              "width": 0.5
             },
             "pattern": {
              "fillmode": "overlay",
              "size": 10,
              "solidity": 0.2
             }
            },
            "type": "bar"
           }
          ],
          "barpolar": [
           {
            "marker": {
             "line": {
              "color": "#E5ECF6",
              "width": 0.5
             },
             "pattern": {
              "fillmode": "overlay",
              "size": 10,
              "solidity": 0.2
             }
            },
            "type": "barpolar"
           }
          ],
          "carpet": [
           {
            "aaxis": {
             "endlinecolor": "#2a3f5f",
             "gridcolor": "white",
             "linecolor": "white",
             "minorgridcolor": "white",
             "startlinecolor": "#2a3f5f"
            },
            "baxis": {
             "endlinecolor": "#2a3f5f",
             "gridcolor": "white",
             "linecolor": "white",
             "minorgridcolor": "white",
             "startlinecolor": "#2a3f5f"
            },
            "type": "carpet"
           }
          ],
          "choropleth": [
           {
            "colorbar": {
             "outlinewidth": 0,
             "ticks": ""
            },
            "type": "choropleth"
           }
          ],
          "contour": [
           {
            "colorbar": {
             "outlinewidth": 0,
             "ticks": ""
            },
            "colorscale": [
             [
              0,
              "#0d0887"
             ],
             [
              0.1111111111111111,
              "#46039f"
             ],
             [
              0.2222222222222222,
              "#7201a8"
             ],
             [
              0.3333333333333333,
              "#9c179e"
             ],
             [
              0.4444444444444444,
              "#bd3786"
             ],
             [
              0.5555555555555556,
              "#d8576b"
             ],
             [
              0.6666666666666666,
              "#ed7953"
             ],
             [
              0.7777777777777778,
              "#fb9f3a"
             ],
             [
              0.8888888888888888,
              "#fdca26"
             ],
             [
              1,
              "#f0f921"
             ]
            ],
            "type": "contour"
           }
          ],
          "contourcarpet": [
           {
            "colorbar": {
             "outlinewidth": 0,
             "ticks": ""
            },
            "type": "contourcarpet"
           }
          ],
          "heatmap": [
           {
            "colorbar": {
             "outlinewidth": 0,
             "ticks": ""
            },
            "colorscale": [
             [
              0,
              "#0d0887"
             ],
             [
              0.1111111111111111,
              "#46039f"
             ],
             [
              0.2222222222222222,
              "#7201a8"
             ],
             [
              0.3333333333333333,
              "#9c179e"
             ],
             [
              0.4444444444444444,
              "#bd3786"
             ],
             [
              0.5555555555555556,
              "#d8576b"
             ],
             [
              0.6666666666666666,
              "#ed7953"
             ],
             [
              0.7777777777777778,
              "#fb9f3a"
             ],
             [
              0.8888888888888888,
              "#fdca26"
             ],
             [
              1,
              "#f0f921"
             ]
            ],
            "type": "heatmap"
           }
          ],
          "heatmapgl": [
           {
            "colorbar": {
             "outlinewidth": 0,
             "ticks": ""
            },
            "colorscale": [
             [
              0,
              "#0d0887"
             ],
             [
              0.1111111111111111,
              "#46039f"
             ],
             [
              0.2222222222222222,
              "#7201a8"
             ],
             [
              0.3333333333333333,
              "#9c179e"
             ],
             [
              0.4444444444444444,
              "#bd3786"
             ],
             [
              0.5555555555555556,
              "#d8576b"
             ],
             [
              0.6666666666666666,
              "#ed7953"
             ],
             [
              0.7777777777777778,
              "#fb9f3a"
             ],
             [
              0.8888888888888888,
              "#fdca26"
             ],
             [
              1,
              "#f0f921"
             ]
            ],
            "type": "heatmapgl"
           }
          ],
          "histogram": [
           {
            "marker": {
             "pattern": {
              "fillmode": "overlay",
              "size": 10,
              "solidity": 0.2
             }
            },
            "type": "histogram"
           }
          ],
          "histogram2d": [
           {
            "colorbar": {
             "outlinewidth": 0,
             "ticks": ""
            },
            "colorscale": [
             [
              0,
              "#0d0887"
             ],
             [
              0.1111111111111111,
              "#46039f"
             ],
             [
              0.2222222222222222,
              "#7201a8"
             ],
             [
              0.3333333333333333,
              "#9c179e"
             ],
             [
              0.4444444444444444,
              "#bd3786"
             ],
             [
              0.5555555555555556,
              "#d8576b"
             ],
             [
              0.6666666666666666,
              "#ed7953"
             ],
             [
              0.7777777777777778,
              "#fb9f3a"
             ],
             [
              0.8888888888888888,
              "#fdca26"
             ],
             [
              1,
              "#f0f921"
             ]
            ],
            "type": "histogram2d"
           }
          ],
          "histogram2dcontour": [
           {
            "colorbar": {
             "outlinewidth": 0,
             "ticks": ""
            },
            "colorscale": [
             [
              0,
              "#0d0887"
             ],
             [
              0.1111111111111111,
              "#46039f"
             ],
             [
              0.2222222222222222,
              "#7201a8"
             ],
             [
              0.3333333333333333,
              "#9c179e"
             ],
             [
              0.4444444444444444,
              "#bd3786"
             ],
             [
              0.5555555555555556,
              "#d8576b"
             ],
             [
              0.6666666666666666,
              "#ed7953"
             ],
             [
              0.7777777777777778,
              "#fb9f3a"
             ],
             [
              0.8888888888888888,
              "#fdca26"
             ],
             [
              1,
              "#f0f921"
             ]
            ],
            "type": "histogram2dcontour"
           }
          ],
          "mesh3d": [
           {
            "colorbar": {
             "outlinewidth": 0,
             "ticks": ""
            },
            "type": "mesh3d"
           }
          ],
          "parcoords": [
           {
            "line": {
             "colorbar": {
              "outlinewidth": 0,
              "ticks": ""
             }
            },
            "type": "parcoords"
           }
          ],
          "pie": [
           {
            "automargin": true,
            "type": "pie"
           }
          ],
          "scatter": [
           {
            "marker": {
             "colorbar": {
              "outlinewidth": 0,
              "ticks": ""
             }
            },
            "type": "scatter"
           }
          ],
          "scatter3d": [
           {
            "line": {
             "colorbar": {
              "outlinewidth": 0,
              "ticks": ""
             }
            },
            "marker": {
             "colorbar": {
              "outlinewidth": 0,
              "ticks": ""
             }
            },
            "type": "scatter3d"
           }
          ],
          "scattercarpet": [
           {
            "marker": {
             "colorbar": {
              "outlinewidth": 0,
              "ticks": ""
             }
            },
            "type": "scattercarpet"
           }
          ],
          "scattergeo": [
           {
            "marker": {
             "colorbar": {
              "outlinewidth": 0,
              "ticks": ""
             }
            },
            "type": "scattergeo"
           }
          ],
          "scattergl": [
           {
            "marker": {
             "colorbar": {
              "outlinewidth": 0,
              "ticks": ""
             }
            },
            "type": "scattergl"
           }
          ],
          "scattermapbox": [
           {
            "marker": {
             "colorbar": {
              "outlinewidth": 0,
              "ticks": ""
             }
            },
            "type": "scattermapbox"
           }
          ],
          "scatterpolar": [
           {
            "marker": {
             "colorbar": {
              "outlinewidth": 0,
              "ticks": ""
             }
            },
            "type": "scatterpolar"
           }
          ],
          "scatterpolargl": [
           {
            "marker": {
             "colorbar": {
              "outlinewidth": 0,
              "ticks": ""
             }
            },
            "type": "scatterpolargl"
           }
          ],
          "scatterternary": [
           {
            "marker": {
             "colorbar": {
              "outlinewidth": 0,
              "ticks": ""
             }
            },
            "type": "scatterternary"
           }
          ],
          "surface": [
           {
            "colorbar": {
             "outlinewidth": 0,
             "ticks": ""
            },
            "colorscale": [
             [
              0,
              "#0d0887"
             ],
             [
              0.1111111111111111,
              "#46039f"
             ],
             [
              0.2222222222222222,
              "#7201a8"
             ],
             [
              0.3333333333333333,
              "#9c179e"
             ],
             [
              0.4444444444444444,
              "#bd3786"
             ],
             [
              0.5555555555555556,
              "#d8576b"
             ],
             [
              0.6666666666666666,
              "#ed7953"
             ],
             [
              0.7777777777777778,
              "#fb9f3a"
             ],
             [
              0.8888888888888888,
              "#fdca26"
             ],
             [
              1,
              "#f0f921"
             ]
            ],
            "type": "surface"
           }
          ],
          "table": [
           {
            "cells": {
             "fill": {
              "color": "#EBF0F8"
             },
             "line": {
              "color": "white"
             }
            },
            "header": {
             "fill": {
              "color": "#C8D4E3"
             },
             "line": {
              "color": "white"
             }
            },
            "type": "table"
           }
          ]
         },
         "layout": {
          "annotationdefaults": {
           "arrowcolor": "#2a3f5f",
           "arrowhead": 0,
           "arrowwidth": 1
          },
          "autotypenumbers": "strict",
          "coloraxis": {
           "colorbar": {
            "outlinewidth": 0,
            "ticks": ""
           }
          },
          "colorscale": {
           "diverging": [
            [
             0,
             "#8e0152"
            ],
            [
             0.1,
             "#c51b7d"
            ],
            [
             0.2,
             "#de77ae"
            ],
            [
             0.3,
             "#f1b6da"
            ],
            [
             0.4,
             "#fde0ef"
            ],
            [
             0.5,
             "#f7f7f7"
            ],
            [
             0.6,
             "#e6f5d0"
            ],
            [
             0.7,
             "#b8e186"
            ],
            [
             0.8,
             "#7fbc41"
            ],
            [
             0.9,
             "#4d9221"
            ],
            [
             1,
             "#276419"
            ]
           ],
           "sequential": [
            [
             0,
             "#0d0887"
            ],
            [
             0.1111111111111111,
             "#46039f"
            ],
            [
             0.2222222222222222,
             "#7201a8"
            ],
            [
             0.3333333333333333,
             "#9c179e"
            ],
            [
             0.4444444444444444,
             "#bd3786"
            ],
            [
             0.5555555555555556,
             "#d8576b"
            ],
            [
             0.6666666666666666,
             "#ed7953"
            ],
            [
             0.7777777777777778,
             "#fb9f3a"
            ],
            [
             0.8888888888888888,
             "#fdca26"
            ],
            [
             1,
             "#f0f921"
            ]
           ],
           "sequentialminus": [
            [
             0,
             "#0d0887"
            ],
            [
             0.1111111111111111,
             "#46039f"
            ],
            [
             0.2222222222222222,
             "#7201a8"
            ],
            [
             0.3333333333333333,
             "#9c179e"
            ],
            [
             0.4444444444444444,
             "#bd3786"
            ],
            [
             0.5555555555555556,
             "#d8576b"
            ],
            [
             0.6666666666666666,
             "#ed7953"
            ],
            [
             0.7777777777777778,
             "#fb9f3a"
            ],
            [
             0.8888888888888888,
             "#fdca26"
            ],
            [
             1,
             "#f0f921"
            ]
           ]
          },
          "colorway": [
           "#636efa",
           "#EF553B",
           "#00cc96",
           "#ab63fa",
           "#FFA15A",
           "#19d3f3",
           "#FF6692",
           "#B6E880",
           "#FF97FF",
           "#FECB52"
          ],
          "font": {
           "color": "#2a3f5f"
          },
          "geo": {
           "bgcolor": "white",
           "lakecolor": "white",
           "landcolor": "#E5ECF6",
           "showlakes": true,
           "showland": true,
           "subunitcolor": "white"
          },
          "hoverlabel": {
           "align": "left"
          },
          "hovermode": "closest",
          "mapbox": {
           "style": "light"
          },
          "paper_bgcolor": "white",
          "plot_bgcolor": "#E5ECF6",
          "polar": {
           "angularaxis": {
            "gridcolor": "white",
            "linecolor": "white",
            "ticks": ""
           },
           "bgcolor": "#E5ECF6",
           "radialaxis": {
            "gridcolor": "white",
            "linecolor": "white",
            "ticks": ""
           }
          },
          "scene": {
           "xaxis": {
            "backgroundcolor": "#E5ECF6",
            "gridcolor": "white",
            "gridwidth": 2,
            "linecolor": "white",
            "showbackground": true,
            "ticks": "",
            "zerolinecolor": "white"
           },
           "yaxis": {
            "backgroundcolor": "#E5ECF6",
            "gridcolor": "white",
            "gridwidth": 2,
            "linecolor": "white",
            "showbackground": true,
            "ticks": "",
            "zerolinecolor": "white"
           },
           "zaxis": {
            "backgroundcolor": "#E5ECF6",
            "gridcolor": "white",
            "gridwidth": 2,
            "linecolor": "white",
            "showbackground": true,
            "ticks": "",
            "zerolinecolor": "white"
           }
          },
          "shapedefaults": {
           "line": {
            "color": "#2a3f5f"
           }
          },
          "ternary": {
           "aaxis": {
            "gridcolor": "white",
            "linecolor": "white",
            "ticks": ""
           },
           "baxis": {
            "gridcolor": "white",
            "linecolor": "white",
            "ticks": ""
           },
           "bgcolor": "#E5ECF6",
           "caxis": {
            "gridcolor": "white",
            "linecolor": "white",
            "ticks": ""
           }
          },
          "title": {
           "x": 0.05
          },
          "xaxis": {
           "automargin": true,
           "gridcolor": "white",
           "linecolor": "white",
           "ticks": "",
           "title": {
            "standoff": 15
           },
           "zerolinecolor": "white",
           "zerolinewidth": 2
          },
          "yaxis": {
           "automargin": true,
           "gridcolor": "white",
           "linecolor": "white",
           "ticks": "",
           "title": {
            "standoff": 15
           },
           "zerolinecolor": "white",
           "zerolinewidth": 2
          }
         }
        },
        "title": {
         "text": "Distribution of speakers leaning towards accident hypothesis by country"
        },
        "xaxis": {
         "anchor": "y",
         "domain": [
          0,
          1
         ],
         "ticktext": [
          "Finland",
          "Germany",
          "Mexico",
          "Netherlands",
          "Spain",
          "UK",
          "USA"
         ],
         "tickvals": [
          "Finland",
          "Germany",
          "Mexico",
          "Netherlands",
          "Spain",
          "UK",
          "USA"
         ],
         "title": {
          "text": "Position/Country"
         }
        },
        "yaxis": {
         "anchor": "x",
         "domain": [
          0,
          1
         ],
         "ticksuffix": "%",
         "title": {
          "text": ""
         }
        }
       }
      },
      "text/html": [
       "<div>                            <div id=\"567c6681-1335-40ef-a70d-333ccb5eaed5\" class=\"plotly-graph-div\" style=\"height:525px; width:100%;\"></div>            <script type=\"text/javascript\">                require([\"plotly\"], function(Plotly) {                    window.PLOTLYENV=window.PLOTLYENV || {};                                    if (document.getElementById(\"567c6681-1335-40ef-a70d-333ccb5eaed5\")) {                    Plotly.newPlot(                        \"567c6681-1335-40ef-a70d-333ccb5eaed5\",                        [{\"alignmentgroup\":\"True\",\"bingroup\":\"x\",\"histfunc\":\"sum\",\"hovertemplate\":\"variable=Experts<br>Position/Country=%{x}<br>sum of value (normalized as percent)=%{y}<extra></extra>\",\"legendgroup\":\"Experts\",\"marker\":{\"color\":\"#636efa\",\"pattern\":{\"shape\":\"\"}},\"name\":\"Experts\",\"offsetgroup\":\"Experts\",\"orientation\":\"v\",\"showlegend\":true,\"x\":[\"Finland\",\"Germany\",\"Mexico\",\"Netherlands\",\"Spain\",\"UK\",\"USA\"],\"xaxis\":\"x\",\"y\":[0.6923076923,0.1666666667,0.3043478261,0.0,0.2857142857,0.0,0.06097560976],\"yaxis\":\"y\",\"type\":\"histogram\"},{\"alignmentgroup\":\"True\",\"bingroup\":\"x\",\"histfunc\":\"sum\",\"hovertemplate\":\"variable=Journalists<br>Position/Country=%{x}<br>sum of value (normalized as percent)=%{y}<extra></extra>\",\"legendgroup\":\"Journalists\",\"marker\":{\"color\":\"#EF553B\",\"pattern\":{\"shape\":\"\"}},\"name\":\"Journalists\",\"offsetgroup\":\"Journalists\",\"orientation\":\"v\",\"showlegend\":true,\"x\":[\"Finland\",\"Germany\",\"Mexico\",\"Netherlands\",\"Spain\",\"UK\",\"USA\"],\"xaxis\":\"x\",\"y\":[0.0,0.0,0.0,0.0,0.0,0.0,0.01219512195],\"yaxis\":\"y\",\"type\":\"histogram\"},{\"alignmentgroup\":\"True\",\"bingroup\":\"x\",\"histfunc\":\"sum\",\"hovertemplate\":\"variable=Military Personnel<br>Position/Country=%{x}<br>sum of value (normalized as percent)=%{y}<extra></extra>\",\"legendgroup\":\"Military Personnel\",\"marker\":{\"color\":\"#00cc96\",\"pattern\":{\"shape\":\"\"}},\"name\":\"Military Personnel\",\"offsetgroup\":\"Military Personnel\",\"orientation\":\"v\",\"showlegend\":true,\"x\":[\"Finland\",\"Germany\",\"Mexico\",\"Netherlands\",\"Spain\",\"UK\",\"USA\"],\"xaxis\":\"x\",\"y\":[0.0,0.0,0.08695652174,0.7142857143,0.1428571429,0.2,0.1341463415],\"yaxis\":\"y\",\"type\":\"histogram\"},{\"alignmentgroup\":\"True\",\"bingroup\":\"x\",\"histfunc\":\"sum\",\"hovertemplate\":\"variable=Politicians<br>Position/Country=%{x}<br>sum of value (normalized as percent)=%{y}<extra></extra>\",\"legendgroup\":\"Politicians\",\"marker\":{\"color\":\"#ab63fa\",\"pattern\":{\"shape\":\"\"}},\"name\":\"Politicians\",\"offsetgroup\":\"Politicians\",\"orientation\":\"v\",\"showlegend\":true,\"x\":[\"Finland\",\"Germany\",\"Mexico\",\"Netherlands\",\"Spain\",\"UK\",\"USA\"],\"xaxis\":\"x\",\"y\":[0.0,0.1666666667,0.2173913043,0.2857142857,0.0,0.0,0.262195122],\"yaxis\":\"y\",\"type\":\"histogram\"},{\"alignmentgroup\":\"True\",\"bingroup\":\"x\",\"histfunc\":\"sum\",\"hovertemplate\":\"variable=Sigsbee<br>Position/Country=%{x}<br>sum of value (normalized as percent)=%{y}<extra></extra>\",\"legendgroup\":\"Sigsbee\",\"marker\":{\"color\":\"#FFA15A\",\"pattern\":{\"shape\":\"\"}},\"name\":\"Sigsbee\",\"offsetgroup\":\"Sigsbee\",\"orientation\":\"v\",\"showlegend\":true,\"x\":[\"Finland\",\"Germany\",\"Mexico\",\"Netherlands\",\"Spain\",\"UK\",\"USA\"],\"xaxis\":\"x\",\"y\":[0.0,0.0,0.0,0.0,0.0,0.0,0.01219512195],\"yaxis\":\"y\",\"type\":\"histogram\"},{\"alignmentgroup\":\"True\",\"bingroup\":\"x\",\"histfunc\":\"sum\",\"hovertemplate\":\"variable=Survivors<br>Position/Country=%{x}<br>sum of value (normalized as percent)=%{y}<extra></extra>\",\"legendgroup\":\"Survivors\",\"marker\":{\"color\":\"#19d3f3\",\"pattern\":{\"shape\":\"\"}},\"name\":\"Survivors\",\"offsetgroup\":\"Survivors\",\"orientation\":\"v\",\"showlegend\":true,\"x\":[\"Finland\",\"Germany\",\"Mexico\",\"Netherlands\",\"Spain\",\"UK\",\"USA\"],\"xaxis\":\"x\",\"y\":[0.07692307692,0.6666666667,0.2608695652,0.0,0.1428571429,0.0,0.03048780488],\"yaxis\":\"y\",\"type\":\"histogram\"},{\"alignmentgroup\":\"True\",\"bingroup\":\"x\",\"histfunc\":\"sum\",\"hovertemplate\":\"variable=Unknow Speaker<br>Position/Country=%{x}<br>sum of value (normalized as percent)=%{y}<extra></extra>\",\"legendgroup\":\"Unknow Speaker\",\"marker\":{\"color\":\"#FF6692\",\"pattern\":{\"shape\":\"\"}},\"name\":\"Unknow Speaker\",\"offsetgroup\":\"Unknow Speaker\",\"orientation\":\"v\",\"showlegend\":true,\"x\":[\"Finland\",\"Germany\",\"Mexico\",\"Netherlands\",\"Spain\",\"UK\",\"USA\"],\"xaxis\":\"x\",\"y\":[0.2307692308,0.0,0.1304347826,0.0,0.4285714286,0.8,0.487804878],\"yaxis\":\"y\",\"type\":\"histogram\"}],                        {\"template\":{\"data\":{\"bar\":[{\"error_x\":{\"color\":\"#2a3f5f\"},\"error_y\":{\"color\":\"#2a3f5f\"},\"marker\":{\"line\":{\"color\":\"#E5ECF6\",\"width\":0.5},\"pattern\":{\"fillmode\":\"overlay\",\"size\":10,\"solidity\":0.2}},\"type\":\"bar\"}],\"barpolar\":[{\"marker\":{\"line\":{\"color\":\"#E5ECF6\",\"width\":0.5},\"pattern\":{\"fillmode\":\"overlay\",\"size\":10,\"solidity\":0.2}},\"type\":\"barpolar\"}],\"carpet\":[{\"aaxis\":{\"endlinecolor\":\"#2a3f5f\",\"gridcolor\":\"white\",\"linecolor\":\"white\",\"minorgridcolor\":\"white\",\"startlinecolor\":\"#2a3f5f\"},\"baxis\":{\"endlinecolor\":\"#2a3f5f\",\"gridcolor\":\"white\",\"linecolor\":\"white\",\"minorgridcolor\":\"white\",\"startlinecolor\":\"#2a3f5f\"},\"type\":\"carpet\"}],\"choropleth\":[{\"colorbar\":{\"outlinewidth\":0,\"ticks\":\"\"},\"type\":\"choropleth\"}],\"contour\":[{\"colorbar\":{\"outlinewidth\":0,\"ticks\":\"\"},\"colorscale\":[[0.0,\"#0d0887\"],[0.1111111111111111,\"#46039f\"],[0.2222222222222222,\"#7201a8\"],[0.3333333333333333,\"#9c179e\"],[0.4444444444444444,\"#bd3786\"],[0.5555555555555556,\"#d8576b\"],[0.6666666666666666,\"#ed7953\"],[0.7777777777777778,\"#fb9f3a\"],[0.8888888888888888,\"#fdca26\"],[1.0,\"#f0f921\"]],\"type\":\"contour\"}],\"contourcarpet\":[{\"colorbar\":{\"outlinewidth\":0,\"ticks\":\"\"},\"type\":\"contourcarpet\"}],\"heatmap\":[{\"colorbar\":{\"outlinewidth\":0,\"ticks\":\"\"},\"colorscale\":[[0.0,\"#0d0887\"],[0.1111111111111111,\"#46039f\"],[0.2222222222222222,\"#7201a8\"],[0.3333333333333333,\"#9c179e\"],[0.4444444444444444,\"#bd3786\"],[0.5555555555555556,\"#d8576b\"],[0.6666666666666666,\"#ed7953\"],[0.7777777777777778,\"#fb9f3a\"],[0.8888888888888888,\"#fdca26\"],[1.0,\"#f0f921\"]],\"type\":\"heatmap\"}],\"heatmapgl\":[{\"colorbar\":{\"outlinewidth\":0,\"ticks\":\"\"},\"colorscale\":[[0.0,\"#0d0887\"],[0.1111111111111111,\"#46039f\"],[0.2222222222222222,\"#7201a8\"],[0.3333333333333333,\"#9c179e\"],[0.4444444444444444,\"#bd3786\"],[0.5555555555555556,\"#d8576b\"],[0.6666666666666666,\"#ed7953\"],[0.7777777777777778,\"#fb9f3a\"],[0.8888888888888888,\"#fdca26\"],[1.0,\"#f0f921\"]],\"type\":\"heatmapgl\"}],\"histogram\":[{\"marker\":{\"pattern\":{\"fillmode\":\"overlay\",\"size\":10,\"solidity\":0.2}},\"type\":\"histogram\"}],\"histogram2d\":[{\"colorbar\":{\"outlinewidth\":0,\"ticks\":\"\"},\"colorscale\":[[0.0,\"#0d0887\"],[0.1111111111111111,\"#46039f\"],[0.2222222222222222,\"#7201a8\"],[0.3333333333333333,\"#9c179e\"],[0.4444444444444444,\"#bd3786\"],[0.5555555555555556,\"#d8576b\"],[0.6666666666666666,\"#ed7953\"],[0.7777777777777778,\"#fb9f3a\"],[0.8888888888888888,\"#fdca26\"],[1.0,\"#f0f921\"]],\"type\":\"histogram2d\"}],\"histogram2dcontour\":[{\"colorbar\":{\"outlinewidth\":0,\"ticks\":\"\"},\"colorscale\":[[0.0,\"#0d0887\"],[0.1111111111111111,\"#46039f\"],[0.2222222222222222,\"#7201a8\"],[0.3333333333333333,\"#9c179e\"],[0.4444444444444444,\"#bd3786\"],[0.5555555555555556,\"#d8576b\"],[0.6666666666666666,\"#ed7953\"],[0.7777777777777778,\"#fb9f3a\"],[0.8888888888888888,\"#fdca26\"],[1.0,\"#f0f921\"]],\"type\":\"histogram2dcontour\"}],\"mesh3d\":[{\"colorbar\":{\"outlinewidth\":0,\"ticks\":\"\"},\"type\":\"mesh3d\"}],\"parcoords\":[{\"line\":{\"colorbar\":{\"outlinewidth\":0,\"ticks\":\"\"}},\"type\":\"parcoords\"}],\"pie\":[{\"automargin\":true,\"type\":\"pie\"}],\"scatter\":[{\"marker\":{\"colorbar\":{\"outlinewidth\":0,\"ticks\":\"\"}},\"type\":\"scatter\"}],\"scatter3d\":[{\"line\":{\"colorbar\":{\"outlinewidth\":0,\"ticks\":\"\"}},\"marker\":{\"colorbar\":{\"outlinewidth\":0,\"ticks\":\"\"}},\"type\":\"scatter3d\"}],\"scattercarpet\":[{\"marker\":{\"colorbar\":{\"outlinewidth\":0,\"ticks\":\"\"}},\"type\":\"scattercarpet\"}],\"scattergeo\":[{\"marker\":{\"colorbar\":{\"outlinewidth\":0,\"ticks\":\"\"}},\"type\":\"scattergeo\"}],\"scattergl\":[{\"marker\":{\"colorbar\":{\"outlinewidth\":0,\"ticks\":\"\"}},\"type\":\"scattergl\"}],\"scattermapbox\":[{\"marker\":{\"colorbar\":{\"outlinewidth\":0,\"ticks\":\"\"}},\"type\":\"scattermapbox\"}],\"scatterpolar\":[{\"marker\":{\"colorbar\":{\"outlinewidth\":0,\"ticks\":\"\"}},\"type\":\"scatterpolar\"}],\"scatterpolargl\":[{\"marker\":{\"colorbar\":{\"outlinewidth\":0,\"ticks\":\"\"}},\"type\":\"scatterpolargl\"}],\"scatterternary\":[{\"marker\":{\"colorbar\":{\"outlinewidth\":0,\"ticks\":\"\"}},\"type\":\"scatterternary\"}],\"surface\":[{\"colorbar\":{\"outlinewidth\":0,\"ticks\":\"\"},\"colorscale\":[[0.0,\"#0d0887\"],[0.1111111111111111,\"#46039f\"],[0.2222222222222222,\"#7201a8\"],[0.3333333333333333,\"#9c179e\"],[0.4444444444444444,\"#bd3786\"],[0.5555555555555556,\"#d8576b\"],[0.6666666666666666,\"#ed7953\"],[0.7777777777777778,\"#fb9f3a\"],[0.8888888888888888,\"#fdca26\"],[1.0,\"#f0f921\"]],\"type\":\"surface\"}],\"table\":[{\"cells\":{\"fill\":{\"color\":\"#EBF0F8\"},\"line\":{\"color\":\"white\"}},\"header\":{\"fill\":{\"color\":\"#C8D4E3\"},\"line\":{\"color\":\"white\"}},\"type\":\"table\"}]},\"layout\":{\"annotationdefaults\":{\"arrowcolor\":\"#2a3f5f\",\"arrowhead\":0,\"arrowwidth\":1},\"autotypenumbers\":\"strict\",\"coloraxis\":{\"colorbar\":{\"outlinewidth\":0,\"ticks\":\"\"}},\"colorscale\":{\"diverging\":[[0,\"#8e0152\"],[0.1,\"#c51b7d\"],[0.2,\"#de77ae\"],[0.3,\"#f1b6da\"],[0.4,\"#fde0ef\"],[0.5,\"#f7f7f7\"],[0.6,\"#e6f5d0\"],[0.7,\"#b8e186\"],[0.8,\"#7fbc41\"],[0.9,\"#4d9221\"],[1,\"#276419\"]],\"sequential\":[[0.0,\"#0d0887\"],[0.1111111111111111,\"#46039f\"],[0.2222222222222222,\"#7201a8\"],[0.3333333333333333,\"#9c179e\"],[0.4444444444444444,\"#bd3786\"],[0.5555555555555556,\"#d8576b\"],[0.6666666666666666,\"#ed7953\"],[0.7777777777777778,\"#fb9f3a\"],[0.8888888888888888,\"#fdca26\"],[1.0,\"#f0f921\"]],\"sequentialminus\":[[0.0,\"#0d0887\"],[0.1111111111111111,\"#46039f\"],[0.2222222222222222,\"#7201a8\"],[0.3333333333333333,\"#9c179e\"],[0.4444444444444444,\"#bd3786\"],[0.5555555555555556,\"#d8576b\"],[0.6666666666666666,\"#ed7953\"],[0.7777777777777778,\"#fb9f3a\"],[0.8888888888888888,\"#fdca26\"],[1.0,\"#f0f921\"]]},\"colorway\":[\"#636efa\",\"#EF553B\",\"#00cc96\",\"#ab63fa\",\"#FFA15A\",\"#19d3f3\",\"#FF6692\",\"#B6E880\",\"#FF97FF\",\"#FECB52\"],\"font\":{\"color\":\"#2a3f5f\"},\"geo\":{\"bgcolor\":\"white\",\"lakecolor\":\"white\",\"landcolor\":\"#E5ECF6\",\"showlakes\":true,\"showland\":true,\"subunitcolor\":\"white\"},\"hoverlabel\":{\"align\":\"left\"},\"hovermode\":\"closest\",\"mapbox\":{\"style\":\"light\"},\"paper_bgcolor\":\"white\",\"plot_bgcolor\":\"#E5ECF6\",\"polar\":{\"angularaxis\":{\"gridcolor\":\"white\",\"linecolor\":\"white\",\"ticks\":\"\"},\"bgcolor\":\"#E5ECF6\",\"radialaxis\":{\"gridcolor\":\"white\",\"linecolor\":\"white\",\"ticks\":\"\"}},\"scene\":{\"xaxis\":{\"backgroundcolor\":\"#E5ECF6\",\"gridcolor\":\"white\",\"gridwidth\":2,\"linecolor\":\"white\",\"showbackground\":true,\"ticks\":\"\",\"zerolinecolor\":\"white\"},\"yaxis\":{\"backgroundcolor\":\"#E5ECF6\",\"gridcolor\":\"white\",\"gridwidth\":2,\"linecolor\":\"white\",\"showbackground\":true,\"ticks\":\"\",\"zerolinecolor\":\"white\"},\"zaxis\":{\"backgroundcolor\":\"#E5ECF6\",\"gridcolor\":\"white\",\"gridwidth\":2,\"linecolor\":\"white\",\"showbackground\":true,\"ticks\":\"\",\"zerolinecolor\":\"white\"}},\"shapedefaults\":{\"line\":{\"color\":\"#2a3f5f\"}},\"ternary\":{\"aaxis\":{\"gridcolor\":\"white\",\"linecolor\":\"white\",\"ticks\":\"\"},\"baxis\":{\"gridcolor\":\"white\",\"linecolor\":\"white\",\"ticks\":\"\"},\"bgcolor\":\"#E5ECF6\",\"caxis\":{\"gridcolor\":\"white\",\"linecolor\":\"white\",\"ticks\":\"\"}},\"title\":{\"x\":0.05},\"xaxis\":{\"automargin\":true,\"gridcolor\":\"white\",\"linecolor\":\"white\",\"ticks\":\"\",\"title\":{\"standoff\":15},\"zerolinecolor\":\"white\",\"zerolinewidth\":2},\"yaxis\":{\"automargin\":true,\"gridcolor\":\"white\",\"linecolor\":\"white\",\"ticks\":\"\",\"title\":{\"standoff\":15},\"zerolinecolor\":\"white\",\"zerolinewidth\":2}}},\"xaxis\":{\"anchor\":\"y\",\"domain\":[0.0,1.0],\"title\":{\"text\":\"Position/Country\"},\"ticktext\":[\"Finland\",\"Germany\",\"Mexico\",\"Netherlands\",\"Spain\",\"UK\",\"USA\"],\"tickvals\":[\"Finland\",\"Germany\",\"Mexico\",\"Netherlands\",\"Spain\",\"UK\",\"USA\"]},\"yaxis\":{\"anchor\":\"x\",\"domain\":[0.0,1.0],\"title\":{\"text\":\"\"},\"ticksuffix\":\"%\"},\"legend\":{\"title\":{\"text\":\"Speakers\"},\"tracegroupgap\":0},\"title\":{\"text\":\"Distribution of speakers leaning towards accident hypothesis by country\"},\"barmode\":\"relative\",\"barnorm\":\"percent\"},                        {\"responsive\": true}                    ).then(function(){\n",
       "                            \n",
       "var gd = document.getElementById('567c6681-1335-40ef-a70d-333ccb5eaed5');\n",
       "var x = new MutationObserver(function (mutations, observer) {{\n",
       "        var display = window.getComputedStyle(gd).display;\n",
       "        if (!display || display === 'none') {{\n",
       "            console.log([gd, 'removed!']);\n",
       "            Plotly.purge(gd);\n",
       "            observer.disconnect();\n",
       "        }}\n",
       "}});\n",
       "\n",
       "// Listen for the removal of the full notebook cells\n",
       "var notebookContainer = gd.closest('#notebook-container');\n",
       "if (notebookContainer) {{\n",
       "    x.observe(notebookContainer, {childList: true});\n",
       "}}\n",
       "\n",
       "// Listen for the clearing of the current output cell\n",
       "var outputEl = gd.closest('.output');\n",
       "if (outputEl) {{\n",
       "    x.observe(outputEl, {childList: true});\n",
       "}}\n",
       "\n",
       "                        })                };                });            </script>        </div>"
      ]
     },
     "metadata": {},
     "output_type": "display_data"
    }
   ],
   "source": [
    "df = pd.read_csv(\"https://raw.githubusercontent.com/Seydii/USSMaine/Corpus/Figure%205.csv\")\n",
    "fig=px.histogram(df,x=[\"Finland\",\"Germany\",\"Mexico\", \"Netherlands\",\"Spain\",\"UK\",\"USA\"], y = [\"Experts\",\"Journalists\",\"Military Personnel\",\"Politicians\",\"Sigsbee\",\"Survivors\",\"Unknow Speaker\"],barnorm = \"percent\",title=\"Distribution of speakers leaning towards accident hypothesis by country\",labels={\n",
    "    \"x\":\"Position/Country\"\n",
    "})\n",
    "fig.update_layout(    \n",
    "yaxis_title=\"\",\n",
    "legend_title=\"Speakers\")\n",
    "fig.update_yaxes (ticksuffix=\"%\")\n",
    "fig.update_xaxes (\n",
    "ticktext= [\"Finland\",\"Germany\",\"Mexico\", \"Netherlands\",\"Spain\",\"UK\",\"USA\"],\n",
    "tickvals= [\"Finland\",\"Germany\",\"Mexico\", \"Netherlands\",\"Spain\",\"UK\",\"USA\"])\n",
    "fig.show()"
   ]
  },
  {
   "cell_type": "markdown",
   "id": "d91749a1",
   "metadata": {
    "heading_collapsed": true
   },
   "source": [
    "### Spain"
   ]
  },
  {
   "cell_type": "markdown",
   "id": "ad23b755",
   "metadata": {
    "hidden": true
   },
   "source": [
    "Our data comparison shows that pro-accident voices were featured less prominently in Spain's press than in any other national corpus. This was likely due to Spanish officials seeking to avoid further escalation of diplomatic tensions in the wake of the DeLome affair in early February 1898 by suggesting that the explosion may have been due to American negligence or even intent. We also find that experts, survivors, and military personnel identified the explosion as an accident in Spain. Upon closer inspection, Spanish newspapers such as *El Heraldo*, *La Epoca*, and *El Siglo Futuro* produced an evening edition on February 16 with information regarding the intensely reported rumors during the day about the destruction of the *Maine* in Havana. *El Día*, for example, writes:"
   ]
  },
  {
   "cell_type": "markdown",
   "id": "1479a6bb",
   "metadata": {
    "hidden": true
   },
   "source": [
    ">El Maine, el acorazado norteamerticano que fue al puerto de la Habana a hacernos una visita de amistad, ha sido completamente destruido por la explosión de sus calderas y depósito de pólvora. La noticia que anticipó Fabra ha circulado con gran rapidez, produciendo la natural sensación. Los telegramas oficiales que se han recibido en los ministerios de la Guerra y Marina, y las transmitidas por el corresponsal de El imparcial en la Habana a este periódico dan cuenta detallada de la catástrofe. <a name=\"cite_ref-8\"></a>[<sup>[8]</sup>](#cite_note-8)"
   ]
  },
  {
   "cell_type": "markdown",
   "id": "8c777107",
   "metadata": {
    "hidden": true
   },
   "source": [
    "It was an important day for the Spanish press since the previous year had turned events in Cuba into front-page news (Sintes-Gómez 231). Similar to the United States, for the Spanish press, the conflict in Cuba led to a significant growth in sales (Edo 41). Access to information from Cuba made newspapers such as *El Imparcial*, the most influential newspaper at the time in Spain, *El Heraldo*, an evening newspaper that was also very popular, and *La Correspondencia Militar*, an army newspaper, essential reading. These newspapers relied on correspondents in Havana, Key West, and New York. Another important and exclusive source of information for the Spanish press were the FABRA agency cables, a predecessor of the EFE news agency, which also had correspondents in Havana and other cities. That meant that significant proportions of information circulating in Spain during the crisis caused by the explosion of the *Maine* were first-hand  products of the work of correspondents and news agencies.<br>\n",
    "On February 17, news of the *Maine* occupied the front page of the entire morning press in Spain. The press highlighted two particular reports on that day: a telegram from General Blanco to the government of Spain in which he affirms that it was an accident and the telegram by Captain Sigsbee requesting the authorities of his country to suspend their opinion until further investigation. From the beginning, the press stuck to the accident thesis and aimed to praise the Spanish navy's noble intervention in rescuing the wounded and the dead bodies. *La Correspondencia Militar*, for instance, makes an extensive, informative display of the accident, describing in detail what happened and the subsequent mobilization for the rescue of sailors of the *Maine*. *El Imparcial*, in turn, narrates through the pen of its correspondent the previous days' events and details two hypotheses of how the accident could have occurred inside the ship.<br>\n",
    "The press reviewed the event in the context of existing political tensions with the United States. With a few exceptions like *El Socialista* and *El Nuevo Régimen*, the Spanish press was ultranationalist (Sintes-Gómez 237) and very soon pro-war (Lima Sarmiento 89). *El Correo Militar* noted, for instance, that the accident should not produce conflict with the U.S. while detailing demonstrations in New York against Spain. *El Día* was the only Spanish paper to allude to the torpedo thesis but did so in the context of warning that the U.S. probably wanted to take advantage of the incident (i.e., use it as a *casus belli*). Very much in the tone of preventing the United States from taking advantage of the accident in its favor, *La Epoca* wrote:\n"
   ]
  },
  {
   "cell_type": "markdown",
   "id": "05f0c349",
   "metadata": {
    "hidden": true
   },
   "source": [
    ">De todas suertes, bien hará el Gobierno español en apercibirse contra posibles injusticias, y por eso nos parecen oportunos sus deseos de depurar pronto y por entero los hechos, para desvanecer al momento cuantas dudas pudieran surgir en este caso. <a name=\"cite_ref-9\"></a>[<sup>[9]</sup>](#cite_note-9)"
   ]
  },
  {
   "cell_type": "markdown",
   "id": "4ec686ee",
   "metadata": {
    "hidden": true
   },
   "source": [
    "On February 18, newspapers highlighted that the dominant opinion of politicians in Washington, D.C. was that it was an accident. Several Spanish newspapers reviewed the American press and emphasized its generally moderate tone. However, papers with their correspondents, particularly *El Heraldo* and *El Imparcial*, stressed the attack hypothesis. These same newspapers and *La Correspondencia Militar* took up the issue of the formation of an investigation commission and indicated their fear that it would serve to support the attack hypothesis. Many Spanish papers also reported what their colleagues in France, England, and Germany had published on the *Maine*.<br>\n",
    "The people voiced in the Spanish newspapers were predominantly military personnel (22.4%), followed by politicians (17.8%), experts (15.9%), and Sigsbee (12.1%). One might have predicted that Spanish papers would rush to blame an internal cause, but this would have led to further diplomatic tensions between Spain and the U.S. in light of the already existing ones. Rather than presenting a mirror-image to the jingoistic yellow press in New York (which was re-printed or paraphrased widely in other national newspaper corpora) that sought to direct blame to the U.S., Spanish newspapers, by and large, took Sigsbee's call to \"suspend opinion\" (44.8%) quite seriously and, like no other national press in our corpus, exercised restraint and moderation in shaping public and published opinion, at least during the initial phase after the explosion (Lima Sarmiento 88-89).<br>\n",
    "On February 19, Spanish newspapers began to refer to reports from Cuba that there were no dead fish in the harbor of Havana, indicating that a torpedo could not have destroyed the *Maine* and that, therefore, it must have been an accident. Toward the end of the news cycle that we studied, the \"no dead fish in the water\" news item spread from Spain to various Dutch, (regional) American, Mexican, and German newspapers. On February 20, 1898, stories on the investigation commission, the arrival of divers, including those sent by the *World* and the *Herald*, and the tensions over the authorization to inspect the wreck's hull by the Spanish colonial government or the American Consul dominated the Spanish press. Another piece of news was the Spanish Council of Ministers meeting and the diplomatic exchange with Washington. Through its correspondents, *El Imparcial* dedicated its main article to the session in the United States Senate and to the participation of Senator Mason, who maintained the theory of a direct attack. The report also referenced the existence of a group of jingoes who sought war and, in the following days, became the object of attention in the Spanish media, intending to discredit them.<br>\n",
    "*El Correo Militar* exemplifies a typical editorial change in the views of the Spanish press, which claimed different positions on different days. In the following example, it can be seen that the newspapers' first shift (one day’s edition) argues the explosion was an accident, while in the second shift (the next day’s edition), the same paper claims it was an attack: \n"
   ]
  },
  {
   "cell_type": "markdown",
   "id": "28ba1fed",
   "metadata": {
    "hidden": true
   },
   "source": [
    ">En la cuestión con los Estados Unidos, ya se sabe: Turno par: (el de ayer. Véanse EL Imparcial, etc.) <Todo va perfectamente. El Gobierno de Washington y la prensa sensata han convencido á las gentes de allá a un accidente casual. No irán más buques norteamericanos á Cuba. Para investigar las causas de la catástrofe, procederán de acuerdo las comisiones española y americana. Se debe confiar en que todo termine satisfactoriamente.> Turno impar: (el de hoy. Véanse los susodichos periódicos) <El espíritu más belicoso domina entre los yankees. La idea de que lo del Maine fue intencionado cunde entre las masas. La convicción general es que viene la guerra. El Gobierno de Washington prepara más buques y dispone tropas. Se aproximan graves sucesos.> <a name=\"cite_ref-10\"></a>[<sup>[10]</sup>](#cite_note-10)"
   ]
  },
  {
   "cell_type": "markdown",
   "id": "9016ff70",
   "metadata": {
    "hidden": true
   },
   "source": [
    "\n",
    "In the days following, the press consistently alternated between certainty that it was an accident and how Americans were more inclined to believe in the attack hypothesis. A vital news focus was the report of what the North American and European press wrote and the pending investigation of the causes of the explosion. Between this moment to the end of March, the Spanish press started to talk seriously about an imminent war (Lima Sarmiento 89).\n"
   ]
  },
  {
   "cell_type": "markdown",
   "id": "700d51b8",
   "metadata": {
    "heading_collapsed": true
   },
   "source": [
    "### United States of America"
   ]
  },
  {
   "cell_type": "markdown",
   "id": "d7326190",
   "metadata": {
    "hidden": true
   },
   "source": [
    "The newspapers from the United States often referenced politicians (17.3%), military personnel (16.8%), and Sigsbee (16.1%). By and large, 40.9% of American newspapers favored a deliberate attack as the cause of the explosion. 30.7% of the opinions leaned toward an accident, while 28.4% asked to suspend their opinion. Our data also shows how the American press and public relied on and emphasized what Captain Sigsbee had to say on the cause of the events in Havana harbor (24.3%). That about two-thirds of the American press initially hesitated to blame Spain for the loss of the *Maine* was primarily due to the reprints of Sigsbee's note of caution following the explosion that \"public opinion should be suspended until further report.\"  After the loss of the *Maine*, the American public (or at least the press) was so anxious to learn more about Sigsbee's opinion on the cause of the explosion that rumors spread widely and quickly. One news item that repeatedly appears in our data set is that Sigsbee sent a secret telegram to the Secretary of the Navy in which he blamed a torpedo, based on the observation of an eight-inch hole in the wreck of the *Maine*. The New York yellow press \"published a cablegram allegedly sent by Captain Sigsbee to the Secretary of the navy in which the commander stated that he knew the explosion was not an accident. Supposedly, the assistant secretary of the navy, Theodore Roosevelt, concurred with Sigsbee's conclusions. There was only one problem with the story: the communication was a fabrication\" (Spencer/Overholser 148; cf. Cooke 65). We can trace this \"fake news\" in the press by checking and counting the contexts in which the words \"Sigsbee\" and \"opinion\" occur in our corpus. Some papers printed the fabricated \"attack telegram\" by the Captain of the *Maine* as news, whereas others marked it as a rumor. Our data show that the fabricated Sigsbee telegram circulated almost exclusively in the United States, constituting about 20% of the articles that mention \"Sigsbee\" and \"opinion.\" <br>\n",
    "For the American press, the explosion of the *Maine* constituted a significant event that led to a spike in news reporting and (re)printing.  Journalists and the public, in general, reacted to the sinking of the armored cruiser in Havana harbor with a relatively clear sense that this event could lead to war between the United States and Spain, depending on the cause of the explosion. As has been well-documented, the yellow press reacted in horror and disgust in the morning editions on February 16, 1898. Next to an illustration of an exploding battleship anchored over a mine in Havana harbor, Hearst's *Journal* reported: \"The Warship *Maine* was Split in Two by an Enemy's Infernal Machine,\" leaving no room for the possibility of an accident on board the ship. Ivan Musicant and other historians and commentators have assumed that an inflammatory press picked up the battle cry \"Remember the *Maine*. To Hell With Spain!\" which resonated with a newspaper-reading public that had already developed sympathy with the Cubans who were fighting against a cruel Spanish colonial regime, especially after 1895, through increasingly one-sided press reporting. According to this historiographic narrative, after the *Maine* incident, American public sentiment rose in revenge against Spain, and as a result, relations between the two countries quickly soured, and tensions increased continuously. Joseph Wisan, in his study of New York journalism from 1895 to 1898, has also argued that the press played a significant role in preparing the ground for military intervention in Cuba and thus for war with Spain. Siding clearly with the efforts of the Cuban revolutionaries (although still undecided about the island's political future), parts of the New York yellow press framed the explosion of the *Maine* as a deliberate attack and called for war almost immediately (Wisan 34; Brown 122-23). This was not the first time that the yellow press had done so. Given the biased and sensationalist reporting on the Cuban situation in previous years, the call for war fit neatly into an already established discourse in which Spain was the antagonist, the Cubans were oppressed people fighting against monarchical misrule, and the United States the potential hero that could step in either under the banner of \"revenge\" or \"humanitarian aid,\" while securing its economic, political, and strategic interests in the region and globally. The *Journal* and other papers that engaged in sensationalist journalism saw the sinking of the *Maine* as yet another indication of the inevitability of a regime change in Cuba and increased publication numbers, page numbers, and expenses for generating news. Wisan explains: \"During the week beginning February 17, the *Journal* devoted an average daily space of 8½ pages to the *Maine* – news, editorials, and pictures. It sent the yachts *Buccaneer* and *Anita* and the tug *Echo* to Havana and massed at the Cuban capital its group of special correspondents [...]. It offered a reward of fifty thousand dollars\" (390) for finding the perpetrator of the explosion, thereby denying that the incident could have been accidental. The yellow press repeatedly proved that it cared little for truthful accounts of reality. As if the investigation on the *Maine*'s wreck did not matter, the *Journal* declared that a mine had caused the explosion on the day divers were to inspect the site (Brown 124).<br>\n",
    "However, it is often overlooked that the two leading New York yellow papers did not initially agree on the causes and consequences of the destruction of the *Maine* and reacted quite differently to the event. While the *Journal* had wanted war with Spain, was in favor of the independence of Cuba for a while, and considered the explosion to be the proverbial straw that broke the camel's back, the *World* reacted with more restraint when it came to blaming Spain and calling for military intervention (Wisan 393-94). Other New York papers, especially those critical of the jingoism expressed by the sensationalist press, sought to separate the *Maine* incident from an intervention into Cuba. By and large, the *Sun*, the *Evening Post*, the *Tribune*, and the *Times* accepted the accident theory and, to varying degrees, denounced the warmongering of parts of the American press (Wisan 396-99). In line with the historians who emphasize the role of the (American) press in McKinley's decision to declare war on Spain, Wisan concludes that \"though the destruction of the *Maine* did not plunge the nation into immediate war, it created a situation from which escape without war was well-nigh impossible\" (400). This assumption is only partly true. While Wisan's deep dive into New York journalism at the end of the nineteenth century offers essential insights into a media landscape that was highly relevant and visible (given, for instance, the amount of coverage of the New York press as American press in European papers), other studies of American journalism at the time indicate a much broader and varied spectrum of reporting than the scene in New York studied by Wisan. While the yellow and traditional New York press still holds particular importance, not least because of its international reception and citation, Harold J. Sylwester, George Auxier, and others have shown the diversity of opinions on the prospect of war and, significantly, the hostility of many Midwestern newspaper editors towards the sensationalist and increasingly powerful yellow press in New York, whose circulation and hence political capital was increasing steadily. <br>\n",
    "The *Indianapolis Journal* was a typical Midwestern paper that exemplified the more cautious and restrained position that part of the American press took after the destruction of the *Maine*. For instance, their reporting on what was known about the explosion on February 18, 1898, is comparatively objective and leveled, without engaging in sensationalism or jingoism. There is no sense of information suppression. The paper attempts to identify various rumors, and the reporting includes several sources, opinions, and angles on the situation in Havana, Washington, and Madrid that were available three days after the explosion. \n"
   ]
  },
  {
   "cell_type": "code",
   "execution_count": null,
   "id": "fca67670",
   "metadata": {
    "hidden": true,
    "tags": [
     "figure-6"
    ]
   },
   "outputs": [],
   "source": []
  },
  {
   "cell_type": "markdown",
   "id": "493895ca",
   "metadata": {
    "hidden": true
   },
   "source": [
    "It is particularly interesting to note how this regional paper, as with most dailies published in the United States during the late nineteenth century, included the reception by the foreign press, which newspapers received through the growing international cable system that facilitated a more rapid exchange of information. For instance, the *Indianapolis Journal*, featuring foreign reactions to the sinking of the *Maine* quite prominently on pages one and two, wrote about the British press reaction: \"The provincial morning newspapers make comment [sic!] similar in tone to those of the London morning, and the London afternoon newspapers devote much space to the disaster\" (Indianapolis Journal, February 18.1898, p. 2). This illustrates how well-connected the American press was at the time and how well-regarded the United States' international reputation was, especially in Europe, indicating where national support of European countries in a possible conflict between the United States and Spain might fall.<br>\n",
    "Similar to the diversification of opinions in American newspapers, the reactions to the *Maine*'s sinking from non-Spanish newspaper offices in European countries were also far from unanimous. Despite various ideological and regional differences, most conservative editorials in Europe had been rather critical of U.S. military interventions since the Mexican-American War (1846-1848) and hence tended to side with Spain in the emerging conflict with the United States; whereas liberal and progressive/socialist voices in the press tended to be more pro-American (Torruella 84; Hilton and Ickingill 12-13). In most European countries, the reactions to the explosion reflected the political direction of the respective paper, which, similar to the newspaper scene in the United States, was affiliated with a particular political movement, faith, or economic sector. While one can detect transnational similarities between how certain political interest groups in different European countries reacted to the news about the *Maine*, specific national perspectives on the ensuing conflict are recognizable in the digitized newspaper data collected for this study.\n"
   ]
  },
  {
   "cell_type": "markdown",
   "id": "d513801a",
   "metadata": {
    "heading_collapsed": true
   },
   "source": [
    "### Great Britain"
   ]
  },
  {
   "cell_type": "markdown",
   "id": "a857c869",
   "metadata": {
    "hidden": true
   },
   "source": [
    "The U.K. was the only major power in Europe that sided openly with the United States. The newspapers from the British Isles included in our corpus offer extensive reporting on the events surrounding the events in Havana harbor. Overall, the first reports in the British press printed details that came from various telegrams from the United States, Spain, mainland Europe, and Cuba (including Sigsbee's note of caution) as well as from American newspapers and special correspondents in various locations.  Several newspapers referenced The New York yellow press, e.g., the London-based *Daily News* blamed Spain solely. Other newspapers, such as the *Glasgow Herald*, emphasized the \"Bravery of Spanish Seamen\" (February 17, 1898) who came to aid the American sailors after the explosion. Furthermore, some newspapers compared the sinking of the *Maine* to similar events that had occurred in British naval history to relate the severity to their readers. In the first few days after the incident, the British press leaned on the side of the accident theory, mainly because the ship did not sink immediately, while also stating that the cause of the explosion needed further investigation. This assumption is affirmed quantitatively: U.K. newspaper data indicates that nearly half the voices are not identifiable. Sigsbee was the most often quoted voice concerning the cause of the explosion (22.2%), followed by military personnel (13.9%) and experts (11.1%). These actors generally asked the public to suspend opinion (61.1%), and some voices leaned towards an accident (27.8%). British papers also expressed a general concern about the necessity and inevitability of war between the U.S. and Spain in the first days after the explosion. <br>\n",
    "In the following days, reports became longer, and attempts to convey the human tragedy of the explosion increased. Articles on how politicians in Washington and Captain Sigsbee attempted to quell rushed calls for war with Spain also appeared in numerous papers. What is further evident is how the British press amplified the sympathy expressed by the Cubans and the Spanish for the loss of lives and materials and the respect that was given to the dead American soldiers. The subtext underlying this reporting was that the explosion was not an intentional act of war but rather a tragic accident. On February 18, the *Daily News* claimed that all signs pointed in the direction of an accident and that the American press was initially quite actively engaged in suppressing calls for war with Spain. <br>\n",
    "On February 19, the news cycle shifted towards various condolences and the funeral for the lost sailors. In addition, the British press began to report extensively on the Spanish plan to send the battleship *Vizcaya* to New York City on a \"friendly\" visit, which was considered a sign of increasing tension between the United States and Spain. Also, on the day of the funeral, there were first reports about a torpedo hole in the wreck of the *Maine* in newspapers in the U.S. British readers further learned that the American public was increasingly convinced that war was coming, as was indicated by reports of an increase of young American men signing up for military service. <br>\n",
    "The following news week (starting Monday, February 21) began with British papers relaying the latest information on the *Maine* incident, including the selection of divers investigating the cause and the different hypotheses (accident vs. design) discussed in political and media circles in the United States. The reporting was now integrated into other international news, even though the imminent danger of war was voiced and caution was called for repeatedly. Shifting away from the accident theory, the British press began to present increasing evidence for the torpedo theory and to report on the attendant shift toward war in American public opinion: \"The belief most widely held by the outside public is that the ship was blown up by a mine.\" (Glasgow Herald, February 21, 1898).<br>\n",
    "Overall, the British press proved comparatively well-informed about political developments and the media discourse in the United States (and to a lesser extent in Spain). Our data shows that their access to various cable and news services as well as to the leading New York and Washington newspapers, yellow and more traditional, was extensive, and allowed them to present their readers with the latest news on the events occurring during and after the explosion of the *Maine*. The amount of detailed information about the event that readers in the U.K. received differed significantly from that in other European countries, primarily due to news censorship and in countries such as Germany and Austria-Hungary. \n"
   ]
  },
  {
   "cell_type": "markdown",
   "id": "e7c3f1ff",
   "metadata": {
    "heading_collapsed": true
   },
   "source": [
    "### Germany"
   ]
  },
  {
   "cell_type": "markdown",
   "id": "86dcea6f",
   "metadata": {
    "hidden": true
   },
   "source": [
    "German newspapers relied almost exclusively on A.P. sources through London, Washington, and New York (in addition to some reports from Cuba and Madrid immediately following the explosion) and were subject to government censorship on both sides of the Atlantic. While initial reports after the sinking of the *Maine* remained uncertain about the reason for the explosion, German newspapers soon concluded that it had to have been caused internally and thus not by Spain. In addition, most of the editorials rejected U.S. military interventions on legal and moral grounds. German newspaper commentators first mourned the loss of a fine cruiser and then quickly criticized how the American yellow press employed the incident to fan the flames of war (Hugo 76-78). Instead of siding with Spain, the German press propagated a neutral stance while failing to report on Germany's imperial ambitions (Hugo 83). <br>\n",
    "Although the German press purported to stay neutral, our data show a clear tendency towards the accident theory and towards amplifying Sigsbee's note of caution. Our scalable reading method indicates that newspapers in Germany re-printed Captain Sigsbee's call to \"suspend opinion\" more frequently than any other nation in our corpus. It is also interesting to note that they relied far less on expert opinions or those of politicians but rather on those by Sigsbee (21.4%) and survivors (35.7%). No other group of papers available to us from different countries seemed as interested in the opinions of eyewitnesses as the German one. This reliance on survivor testimony and the high frequency of re-printing Sigsbee's call to suspend judgment ties in with a comparatively strong leaning towards the accident theory (50%) in the digitized German newspapers. <br>\n",
    "Most of the initial German newspaper reports attributed the explosion to internal combustion in the bunkers of the *Maine*. The editorial section of an article on the explosion in the *Neue Hamburger Zeitung* was unusually clear about the (unconfirmed) *Schadenfreude* among Spanish circles in Havana and Madrid about the loss of an American warship. On February 18, most German newspapers stressed the message of condolence sent by the German Emperor, and the sampled data indicates that most papers expressed the opinion that the explosion could only have originated inside the *Maine*. The *Hamburger Anzeiger* reported on the torpedo hypothesis that had been gaining traction in Washington and New York and added that if this were proven accurate, then war between the United States and Spain would be inevitable. The *Berliner Tageblatt* declared the discovery of the *Maine*'s wreck hole, which could only be attributed to a torpedo hitting the ship, as a rumor. According to this Berlin newspaper, most first-hand accounts by surviving soldiers agreed that the explosion was caused internally. On February 19, German newspapers reported on the funeral and again on how eagerly German officials had expressed their condolences to various members of the U.S. government. In hindsight, it is clear that the German press served as a mouthpiece for seemingly noble official acts while being largely silent on the issue of German involvement in a possible Spanish-American war. <br>\n",
    "On February 21, many papers discussed the two explanatory approaches and discarded the torpedo hypothesis because of the lack of dead fish in Havana harbor that would naturally occur when a torpedo or mine detonates. In addition, German papers provided information on the imminent friendly visit of the *Vizcaya* to New York and the debate about who would lead and participate in the official investigation of the wreck. On February 22, the *Hamburger Nachrichten* reported again on discussing various aspects of accident and torpedo theories, landing clearly on the side of the former. The *Berliner Tageblatt* was among the leading German newspapers regarding detailed reporting on the explosion. The German press leaned toward the accident theory, evidenced by the number of words and space they dedicated to this assumption and by editorial statements about the plausibility of the accident hypothesis. German papers, too, cited the primary New York papers, including the *Times*, the *Journal*, the *Herald*, and the *World*, when they reported on how the event was seen in the American press and, by extension, the American public. The *Berliner Tageblatt* proved especially critical of the \"jingo press\" that made its readers believe that a (Spanish/Cuban) torpedo was responsible for the sinking of the *Maine*, with war being the only option for the U.S. to avenge this humiliating act.\n"
   ]
  },
  {
   "cell_type": "markdown",
   "id": "5885a1a4",
   "metadata": {
    "heading_collapsed": true
   },
   "source": [
    "### The Netherlands"
   ]
  },
  {
   "cell_type": "markdown",
   "id": "98d87c01",
   "metadata": {
    "hidden": true
   },
   "source": [
    "The Dutch press also picked up the topic of the *Maine* on February 17 by re-printing telegraphic reports on the explosion itself and the number of missing sailors known at the time. The *Algemeen Handelsblad* from Amsterdam, one of the first papers in the Netherlands to report on the event, speculated that the explosion was internally caused (and not by a torpedo) because the cruiser did not sink immediately, an opinion that was echoed and repeated in other Dutch papers. In the following days, the reports on the *Maine* became more elaborate, although they still relied on telegrams relaying basic information about the event. On February 18, the *Algemeen Handelsblad* and other Dutch papers attempted to absolve Spain from actively pursuing the bombing of the *Maine* by pointing out how the Spanish navy and colonial government came to help the survivors of the American ship. On February 19, the peak day of reporting, most newspapers reported on a Reuter's telegram about an 8-inch hole discovered near the keel of the *Maine*, indicating the possibility that the ship was sunk intentionally by a torpedo or an underwater mine placed and operated on behalf of Spain. However, this information was not marked as a rumor but as fact. Rather than solely relying on telegraphic reports, newspaper editors and journalists now also included what newspapers in the United States, especially the *Journal* and *Herald*, featured in their reporting. Many Dutch papers considered the jingoistic New York yellow press, with its early amplification of the torpedo theory, as an expression of American public opinion beginning to become more bellicose. As stated above, the re-printing of American yellow papers is why a comparatively high number of voices of journalists in the Dutch press leaned towards the attack hypothesis."
   ]
  },
  {
   "cell_type": "code",
   "execution_count": null,
   "id": "ee6bcb1b",
   "metadata": {
    "hidden": true,
    "tags": [
     "figure-7"
    ]
   },
   "outputs": [],
   "source": []
  },
  {
   "cell_type": "markdown",
   "id": "812a6952",
   "metadata": {
    "hidden": true
   },
   "source": [
    "Such rather detailed articles appeared mostly in metropolitan papers from Amsterdam, Den Haag, and Rotterdam, whereas most regional papers (e.g., the *Venloosche Courant*) only reported on the explosion on February 19, 1898. Beginning on February 20, Dutch news on the *Maine* became shorter and less frequent as they focused mainly on the explosion's aftermath, such as the number of casualties or the pending investigation of the wreck, rather than on the possible cause. Overall, as Bootsma concludes, \"[d]espite the ideological diversity of the Dutch press, most papers fitted into the almost general European pattern (British newspapers excepted) of condemning the American intervention in Cuba\" (Bootsma 40). In the first week after the sinking, Dutch papers did not rely on survivor or expert testimony at all, which is in stark contrast to German-language reporting and other national presses at the time. Military personnel (27.8%) and journalists (16.7%) were the most vocal actors in the press, while Sigsbee and politicians appeared less prominently (11.1% each). In addition, our data support the ideological diversity assumption in the Dutch press, which indicates an almost even distribution of published opinions that favor an accident (46.7%) and those that claim it was a deliberate attack (40%). "
   ]
  },
  {
   "cell_type": "markdown",
   "id": "20a5ee40",
   "metadata": {
    "heading_collapsed": true
   },
   "source": [
    "### Finland"
   ]
  },
  {
   "cell_type": "markdown",
   "id": "2b1744de",
   "metadata": {
    "hidden": true
   },
   "source": [
    "Our newspaper corpus on the *Maine* exposes various details about the Finnish press and the transatlantic dissemination of knowledge. The news appeared first in Helsinki and from there spread to smaller cities and towns. Although the number of newspapers written in Finnish was higher, the Swedish-language press, especially *Hufvudstadsbladet*, was the first to publish extensive reports about the explosion. Moreover, *Hufvudstadsbladet* appeared to dominate the internal dissemination of knowledge about the explosion because various newspapers referred to the reports published in this newspaper. In addition, the explosion of the *Maine* is a telling example of how the transmission of knowledge operated concerning an occurrence that took place far removed from, yet linked to, Finland. The efficient reporting of the event indicates that the Finnish people saw it as relevant and exciting news.  Moreover, the Finnish press also discovered a Finnish connection with the case, as they began to speculate that Arthur Brofeldt, a Finnish citizen who had emigrated to the United States, was serving on the ship.  In addition, and in contrast to other countries, Finnish newspapers mainly relied on expert testimony (60%). Sigsbee's note of caution is not mentioned at all. Nonetheless, most papers argued it was an accident (81.3%), which is a significant difference from the numbers in other countries. "
   ]
  },
  {
   "cell_type": "markdown",
   "id": "2afd602e",
   "metadata": {
    "heading_collapsed": true
   },
   "source": [
    "### Mexico"
   ]
  },
  {
   "cell_type": "markdown",
   "id": "d9b0b6cd",
   "metadata": {
    "hidden": true
   },
   "source": [
    "The Mexican news coverage showed both idiosyncrasies and similarities with other national presses. For instance, it differed from others in the fluidity and fast communication between continents. The reception of telegrams in Mexican news offices generated a lot of political confrontations that were in part fed by the clear and comparatively open stances of newspapers that covered the story. At the end of the nineteenth century, Mexico City was well connected to the conduits of global information flows. Due to its geographic location and a recent push to extend telegraph lines in the Western Hemisphere, Mexico was connected to Havana and Jamaica via a submarine cable and landlines to the United States. The emerging confrontation between the U.S. and Spain over hegemony in the Americas accelerated the telegraphic line's expansion in Mexico, which was part of a more extensive network of communication than, for example, that which existed in Germany, a country that relied primarily on Anglo-American news sources. Another interesting point in this context is that in the last decade of the nineteenth century, the press in Mexico was made up of a range of newspapers that represented not only the interests of various national or political groups but also those of foreign communities living in Mexico, notably the Spanish and the North American (Castellanos et al., 258).<br>\n",
    "Overall, the opinions voiced in the Mexican press tended towards an accident (50%), while voices asking for suspension of opinion (26.1%) and/or claiming an attack (23.9%) make up the rest. Mexican newspapers represent a comparatively balanced number of voices, especially Sigsbee (16.7%), politicians (15.6%), military personnel (13.3%), and experts (16.7%). Interestingly, we find both positions (accident and attack) distributed almost equally among the politicians whose opinions were printed. The rest are unanimous voices in favor of the accident theory. In the case of Sigsbee's opinion, we found evidence of the circulation of the fabricated Sigsbee-telegram showing the connection of some of the Mexican papers with the U.S. <br>\n",
    "In the days following the explosion of the *Maine*, the Mexican press featured opposing versions concerning its cause. For instance, *El Correo Español* published its anti-American stance in its editorials bluntly and openly. On the other hand, different versions about what happened came from New York, whose press broadly and quickly concluded that it was a targeted Spanish attack from Cuban soil. These and other versions were the excuses needed to attack both positions and the multiple statements that tried to deny both the torpedo/attack hypotheses. \n"
   ]
  },
  {
   "cell_type": "code",
   "execution_count": null,
   "id": "f249f11d",
   "metadata": {
    "hidden": true,
    "tags": [
     "figure-8"
    ]
   },
   "outputs": [],
   "source": []
  },
  {
   "cell_type": "markdown",
   "id": "c1d60329",
   "metadata": {
    "hidden": true
   },
   "source": [
    "In addition, more details about the tribulation, the *Maine*'s physical characteristics, and the time of service, among other aspects, were published. Many articles referenced Captain Sigsbee's statements to the press and the confrontation between his version of the facts before and after the explosion. Mexican newspapers consistently offered competing explanations about the explosion, both official ones and thos from the case's investigative group, who reported on how Spanish authorities had intercepted Captain Sigsbee's communications to and from the United States. There was also quite a bit of concern in the Mexican press because Spain had initially refused to allow American divers and experts to enter Havana harbor to inspect the *Maine*'s wreck. The newspapers also included satirical and mocking columns, usually on the margin of the official news. The Mexican press, influenced by the French and Spanish press, published opinion pieces like those in *Croniquillas* (a diminutive for chronicle), defined as gloss of a fact, of an event, that not only informs but judges and values (Parrat 146). Professional literary writers usually wrote these in a flexible style to show their point of view and their ingenuity.<br>\n",
    " \tDuring this study's investigation period, those who sympathized with Spain tended to be more active in the press than those who favored the American side. For instance, several prose pieces, poems, and songs dedicated to Spain appear in the Mexican press. Many of these literary texts also displayed a sense of *Schadenfreude* at seeing the *Maine* sunk. Other newspapers publicly sanctioned some positions, and the *Correo Español* was asked to retract what they had published. \n"
   ]
  },
  {
   "cell_type": "markdown",
   "id": "c39f0b87",
   "metadata": {
    "hidden": true
   },
   "source": [
    ">“If I was to speak frankly, of course I’ve felt the deaths<br>\n",
    ">from the explosion, but I don’t think is wrong that the Maine went down.<br>\n",
    ">This lost for someone with so much money is nothing.<br>\n",
    ">Is like picking a hair from a pig.” (*Continente >Americano*, February 20,1898)\n"
   ]
  },
  {
   "cell_type": "markdown",
   "id": "01f6aa3a",
   "metadata": {
    "hidden": true
   },
   "source": [
    "Notably, these two publications, under the title \"Thoughts from *El Correo Español* about the *Maine* disaster,\" aroused the publication of protest stories because of the \"outrageous\" demonstration of Spanish \"nobility.\" Newspapers, such as *Continente Americano*, edited in Mexico City, published a story on February 20, 1898, in which it explained that they refused to print some texts coming from Spain because of their high content of \"rude language\" and lamented the \"vengeful spirit\" of the received telegrams. *La Voz* and *El Imparcial* also published their opinions about the distasteful and inconvenient publication from the Spanish press. In response, *El Correo Español* published the following: "
   ]
  },
  {
   "cell_type": "markdown",
   "id": "4229013e",
   "metadata": {
    "hidden": true
   },
   "source": [
    ">*El Mundo y El Imparcial*,<br>\n",
    ">Que muestran su amor a España<br>\n",
    ">Cuantas veces se presenta<br>\n",
    ">La ocasión para alabarla, <br>\n",
    ">Con el asunto del “Maine”<br>\n",
    ">han dejado bien sentada<br>\n",
    ">su reputación de …. Sables,<br>\n",
    ">por no usar otra palabra.<br>\n",
    ">Su información es tan sólo<br>\n",
    ">De Cayo Hueso y de Tampa,<br>\n",
    ">Y por lo mismo insurrecta,<br>\n",
    ">Y por lo mismo muy mala.<br>\n",
    ">Hora es ya que se comprima<br>\n",
    ">la prensa subvencionada;<br>\n",
    ">hora es ya que se presente<br>\n",
    ">noblemente y cara á cara,<br>\n",
    ">para que todos sepamos<br>\n",
    ">si es ó no amiga de España.<br>\n",
    ">Porque nunca ha sido noble<br>\n",
    ">valerse de malas mañas,<br>\n",
    ">como hace todos los días<br>\n",
    ">la prensa subvencionada. <br>\n"
   ]
  },
  {
   "cell_type": "markdown",
   "id": "72b4edf1",
   "metadata": {
    "hidden": true
   },
   "source": [
    "American newspapers in Mexico, including those that tried to portray neutrality, refrained from publishing these literary forms when covering the events. However, one can easily detect an increase in opinion pieces about the diplomatic crisis that were in favor of American hegemony in the region and that argued for the need for the U.S. to intervene on the island as it saw fit, without authorization from Spain."
   ]
  },
  {
   "cell_type": "markdown",
   "id": "1a4cd8f2",
   "metadata": {
    "heading_collapsed": true
   },
   "source": [
    "## Conclusion: Remember the *Maine*?"
   ]
  },
  {
   "cell_type": "markdown",
   "id": "10b48069",
   "metadata": {
    "hidden": true
   },
   "source": [
    "Although largely forgotten in public education and imagination, the Spanish-American war played an essential role in changing the imperial guards in the Western Hemisphere. After a brief war of only four months, the United States had not only acquired control over Puerto Rico, Hawaii, Guam, the Philippines, and Cuba but had also asserted its role as the regional superpower and as a new and aspiring player on the international scene. The explosion of the *Maine* on February 15, 1898, is seen by historians as the point of no return on the imperial path for the U.S. While war sentiment was still relatively low immediately after the explosion, voices calling for armed intervention in Cuba grew in numbers and strength consistently during the spring of 1898. In light of a public geared up for military intervention in part by a warmongering yellow press and driven by political and economic interests, President McKinley decided to take the United States to war with Spain over its remaining holdings in the Western Hemisphere. In the months following the declaration of war against Spain, the American press reflected and amplified public opinion in the United States that was increasingly in favor of military intervention. By January 1898, the press and the public sympathized with the cause of Cuban independence, yet there was relatively strong disagreement over the right course of intervening in the conflict on the island. This sentiment began to shift towards war only after the sinking of the *Maine*, which remained an important reference point in the international press, especially in American papers, in the two months leading up to the outbreak of war. After the time window analyzed in this article (February 16-23, 1898), the slogan \"Remember the *Maine*, (to hell with Spain)!\" began to circulate throughout U.S. newspapers and was often cited and commented on in various international papers. This call for mobilization intensified, especially after the investigative committee's report was published on March 28, 1898, which attributed the cause of the explosion to a mine while remaining silent on who placed it. By the time Spain and the United States declared war on each other (on April 19 and 25, respectively), the American press was by and large behind the national cause of freeing Cuba and securing American interests in the region (Brown 145-46). <br>\n",
    "Our data-assisted approach to studying international reactions to a seminal event illustrates how national presses used specific authorities (e.g., military members, survivors, or politicians) to present certain opinions that served varying interest groups. When we look at how actors and their opinions on the incident are represented in newspaper data, we get a clearer sense of how newspapers shaped and reflected public opinion about the sinking of the *Maine* across the countries studied. We can conclude that except for the yellow press in the United States, there was no immediate call for war in the U.S. or the international press by politicians or experts, primarily because of Captain Sigsbee's note of caution that circulated in almost all the newspapers in all countries. Another relevant conclusion is that our results show that the press shaped local public opinion by the voices it reproduced and how often they were frequented. Notoriously, the U.S. press reported both the attack and accident hypotheses through a plurality of speakers. In Spain's case, the attack position came from reports from politicians in the United States or the reaction of Spanish politicians to what was said in Washington, as well as reports on what was circulating in the American press. By contrast, the possibility of it being an accident came from experts, military personnel, and survivors. The relative uniformity of the sources used for the U.S. case contrasts with the multiple voices used in the Spanish, and it shows how uniformity among those who supported the attack hypothesis skewed the information in favor of the accident hypothesis. With regard to countries with less interest in the conflict between Spain and the United States over Cuba, the sources tend to be less confident, with the extreme case being Finland, whose newspapers relied exclusively on experts. This may reflect different causes in each country, from the informative interest at the local level of the event to some political bias, to local journalistic practices and access to international news. <br>\n",
    "Our analysis of the international news coverage of a particular historical event presents several advantages over more conventional research methods while also being prone to limitations. Previous research projects have often relied on scholars spending time in physical archives, which was often necessarily limited to a single country or even a specific region or city. The increasing availability of digitized newspapers and information technology allows for a \"democratization\" of historical research due to access to material previously only available in print. While there are still many obstacles for scholars engaging with digital newspaper archives–ranging from a lack of access to specific papers owned by profit-oriented institutions to challenges involved in the computational processing of newspapers as data–the new access to historical information facilitated by newspaper archives and other data providers has generated new opportunities for research in the Humanities. The hybrid methods employed in the present research project, albeit still limited in the degree of automation and flexibility, have enabled the recognition of outliers and patterns in the data that would otherwise have been impossible or at least very difficult to detect. In addition, the transnational cooperation of scholars from various Humanities and Computational disciplines to study journalistic representations of an event with global repercussions has facilitated the inclusion of diverse viewpoints and approaches. <br>\n",
    "Finally, the present study offers insights into the self-referential nature of the international press system at the end of the nineteenth century. With our scalable method employed in studying newspaper data from that period, we were able to illustrate how certain newspapers paid attention to what happened in other countries through their newspapers, how they reacted to specific events of international scope, and how these were perceived at home and abroad. In doing so, many newspapers created and built upon already existing enemy and ally images; their gauging of public opinion in other countries in and through newspapers played a crucial role in foreign policy-making, as the case of the United States, and the willingness of its national community to engage in military conflict, makes particularly clear.\n"
   ]
  },
  {
   "cell_type": "markdown",
   "id": "63682617",
   "metadata": {},
   "source": [
    "## Works Cited"
   ]
  },
  {
   "cell_type": "markdown",
   "id": "fb8a1fb0",
   "metadata": {},
   "source": [
    "<div class=\"cite2c-biblio\"></div>"
   ]
  }
 ],
 "metadata": {
  "celltoolbar": "Tags",
  "cite2c": {
   "citations": {
    "11997852/GXPWN478": {
     "URL": "https://www.routledge.com/Albert-Camus-From-the-Absurd-to-Revolt/Foley/p/book/9781844651412",
     "abstract": "Adopting an interdisciplinary approach, encompassing philosophy, literature, politics and history, John Foley examines the full breadth of Camus' ideas to provide a comprehensive and rigorous study of his political and philosophical thought and a significant contribution to a range of debates current in Camus research. Foley argues that the coherence of Camus' thought can best be understood through a thorough understanding of the concepts of 'the absurd' and 'revolt' as well as the relation betw",
     "accessed": {
      "date-parts": [
       [
        2022,
        5,
        9
       ]
      ]
     },
     "author": [
      {
       "family": "Foley",
       "given": "John"
      }
     ],
     "container-title": "Routledge & CRC Press",
     "language": "en",
     "shortTitle": "Albert Camus",
     "title": "Albert Camus: From the Absurd to Revolt",
     "type": "webpage"
    },
    "11997852/TS5DAYJ2": {
     "URL": "https://figshare.com/articles/online_resource/The_Atlas_of_Digitised_Newspapers_and_Metadata_Reports_from_Oceanic_Exchanges/11560059",
     "author": [
      {
       "family": "Beals",
       "given": "Melodee"
      },
      {
       "family": "Bell",
       "given": "Emily"
      }
     ],
     "issued": {
      "date-parts": [
       [
        2020
       ]
      ]
     },
     "language": "en",
     "publisher": "Loughborough University",
     "title": "The Atlas of Digitised Newspapers and Metadata: Reports from Oceanic Exchanges",
     "type": "article"
    },
    "6095605/BQE457ZJ": {
     "DOI": "doi:",
     "URL": "https://doi.org/10.1215/00182168-73.3.539",
     "author": [
      {
       "family": "Benjamin",
       "given": "Jules R."
      }
     ],
     "container-title": "Hispanic American Historical Review",
     "issue": "3",
     "issued": {
      "date-parts": [
       [
        1993,
        8,
        1
       ]
      ]
     },
     "language": "en",
     "page": "539–540",
     "title": "An Unwanted War: The Diplomacy of the United States and Spain over Cuba, 1895-1898",
     "type": "article-journal",
     "volume": "73"
    },
    "6095605/N5ZSHPCA": {
     "DOI": "10.6084/M9.FIGSHARE.11560059.V2",
     "URL": "https://figshare.com/articles/The_Atlas_of_Digitised_Newspapers_and_Metadata_Reports_from_Oceanic_Exchanges/11560059/2",
     "abstract": "Between 2017 and 2019, <i>Oceanic Exchanges</i>, funded through the Transatlantic Partnership for Social Sciences and Humanities 2016 Digging into Data Challenge (https://diggingintodata.org), brought together leading efforts in computational periodicals research from six countries—Finland, Germany, Mexico, the Netherlands, the United Kingdom, and the United States—to examine patterns of information flow across national and linguistic boundaries. Over the past thirty years, national libraries, universities and commercial publishers around the world have made available hundreds of millions of pages of historical newspapers through mass digitisation and currently release over one million new pages per month worldwide. These have become vital resources not only for academics but for journalists, politicians, schools, and the general public. However, these digitisation programmes share a critical weakness: the very creation of national newspapers collections obscures the fact that international news exchange was central to the nineteenth-century press. The <i>Atlas of Digitised Newspapers and Metadata </i>is an open access guide to digitised newspapers around the world. Its initial selection is limited in scope, being comprised of the ten databases (including the aggregator Europeana) for which we were able to secure access and licensing to the machine-readable data. Nonetheless, it aims to form the foundation of a wider mapping of collections beyond its current North Atlantic and Anglophone-Pacific focus. It brings together their histories and digitisation choices with a deeper look at the language of the digitised newspaper, the evolution of newspaper terminology and the variety of metadata available in these collections. It explores how machine-readable information about an issue, volume, page, and author is stored in the digital file alongside the raw content or text, and provides a controlled vocabulary designed to be used across disciplines, within academia and beyond.",
     "accessed": {
      "date-parts": [
       [
        2022,
        9,
        14
       ]
      ]
     },
     "author": [
      {
       "family": "Beals",
       "given": "Melodee"
      },
      {
       "family": "Bell",
       "given": "Emily"
      }
     ],
     "issued": {
      "date-parts": [
       [
        2020
       ]
      ]
     },
     "page": "1225056 Bytes",
     "shortTitle": "The Atlas of Digitised Newspapers and Metadata",
     "title": "The Atlas of Digitised Newspapers and Metadata: Reports from Oceanic Exchanges",
     "type": "article-journal"
    },
    "undefined": {
     "DOI": "10.6084/M9.FIGSHARE.11560059.V2",
     "URL": "https://figshare.com/articles/The_Atlas_of_Digitised_Newspapers_and_Metadata_Reports_from_Oceanic_Exchanges/11560059/2",
     "abstract": "Between 2017 and 2019, <i>Oceanic Exchanges</i>, funded through the Transatlantic Partnership for Social Sciences and Humanities 2016 Digging into Data Challenge (https://diggingintodata.org), brought together leading efforts in computational periodicals research from six countries—Finland, Germany, Mexico, the Netherlands, the United Kingdom, and the United States—to examine patterns of information flow across national and linguistic boundaries. Over the past thirty years, national libraries, universities and commercial publishers around the world have made available hundreds of millions of pages of historical newspapers through mass digitisation and currently release over one million new pages per month worldwide. These have become vital resources not only for academics but for journalists, politicians, schools, and the general public. However, these digitisation programmes share a critical weakness: the very creation of national newspapers collections obscures the fact that international news exchange was central to the nineteenth-century press. The <i>Atlas of Digitised Newspapers and Metadata </i>is an open access guide to digitised newspapers around the world. Its initial selection is limited in scope, being comprised of the ten databases (including the aggregator Europeana) for which we were able to secure access and licensing to the machine-readable data. Nonetheless, it aims to form the foundation of a wider mapping of collections beyond its current North Atlantic and Anglophone-Pacific focus. It brings together their histories and digitisation choices with a deeper look at the language of the digitised newspaper, the evolution of newspaper terminology and the variety of metadata available in these collections. It explores how machine-readable information about an issue, volume, page, and author is stored in the digital file alongside the raw content or text, and provides a controlled vocabulary designed to be used across disciplines, within academia and beyond.",
     "accessed": {
      "date-parts": [
       [
        2022,
        9,
        14
       ]
      ]
     },
     "author": [
      {
       "family": "Beals",
       "given": "Melodee"
      },
      {
       "family": "Bell",
       "given": "Emily"
      }
     ],
     "issued": {
      "date-parts": [
       [
        2020
       ]
      ]
     },
     "page": "1225056 Bytes",
     "shortTitle": "The Atlas of Digitised Newspapers and Metadata",
     "title": "The Atlas of Digitised Newspapers and Metadata: Reports from Oceanic Exchanges",
     "type": "article-journal"
    }
   }
  },
  "kernelspec": {
   "display_name": "Python 3 (ipykernel)",
   "language": "python",
   "name": "python3"
  },
  "language_info": {
   "codemirror_mode": {
    "name": "ipython",
    "version": 3
   },
   "file_extension": ".py",
   "mimetype": "text/x-python",
   "name": "python",
   "nbconvert_exporter": "python",
   "pygments_lexer": "ipython3",
   "version": "3.10.7"
  },
  "toc": {
   "base_numbering": 1,
   "nav_menu": {},
   "number_sections": true,
   "sideBar": true,
   "skip_h1_title": false,
   "title_cell": "Table of Contents",
   "title_sidebar": "Contents",
   "toc_cell": false,
   "toc_position": {
    "height": "calc(100% - 180px)",
    "left": "10px",
    "top": "150px",
    "width": "165px"
   },
   "toc_section_display": true,
   "toc_window_display": false
  }
 },
 "nbformat": 4,
 "nbformat_minor": 5
}
